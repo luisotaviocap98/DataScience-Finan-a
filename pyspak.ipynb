{
 "cells": [
  {
   "cell_type": "code",
   "execution_count": 1,
   "metadata": {},
   "outputs": [],
   "source": [
    "import sys\n",
    "sys.path.insert(0, '../')\n",
    "from bibliotecas import base_estudantes, job, magalu, alunos, petrobras, sns, np, pd, plt, yf, px, go, sp, wn, quandl, date, db, geobr, gpd, os\n",
    "wn.filterwarnings('ignore')\n",
    "import pmdarima\n",
    "from pyspark.sql import SparkSession"
   ]
  },
  {
   "cell_type": "markdown",
   "metadata": {},
   "source": [
    "api para apache spark, faz processamento distribuido de big data"
   ]
  },
  {
   "cell_type": "code",
   "execution_count": 3,
   "metadata": {},
   "outputs": [
    {
     "name": "stdout",
     "output_type": "stream",
     "text": [
      "22/07/27 10:11:38 WARN Utils: Your hostname, luisotavio-Aspire5 resolves to a loopback address: 127.0.1.1; using 192.168.1.11 instead (on interface wlp0s20f3)\n",
      "22/07/27 10:11:38 WARN Utils: Set SPARK_LOCAL_IP if you need to bind to another address\n"
     ]
    },
    {
     "name": "stderr",
     "output_type": "stream",
     "text": [
      "Setting default log level to \"WARN\".\n",
      "To adjust logging level use sc.setLogLevel(newLevel). For SparkR, use setLogLevel(newLevel).\n"
     ]
    },
    {
     "name": "stdout",
     "output_type": "stream",
     "text": [
      "22/07/27 10:11:38 WARN NativeCodeLoader: Unable to load native-hadoop library for your platform... using builtin-java classes where applicable\n"
     ]
    }
   ],
   "source": [
    "sp = SparkSession.builder.appName('DF').getOrCreate()"
   ]
  },
  {
   "cell_type": "code",
   "execution_count": 4,
   "metadata": {},
   "outputs": [
    {
     "data": {
      "text/html": [
       "\n",
       "            <div>\n",
       "                <p><b>SparkSession - in-memory</b></p>\n",
       "                \n",
       "        <div>\n",
       "            <p><b>SparkContext</b></p>\n",
       "\n",
       "            <p><a href=\"http://192.168.1.11:4040\">Spark UI</a></p>\n",
       "\n",
       "            <dl>\n",
       "              <dt>Version</dt>\n",
       "                <dd><code>v3.3.0</code></dd>\n",
       "              <dt>Master</dt>\n",
       "                <dd><code>local[*]</code></dd>\n",
       "              <dt>AppName</dt>\n",
       "                <dd><code>DF</code></dd>\n",
       "            </dl>\n",
       "        </div>\n",
       "        \n",
       "            </div>\n",
       "        "
      ],
      "text/plain": [
       "<pyspark.sql.session.SparkSession at 0x7f69b7de22b0>"
      ]
     },
     "execution_count": 4,
     "metadata": {},
     "output_type": "execute_result"
    }
   ],
   "source": [
    "sp"
   ]
  },
  {
   "cell_type": "code",
   "execution_count": 10,
   "metadata": {},
   "outputs": [],
   "source": [
    "df = sp.read.csv('Dados_TesteSpark.csv', header=True, inferSchema=True, sep=',')"
   ]
  },
  {
   "cell_type": "code",
   "execution_count": 11,
   "metadata": {},
   "outputs": [
    {
     "name": "stdout",
     "output_type": "stream",
     "text": [
      "root\n",
      " |-- Numero_01: integer (nullable = true)\n",
      " |-- Numero_02: integer (nullable = true)\n",
      " |-- Numero_03: integer (nullable = true)\n",
      " |-- Numero_04: integer (nullable = true)\n",
      " |-- Classe: integer (nullable = true)\n",
      "\n"
     ]
    }
   ],
   "source": [
    "df.printSchema()"
   ]
  },
  {
   "cell_type": "code",
   "execution_count": 12,
   "metadata": {},
   "outputs": [
    {
     "name": "stdout",
     "output_type": "stream",
     "text": [
      "+---------+---------+---------+---------+------+\n",
      "|Numero_01|Numero_02|Numero_03|Numero_04|Classe|\n",
      "+---------+---------+---------+---------+------+\n",
      "|      316|      706|      617|      803|     1|\n",
      "|      306|      580|      452|       91|     1|\n",
      "|      705|      628|        4|      665|     1|\n",
      "|      303|       48|      746|      956|     2|\n",
      "|       39|      489|       89|      702|     1|\n",
      "|      791|      136|      974|       48|     3|\n",
      "|      874|      931|      386|      963|     1|\n",
      "|      723|      880|       88|      357|     2|\n",
      "|      787|       81|      412|      793|     2|\n",
      "|      221|      477|      568|      330|     2|\n",
      "|      726|      430|      434|      632|     1|\n",
      "|      146|        4|      224|       27|     3|\n",
      "|      982|      140|       47|      878|     2|\n",
      "|      553|      420|      184|      519|     1|\n",
      "|      281|      555|      379|      862|     1|\n",
      "|      396|      812|      678|      700|     3|\n",
      "|      754|      635|        9|      679|     2|\n",
      "|      970|      152|      191|      984|     3|\n",
      "|      151|       98|      925|      262|     3|\n",
      "|      691|      635|      756|       46|     2|\n",
      "+---------+---------+---------+---------+------+\n",
      "only showing top 20 rows\n",
      "\n"
     ]
    }
   ],
   "source": [
    "df.show()"
   ]
  },
  {
   "cell_type": "code",
   "execution_count": 13,
   "metadata": {},
   "outputs": [
    {
     "name": "stdout",
     "output_type": "stream",
     "text": [
      "+---------+------+\n",
      "|Numero_01|Classe|\n",
      "+---------+------+\n",
      "|      316|     1|\n",
      "|      306|     1|\n",
      "|      705|     1|\n",
      "|      303|     2|\n",
      "|       39|     1|\n",
      "|      791|     3|\n",
      "|      874|     1|\n",
      "|      723|     2|\n",
      "|      787|     2|\n",
      "|      221|     2|\n",
      "|      726|     1|\n",
      "|      146|     3|\n",
      "|      982|     2|\n",
      "|      553|     1|\n",
      "|      281|     1|\n",
      "|      396|     3|\n",
      "|      754|     2|\n",
      "|      970|     3|\n",
      "|      151|     3|\n",
      "|      691|     2|\n",
      "+---------+------+\n",
      "only showing top 20 rows\n",
      "\n"
     ]
    }
   ],
   "source": [
    "df.select(['Numero_01','Classe']).show()"
   ]
  },
  {
   "cell_type": "code",
   "execution_count": 18,
   "metadata": {},
   "outputs": [
    {
     "name": "stdout",
     "output_type": "stream",
     "text": [
      "+-------+-----------------+-----------------+------------------+----------------+------------------+\n",
      "|summary|        Numero_01|        Numero_02|         Numero_03|       Numero_04|            Classe|\n",
      "+-------+-----------------+-----------------+------------------+----------------+------------------+\n",
      "|  count|              100|              100|                98|             100|               100|\n",
      "|   mean|           491.27|           514.68|454.66326530612247|           539.3|              2.02|\n",
      "| stddev|279.5811750357013|288.2428437441197|272.47744421460413|304.324139394465|0.7518327774528889|\n",
      "|    min|                8|                4|                 4|              24|                 1|\n",
      "|    max|              998|              995|               974|             999|                 3|\n",
      "+-------+-----------------+-----------------+------------------+----------------+------------------+\n",
      "\n"
     ]
    }
   ],
   "source": [
    "df.describe().show()"
   ]
  },
  {
   "cell_type": "code",
   "execution_count": 19,
   "metadata": {},
   "outputs": [
    {
     "name": "stdout",
     "output_type": "stream",
     "text": [
      "+---------+---------+---------+---------+------+----+\n",
      "|Numero_01|Numero_02|Numero_03|Numero_04|Classe|Nova|\n",
      "+---------+---------+---------+---------+------+----+\n",
      "|      316|      706|      617|      803|     1| 948|\n",
      "|      306|      580|      452|       91|     1| 918|\n",
      "|      705|      628|        4|      665|     1|2115|\n",
      "|      303|       48|      746|      956|     2| 909|\n",
      "|       39|      489|       89|      702|     1| 117|\n",
      "|      791|      136|      974|       48|     3|2373|\n",
      "|      874|      931|      386|      963|     1|2622|\n",
      "|      723|      880|       88|      357|     2|2169|\n",
      "|      787|       81|      412|      793|     2|2361|\n",
      "|      221|      477|      568|      330|     2| 663|\n",
      "|      726|      430|      434|      632|     1|2178|\n",
      "|      146|        4|      224|       27|     3| 438|\n",
      "|      982|      140|       47|      878|     2|2946|\n",
      "|      553|      420|      184|      519|     1|1659|\n",
      "|      281|      555|      379|      862|     1| 843|\n",
      "|      396|      812|      678|      700|     3|1188|\n",
      "|      754|      635|        9|      679|     2|2262|\n",
      "|      970|      152|      191|      984|     3|2910|\n",
      "|      151|       98|      925|      262|     3| 453|\n",
      "|      691|      635|      756|       46|     2|2073|\n",
      "+---------+---------+---------+---------+------+----+\n",
      "only showing top 20 rows\n",
      "\n"
     ]
    }
   ],
   "source": [
    "# criar coluna\n",
    "df = df.withColumn('Nova', df['Numero_01']*3)\n",
    "df.show()"
   ]
  },
  {
   "cell_type": "code",
   "execution_count": 20,
   "metadata": {},
   "outputs": [
    {
     "name": "stdout",
     "output_type": "stream",
     "text": [
      "+---------+---------+---------+------+----+\n",
      "|Numero_01|Numero_02|Numero_04|Classe|Nova|\n",
      "+---------+---------+---------+------+----+\n",
      "|      316|      706|      803|     1| 948|\n",
      "|      306|      580|       91|     1| 918|\n",
      "|      705|      628|      665|     1|2115|\n",
      "|      303|       48|      956|     2| 909|\n",
      "|       39|      489|      702|     1| 117|\n",
      "|      791|      136|       48|     3|2373|\n",
      "|      874|      931|      963|     1|2622|\n",
      "|      723|      880|      357|     2|2169|\n",
      "|      787|       81|      793|     2|2361|\n",
      "|      221|      477|      330|     2| 663|\n",
      "|      726|      430|      632|     1|2178|\n",
      "|      146|        4|       27|     3| 438|\n",
      "|      982|      140|      878|     2|2946|\n",
      "|      553|      420|      519|     1|1659|\n",
      "|      281|      555|      862|     1| 843|\n",
      "|      396|      812|      700|     3|1188|\n",
      "|      754|      635|      679|     2|2262|\n",
      "|      970|      152|      984|     3|2910|\n",
      "|      151|       98|      262|     3| 453|\n",
      "|      691|      635|       46|     2|2073|\n",
      "+---------+---------+---------+------+----+\n",
      "only showing top 20 rows\n",
      "\n"
     ]
    }
   ],
   "source": [
    "df = df.drop('Numero_03')\n",
    "df.show()"
   ]
  },
  {
   "cell_type": "code",
   "execution_count": 21,
   "metadata": {},
   "outputs": [
    {
     "data": {
      "text/plain": [
       "DataFrame[Numero_01: int, Numero_02: int, Numero_04: int, Classe: int, Nova: int]"
      ]
     },
     "execution_count": 21,
     "metadata": {},
     "output_type": "execute_result"
    }
   ],
   "source": [
    "df.na.drop()"
   ]
  },
  {
   "cell_type": "code",
   "execution_count": 24,
   "metadata": {},
   "outputs": [
    {
     "name": "stdout",
     "output_type": "stream",
     "text": [
      "+---------+---------+---------+------+----+\n",
      "|Numero_01|Numero_02|Numero_04|Classe|Nova|\n",
      "+---------+---------+---------+------+----+\n",
      "|      982|      140|      878|     2|2946|\n",
      "|      970|      152|      984|     3|2910|\n",
      "|      980|      924|      895|     2|2940|\n",
      "|      938|      237|      830|     2|2814|\n",
      "|      916|      229|      557|     3|2748|\n",
      "|      968|      143|      666|     2|2904|\n",
      "|      998|      856|      464|     2|2994|\n",
      "|      973|      389|      389|     1|2919|\n",
      "+---------+---------+---------+------+----+\n",
      "\n"
     ]
    }
   ],
   "source": [
    "df.filter('Numero_01 > 900').show()"
   ]
  },
  {
   "cell_type": "code",
   "execution_count": 25,
   "metadata": {},
   "outputs": [
    {
     "name": "stdout",
     "output_type": "stream",
     "text": [
      "+------+--------------+--------------+--------------+-----------+---------+\n",
      "|Classe|sum(Numero_01)|sum(Numero_02)|sum(Numero_04)|sum(Classe)|sum(Nova)|\n",
      "+------+--------------+--------------+--------------+-----------+---------+\n",
      "|     1|         12943|         13147|         15180|         27|    38829|\n",
      "|     3|         14077|         14180|         16782|         87|    42231|\n",
      "|     2|         22107|         24141|         21968|         88|    66321|\n",
      "+------+--------------+--------------+--------------+-----------+---------+\n",
      "\n"
     ]
    }
   ],
   "source": [
    "df.groupBy('Classe').sum().show()"
   ]
  },
  {
   "cell_type": "code",
   "execution_count": 34,
   "metadata": {},
   "outputs": [],
   "source": [
    "df = df.fillna(0)"
   ]
  },
  {
   "cell_type": "code",
   "execution_count": 26,
   "metadata": {},
   "outputs": [],
   "source": [
    "from pyspark.ml.feature import VectorAssembler"
   ]
  },
  {
   "cell_type": "code",
   "execution_count": 35,
   "metadata": {},
   "outputs": [],
   "source": [
    "co = VectorAssembler(inputCols=['Numero_01','Numero_02'], outputCol='Corr').transform(df.select(['Numero_01','Numero_02']))"
   ]
  },
  {
   "cell_type": "code",
   "execution_count": 29,
   "metadata": {},
   "outputs": [],
   "source": [
    "from pyspark.ml.stat import Correlation"
   ]
  },
  {
   "cell_type": "code",
   "execution_count": 36,
   "metadata": {},
   "outputs": [],
   "source": [
    "pearson = Correlation.corr(co, 'Corr', 'pearson').collect()"
   ]
  }
 ],
 "metadata": {
  "kernelspec": {
   "display_name": "Python 3.8.10 64-bit",
   "language": "python",
   "name": "python3"
  },
  "language_info": {
   "codemirror_mode": {
    "name": "ipython",
    "version": 3
   },
   "file_extension": ".py",
   "mimetype": "text/x-python",
   "name": "python",
   "nbconvert_exporter": "python",
   "pygments_lexer": "ipython3",
   "version": "3.8.10"
  },
  "orig_nbformat": 4,
  "vscode": {
   "interpreter": {
    "hash": "916dbcbb3f70747c44a77c7bcd40155683ae19c65e1c03b4aa3499c5328201f1"
   }
  }
 },
 "nbformat": 4,
 "nbformat_minor": 2
}
