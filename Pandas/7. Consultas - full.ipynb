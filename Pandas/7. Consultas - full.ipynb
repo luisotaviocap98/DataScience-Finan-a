{
 "cells": [
  {
   "cell_type": "code",
   "execution_count": 1,
   "metadata": {},
   "outputs": [],
   "source": [
    "import pandas as pd\n",
    "import numpy as np"
   ]
  },
  {
   "cell_type": "code",
   "execution_count": 2,
   "metadata": {},
   "outputs": [],
   "source": [
    "np.random.seed(10)\n",
    "n = 50_000\n",
    "\n",
    "escolaridade = ['Ensino Fundamental', 'Ensino Médio', 'Ensino Superior']\n",
    "\n",
    "data = {\n",
    "    'Id': np.arange(1, n+1),\n",
    "    'Idade': np.random.randint(18, 70, size = n),\n",
    "    'Renda': np.random.randint(1_500, 10_000, size = n),\n",
    "    'Sexo': np.random.choice(['Masculino', 'Feminino'], size = n),\n",
    "    'Escolaridade': np.random.choice(escolaridade, size = n)\n",
    "}\n",
    "\n",
    "df = pd.DataFrame(data)"
   ]
  },
  {
   "cell_type": "code",
   "execution_count": 3,
   "metadata": {},
   "outputs": [],
   "source": [
    "np.random.seed(7)\n",
    "ativos = pd.Series(np.random.normal(3_000, 1000, size = n)).round(2)"
   ]
  },
  {
   "cell_type": "code",
   "execution_count": 4,
   "metadata": {},
   "outputs": [],
   "source": [
    "# cria coluna de ativos\n",
    "df['ativo'] = ativos"
   ]
  },
  {
   "cell_type": "code",
   "execution_count": 5,
   "metadata": {},
   "outputs": [],
   "source": [
    "# cria coluna de renda total\n",
    "df['renda_total'] = df['Renda']+df['ativo']"
   ]
  },
  {
   "cell_type": "code",
   "execution_count": 6,
   "metadata": {},
   "outputs": [],
   "source": [
    "# renda média (ativos e renda)\n",
    "renda_media = df.loc[:, ['Renda', 'ativo']].mean(axis = 1)"
   ]
  },
  {
   "cell_type": "code",
   "execution_count": 7,
   "metadata": {},
   "outputs": [],
   "source": [
    "# posição da coluna 'ativo'\n",
    "posicao = df.columns.to_list().index('ativo')"
   ]
  },
  {
   "cell_type": "code",
   "execution_count": 8,
   "metadata": {},
   "outputs": [],
   "source": [
    "# insere a coluna renda_media na posição da coluna 'ativo'\n",
    "df.insert(posicao, 'renda_média', renda_media )"
   ]
  },
  {
   "cell_type": "code",
   "execution_count": 9,
   "metadata": {},
   "outputs": [
    {
     "data": {
      "text/html": [
       "<div>\n",
       "<style scoped>\n",
       "    .dataframe tbody tr th:only-of-type {\n",
       "        vertical-align: middle;\n",
       "    }\n",
       "\n",
       "    .dataframe tbody tr th {\n",
       "        vertical-align: top;\n",
       "    }\n",
       "\n",
       "    .dataframe thead th {\n",
       "        text-align: right;\n",
       "    }\n",
       "</style>\n",
       "<table border=\"1\" class=\"dataframe\">\n",
       "  <thead>\n",
       "    <tr style=\"text-align: right;\">\n",
       "      <th></th>\n",
       "      <th>Id</th>\n",
       "      <th>Idade</th>\n",
       "      <th>Renda</th>\n",
       "      <th>Sexo</th>\n",
       "      <th>Escolaridade</th>\n",
       "      <th>renda_média</th>\n",
       "      <th>ativo</th>\n",
       "      <th>renda_total</th>\n",
       "    </tr>\n",
       "  </thead>\n",
       "  <tbody>\n",
       "    <tr>\n",
       "      <th>0</th>\n",
       "      <td>1</td>\n",
       "      <td>27</td>\n",
       "      <td>2554</td>\n",
       "      <td>Feminino</td>\n",
       "      <td>Ensino Fundamental</td>\n",
       "      <td>3622.265</td>\n",
       "      <td>4690.53</td>\n",
       "      <td>7244.53</td>\n",
       "    </tr>\n",
       "    <tr>\n",
       "      <th>1</th>\n",
       "      <td>2</td>\n",
       "      <td>54</td>\n",
       "      <td>2475</td>\n",
       "      <td>Feminino</td>\n",
       "      <td>Ensino Superior</td>\n",
       "      <td>2504.530</td>\n",
       "      <td>2534.06</td>\n",
       "      <td>5009.06</td>\n",
       "    </tr>\n",
       "    <tr>\n",
       "      <th>2</th>\n",
       "      <td>3</td>\n",
       "      <td>33</td>\n",
       "      <td>6820</td>\n",
       "      <td>Masculino</td>\n",
       "      <td>Ensino Superior</td>\n",
       "      <td>4926.410</td>\n",
       "      <td>3032.82</td>\n",
       "      <td>9852.82</td>\n",
       "    </tr>\n",
       "    <tr>\n",
       "      <th>3</th>\n",
       "      <td>4</td>\n",
       "      <td>18</td>\n",
       "      <td>2141</td>\n",
       "      <td>Masculino</td>\n",
       "      <td>Ensino Médio</td>\n",
       "      <td>2774.260</td>\n",
       "      <td>3407.52</td>\n",
       "      <td>5548.52</td>\n",
       "    </tr>\n",
       "    <tr>\n",
       "      <th>4</th>\n",
       "      <td>5</td>\n",
       "      <td>67</td>\n",
       "      <td>7381</td>\n",
       "      <td>Masculino</td>\n",
       "      <td>Ensino Fundamental</td>\n",
       "      <td>4796.040</td>\n",
       "      <td>2211.08</td>\n",
       "      <td>9592.08</td>\n",
       "    </tr>\n",
       "    <tr>\n",
       "      <th>...</th>\n",
       "      <td>...</td>\n",
       "      <td>...</td>\n",
       "      <td>...</td>\n",
       "      <td>...</td>\n",
       "      <td>...</td>\n",
       "      <td>...</td>\n",
       "      <td>...</td>\n",
       "      <td>...</td>\n",
       "    </tr>\n",
       "    <tr>\n",
       "      <th>49995</th>\n",
       "      <td>49996</td>\n",
       "      <td>41</td>\n",
       "      <td>3102</td>\n",
       "      <td>Feminino</td>\n",
       "      <td>Ensino Superior</td>\n",
       "      <td>2232.080</td>\n",
       "      <td>1362.16</td>\n",
       "      <td>4464.16</td>\n",
       "    </tr>\n",
       "    <tr>\n",
       "      <th>49996</th>\n",
       "      <td>49997</td>\n",
       "      <td>33</td>\n",
       "      <td>3906</td>\n",
       "      <td>Feminino</td>\n",
       "      <td>Ensino Superior</td>\n",
       "      <td>3629.200</td>\n",
       "      <td>3352.40</td>\n",
       "      <td>7258.40</td>\n",
       "    </tr>\n",
       "    <tr>\n",
       "      <th>49997</th>\n",
       "      <td>49998</td>\n",
       "      <td>41</td>\n",
       "      <td>2543</td>\n",
       "      <td>Masculino</td>\n",
       "      <td>Ensino Superior</td>\n",
       "      <td>2894.955</td>\n",
       "      <td>3246.91</td>\n",
       "      <td>5789.91</td>\n",
       "    </tr>\n",
       "    <tr>\n",
       "      <th>49998</th>\n",
       "      <td>49999</td>\n",
       "      <td>22</td>\n",
       "      <td>4651</td>\n",
       "      <td>Feminino</td>\n",
       "      <td>Ensino Superior</td>\n",
       "      <td>3972.110</td>\n",
       "      <td>3293.22</td>\n",
       "      <td>7944.22</td>\n",
       "    </tr>\n",
       "    <tr>\n",
       "      <th>49999</th>\n",
       "      <td>50000</td>\n",
       "      <td>22</td>\n",
       "      <td>2131</td>\n",
       "      <td>Feminino</td>\n",
       "      <td>Ensino Superior</td>\n",
       "      <td>2583.720</td>\n",
       "      <td>3036.44</td>\n",
       "      <td>5167.44</td>\n",
       "    </tr>\n",
       "  </tbody>\n",
       "</table>\n",
       "<p>50000 rows × 8 columns</p>\n",
       "</div>"
      ],
      "text/plain": [
       "          Id  Idade  Renda       Sexo        Escolaridade  renda_média  \\\n",
       "0          1     27   2554   Feminino  Ensino Fundamental     3622.265   \n",
       "1          2     54   2475   Feminino     Ensino Superior     2504.530   \n",
       "2          3     33   6820  Masculino     Ensino Superior     4926.410   \n",
       "3          4     18   2141  Masculino        Ensino Médio     2774.260   \n",
       "4          5     67   7381  Masculino  Ensino Fundamental     4796.040   \n",
       "...      ...    ...    ...        ...                 ...          ...   \n",
       "49995  49996     41   3102   Feminino     Ensino Superior     2232.080   \n",
       "49996  49997     33   3906   Feminino     Ensino Superior     3629.200   \n",
       "49997  49998     41   2543  Masculino     Ensino Superior     2894.955   \n",
       "49998  49999     22   4651   Feminino     Ensino Superior     3972.110   \n",
       "49999  50000     22   2131   Feminino     Ensino Superior     2583.720   \n",
       "\n",
       "         ativo  renda_total  \n",
       "0      4690.53      7244.53  \n",
       "1      2534.06      5009.06  \n",
       "2      3032.82      9852.82  \n",
       "3      3407.52      5548.52  \n",
       "4      2211.08      9592.08  \n",
       "...        ...          ...  \n",
       "49995  1362.16      4464.16  \n",
       "49996  3352.40      7258.40  \n",
       "49997  3246.91      5789.91  \n",
       "49998  3293.22      7944.22  \n",
       "49999  3036.44      5167.44  \n",
       "\n",
       "[50000 rows x 8 columns]"
      ]
     },
     "execution_count": 9,
     "metadata": {},
     "output_type": "execute_result"
    }
   ],
   "source": [
    "df"
   ]
  },
  {
   "cell_type": "markdown",
   "metadata": {},
   "source": [
    "## Consultas\n",
    "Nesta seção aprenderemos a fazer filtro com os dados. Por exemplo, como filtrar os dados a partir de uma determianda categorica ou de um conjunto de condições?"
   ]
  },
  {
   "cell_type": "code",
   "execution_count": null,
   "metadata": {},
   "outputs": [],
   "source": [
    "df.head()"
   ]
  },
  {
   "cell_type": "code",
   "execution_count": null,
   "metadata": {},
   "outputs": [],
   "source": [
    "# condição simples: filtra os dados a partir do sexo Feminino\n",
    "df[df.Sexo == 'Feminino']"
   ]
  },
  {
   "cell_type": "code",
   "execution_count": null,
   "metadata": {},
   "outputs": [],
   "source": [
    "# shape do filtro\n",
    "df[df.Sexo == 'Feminino'].shape[0]"
   ]
  },
  {
   "cell_type": "code",
   "execution_count": null,
   "metadata": {},
   "outputs": [],
   "source": [
    "# condição simples: filtra os dados a partir do sexo Feminino\n",
    "df.query('Sexo == \"Feminino\"')"
   ]
  },
  {
   "cell_type": "code",
   "execution_count": null,
   "metadata": {},
   "outputs": [],
   "source": [
    "df.query(\"Sexo == 'Feminino'\").shape[0]"
   ]
  },
  {
   "cell_type": "code",
   "execution_count": null,
   "metadata": {},
   "outputs": [],
   "source": [
    "#SyntaxError: invalid syntax: df.query(\"Sexo == \"Feminino\"\")"
   ]
  },
  {
   "cell_type": "code",
   "execution_count": null,
   "metadata": {},
   "outputs": [],
   "source": [
    "# condição simples: filtra os dados a partir do sexo Feminino\n",
    "df.loc[df.Sexo == 'Feminino'].shape[0]"
   ]
  },
  {
   "cell_type": "code",
   "execution_count": null,
   "metadata": {},
   "outputs": [],
   "source": [
    "# condição 1: sexo feminino\n",
    "# condição 2: escolaridade ensino superior\n",
    "# AND: &\n",
    "df[(df.Sexo == 'Feminino') & (df.Escolaridade == 'Ensino Superior')]"
   ]
  },
  {
   "cell_type": "code",
   "execution_count": null,
   "metadata": {},
   "outputs": [],
   "source": [
    "df[(df.Sexo == 'Feminino') & (df.Escolaridade == 'Ensino Superior')].shape"
   ]
  },
  {
   "cell_type": "code",
   "execution_count": null,
   "metadata": {},
   "outputs": [],
   "source": [
    "df.query(\"(Sexo == 'Feminino') & (Escolaridade == 'Ensino Superior')\")"
   ]
  },
  {
   "cell_type": "code",
   "execution_count": null,
   "metadata": {},
   "outputs": [],
   "source": [
    "df.query(\"(Sexo == 'Feminino') & (Escolaridade == 'Ensino Superior')\").shape"
   ]
  },
  {
   "cell_type": "code",
   "execution_count": null,
   "metadata": {},
   "outputs": [],
   "source": [
    "df.loc[(df.Sexo == 'Feminino') & (df.Escolaridade == 'Ensino Superior')].shape"
   ]
  },
  {
   "cell_type": "code",
   "execution_count": null,
   "metadata": {},
   "outputs": [],
   "source": [
    "# condição 1: sexo masculino\n",
    "# condição 2: renda>= 7_500"
   ]
  },
  {
   "cell_type": "code",
   "execution_count": null,
   "metadata": {},
   "outputs": [],
   "source": [
    "df[(df.Sexo == 'Masculino') & (df.Renda >= 7_500)]"
   ]
  },
  {
   "cell_type": "code",
   "execution_count": null,
   "metadata": {},
   "outputs": [],
   "source": [
    "df[(df.Sexo == 'Masculino') & (df.Renda >= 7_500)].shape"
   ]
  },
  {
   "cell_type": "code",
   "execution_count": null,
   "metadata": {},
   "outputs": [],
   "source": [
    "df.query('(Sexo == \"Masculino\") & (Renda >= 7_500)').shape"
   ]
  },
  {
   "cell_type": "code",
   "execution_count": null,
   "metadata": {},
   "outputs": [],
   "source": [
    "df.loc[(df.Sexo == 'Masculino') & (df.Renda >= 7_500)].shape"
   ]
  },
  {
   "cell_type": "code",
   "execution_count": null,
   "metadata": {},
   "outputs": [],
   "source": [
    "# condição 1: escolaridade Ensino Fundamental\n",
    "# condição 2: escolaridade Ensino Médio\n",
    "# OR: |\n",
    "df[(df.Escolaridade == 'Ensino Fundamental') | (df.Escolaridade == 'Ensino Médio')]"
   ]
  },
  {
   "cell_type": "code",
   "execution_count": null,
   "metadata": {},
   "outputs": [],
   "source": [
    "df[(df.Escolaridade == 'Ensino Fundamental') | (df.Escolaridade == 'Ensino Médio')].shape"
   ]
  },
  {
   "cell_type": "code",
   "execution_count": null,
   "metadata": {},
   "outputs": [],
   "source": [
    "df.query('(Escolaridade == \"Ensino Fundamental\") | (Escolaridade == \"Ensino Médio\")').shape"
   ]
  },
  {
   "cell_type": "code",
   "execution_count": null,
   "metadata": {},
   "outputs": [],
   "source": [
    "df.loc[(df.Escolaridade == 'Ensino Fundamental') | (df.Escolaridade == 'Ensino Médio')].shape"
   ]
  },
  {
   "cell_type": "code",
   "execution_count": null,
   "metadata": {},
   "outputs": [],
   "source": [
    "df[(df.Escolaridade == 'Ensino Fundamental') | (df.Escolaridade == 'Ensino Médio')]['Escolaridade'].unique()"
   ]
  },
  {
   "cell_type": "code",
   "execution_count": null,
   "metadata": {},
   "outputs": [],
   "source": [
    "# condição 1: renda>=8_000\n",
    "# condição 2: idade>=50\n",
    "# condição 3: feminino\n",
    "\n",
    "df[(df.Renda>=8_000) & (df.Idade>=50) & (df.Sexo == 'Feminino')]\\\n",
    ".sort_values(by = ['Idade', 'Renda'])\\\n",
    ".reset_index(drop = True)\\\n",
    ".drop(columns = ['Id'])[['Renda', 'Idade']]\\\n",
    ".query('Idade >= 60')"
   ]
  },
  {
   "cell_type": "code",
   "execution_count": null,
   "metadata": {},
   "outputs": [],
   "source": [
    "df[(df.Renda>=8_000) & (df.Idade>=50) & (df.Sexo == 'Feminino')].shape"
   ]
  },
  {
   "cell_type": "code",
   "execution_count": null,
   "metadata": {},
   "outputs": [],
   "source": [
    "df.query('(Renda >= 8_000) & (Idade >= 50) & (Sexo == \"Feminino\")').shape"
   ]
  },
  {
   "cell_type": "code",
   "execution_count": null,
   "metadata": {},
   "outputs": [],
   "source": [
    "df.loc[(df.Renda>=8_000) & (df.Idade>=50) & (df.Sexo == 'Feminino')].shape"
   ]
  },
  {
   "cell_type": "code",
   "execution_count": null,
   "metadata": {},
   "outputs": [],
   "source": [
    "df.rename(columns = {'renda_média': 'renda média'}, inplace = True)"
   ]
  },
  {
   "cell_type": "code",
   "execution_count": null,
   "metadata": {},
   "outputs": [],
   "source": [
    "df.rename(columns = {'renda_total': 'renda total'}, inplace = True)"
   ]
  },
  {
   "cell_type": "code",
   "execution_count": null,
   "metadata": {},
   "outputs": [],
   "source": [
    "df.query('`renda média` >= 7_000')"
   ]
  },
  {
   "cell_type": "code",
   "execution_count": null,
   "metadata": {},
   "outputs": [],
   "source": [
    "df.query('(`renda média` >= 5_000) & (`renda total` >= 8_000)')"
   ]
  },
  {
   "cell_type": "code",
   "execution_count": null,
   "metadata": {},
   "outputs": [],
   "source": [
    "# nega a proposição\n",
    "~(df.Sexo == 'Feminino')"
   ]
  },
  {
   "cell_type": "code",
   "execution_count": null,
   "metadata": {},
   "outputs": [],
   "source": [
    "# nega a proposição, pega informações apenas para clientes do gênero masculino\n",
    "df.loc[~(df.Sexo == 'Feminino')]"
   ]
  },
  {
   "cell_type": "code",
   "execution_count": null,
   "metadata": {},
   "outputs": [],
   "source": [
    "# outro exemplo de negação\n",
    "# pega todos os clientes cuja a escolaridade não seja Ensino Superior\n",
    "df.loc[~(df.Escolaridade == 'Ensino Superior')]"
   ]
  },
  {
   "cell_type": "code",
   "execution_count": null,
   "metadata": {},
   "outputs": [],
   "source": [
    "# pega apenas os clientes com escolaridade igual a Ensino Superior\n",
    "df.loc[df.Escolaridade.isin(['Ensino Superior'])]"
   ]
  },
  {
   "cell_type": "code",
   "execution_count": null,
   "metadata": {},
   "outputs": [],
   "source": [
    "# nega a condição, pega clientes cuja escolaridade não seja Ensino Superior\n",
    "df.loc[~(df.Escolaridade.isin(['Ensino Superior']))]"
   ]
  },
  {
   "cell_type": "code",
   "execution_count": null,
   "metadata": {},
   "outputs": [],
   "source": [
    "df.head()"
   ]
  },
  {
   "cell_type": "code",
   "execution_count": null,
   "metadata": {},
   "outputs": [],
   "source": [
    "# pega apenas os clientes cuja a escolaridade seja diferente de Ensino Médio\n",
    "df.query(\"Escolaridade != 'Ensino Médio'\")['Escolaridade'].unique()"
   ]
  },
  {
   "cell_type": "code",
   "execution_count": null,
   "metadata": {},
   "outputs": [],
   "source": [
    "# verifica se Ensino Médio está contido no array com valores únicos da nossa consulta\n",
    "'Ensino Médio' in df.query(\"Escolaridade != 'Ensino Médio'\")['Escolaridade'].unique()"
   ]
  }
 ],
 "metadata": {
  "kernelspec": {
   "display_name": "Python 3",
   "language": "python",
   "name": "python3"
  },
  "language_info": {
   "codemirror_mode": {
    "name": "ipython",
    "version": 3
   },
   "file_extension": ".py",
   "mimetype": "text/x-python",
   "name": "python",
   "nbconvert_exporter": "python",
   "pygments_lexer": "ipython3",
   "version": "3.8.10"
  }
 },
 "nbformat": 4,
 "nbformat_minor": 4
}
