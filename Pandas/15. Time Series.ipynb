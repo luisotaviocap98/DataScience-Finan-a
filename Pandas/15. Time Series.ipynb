{
 "cells": [
  {
   "cell_type": "markdown",
   "metadata": {},
   "source": [
    "### Time Series"
   ]
  },
  {
   "cell_type": "code",
   "execution_count": 1,
   "metadata": {},
   "outputs": [],
   "source": [
    "import yfinance as yf\n",
    "import pandas as pd\n",
    "import quandl\n",
    "import numpy as np\n",
    "import matplotlib.pyplot as plt"
   ]
  },
  {
   "cell_type": "markdown",
   "metadata": {},
   "source": [
    "Função date range"
   ]
  },
  {
   "cell_type": "code",
   "execution_count": 2,
   "metadata": {},
   "outputs": [
    {
     "data": {
      "text/plain": [
       "DatetimeIndex(['2000-01-31', '2000-02-29', '2000-03-31', '2000-04-30',\n",
       "               '2000-05-31', '2000-06-30', '2000-07-31', '2000-08-31',\n",
       "               '2000-09-30', '2000-10-31', '2000-11-30', '2000-12-31',\n",
       "               '2001-01-31', '2001-02-28', '2001-03-31', '2001-04-30',\n",
       "               '2001-05-31', '2001-06-30', '2001-07-31', '2001-08-31',\n",
       "               '2001-09-30', '2001-10-31', '2001-11-30', '2001-12-31',\n",
       "               '2002-01-31', '2002-02-28', '2002-03-31', '2002-04-30',\n",
       "               '2002-05-31', '2002-06-30', '2002-07-31', '2002-08-31',\n",
       "               '2002-09-30', '2002-10-31', '2002-11-30', '2002-12-31',\n",
       "               '2003-01-31', '2003-02-28', '2003-03-31', '2003-04-30',\n",
       "               '2003-05-31', '2003-06-30', '2003-07-31', '2003-08-31',\n",
       "               '2003-09-30', '2003-10-31', '2003-11-30', '2003-12-31',\n",
       "               '2004-01-31', '2004-02-29', '2004-03-31', '2004-04-30',\n",
       "               '2004-05-31', '2004-06-30', '2004-07-31', '2004-08-31',\n",
       "               '2004-09-30', '2004-10-31', '2004-11-30', '2004-12-31'],\n",
       "              dtype='datetime64[ns]', freq='M')"
      ]
     },
     "execution_count": 2,
     "metadata": {},
     "output_type": "execute_result"
    }
   ],
   "source": [
    "pd.date_range(start = '2000-1-1', periods = 60, freq = 'm')"
   ]
  },
  {
   "cell_type": "code",
   "execution_count": 3,
   "metadata": {},
   "outputs": [
    {
     "data": {
      "text/plain": [
       "DatetimeIndex(['1980-12-31', '1981-12-31', '1982-12-31', '1983-12-31',\n",
       "               '1984-12-31', '1985-12-31', '1986-12-31', '1987-12-31',\n",
       "               '1988-12-31', '1989-12-31', '1990-12-31', '1991-12-31',\n",
       "               '1992-12-31', '1993-12-31', '1994-12-31', '1995-12-31',\n",
       "               '1996-12-31', '1997-12-31', '1998-12-31', '1999-12-31'],\n",
       "              dtype='datetime64[ns]', freq='A-DEC')"
      ]
     },
     "execution_count": 3,
     "metadata": {},
     "output_type": "execute_result"
    }
   ],
   "source": [
    "pd.date_range(start = '1980-1-1', periods = 20, freq = 'Y')"
   ]
  },
  {
   "cell_type": "code",
   "execution_count": 4,
   "metadata": {},
   "outputs": [
    {
     "data": {
      "text/plain": [
       "DatetimeIndex(['1980-12-31', '1981-12-31', '1982-12-31', '1983-12-31',\n",
       "               '1984-12-31', '1985-12-31', '1986-12-31', '1987-12-31',\n",
       "               '1988-12-31', '1989-12-31', '1990-12-31', '1991-12-31',\n",
       "               '1992-12-31', '1993-12-31', '1994-12-31', '1995-12-31',\n",
       "               '1996-12-31', '1997-12-31', '1998-12-31', '1999-12-31',\n",
       "               '2000-12-31', '2001-12-31', '2002-12-31', '2003-12-31',\n",
       "               '2004-12-31', '2005-12-31', '2006-12-31', '2007-12-31',\n",
       "               '2008-12-31', '2009-12-31', '2010-12-31', '2011-12-31',\n",
       "               '2012-12-31', '2013-12-31', '2014-12-31', '2015-12-31',\n",
       "               '2016-12-31', '2017-12-31', '2018-12-31', '2019-12-31',\n",
       "               '2020-12-31', '2021-12-31'],\n",
       "              dtype='datetime64[ns]', freq='A-DEC')"
      ]
     },
     "execution_count": 4,
     "metadata": {},
     "output_type": "execute_result"
    }
   ],
   "source": [
    "pd.date_range(start = '1980-1-1', end = '2022-1-1', freq = 'Y')"
   ]
  },
  {
   "cell_type": "code",
   "execution_count": 5,
   "metadata": {},
   "outputs": [
    {
     "data": {
      "text/plain": [
       "DatetimeIndex(['2022-03-18 00:00:00', '2022-03-18 01:00:00',\n",
       "               '2022-03-18 02:00:00', '2022-03-18 03:00:00',\n",
       "               '2022-03-18 04:00:00', '2022-03-18 05:00:00',\n",
       "               '2022-03-18 06:00:00', '2022-03-18 07:00:00',\n",
       "               '2022-03-18 08:00:00', '2022-03-18 09:00:00',\n",
       "               '2022-03-18 10:00:00', '2022-03-18 11:00:00',\n",
       "               '2022-03-18 12:00:00', '2022-03-18 13:00:00',\n",
       "               '2022-03-18 14:00:00', '2022-03-18 15:00:00',\n",
       "               '2022-03-18 16:00:00', '2022-03-18 17:00:00',\n",
       "               '2022-03-18 18:00:00', '2022-03-18 19:00:00',\n",
       "               '2022-03-18 20:00:00', '2022-03-18 21:00:00',\n",
       "               '2022-03-18 22:00:00', '2022-03-18 23:00:00',\n",
       "               '2022-03-19 00:00:00', '2022-03-19 01:00:00',\n",
       "               '2022-03-19 02:00:00', '2022-03-19 03:00:00',\n",
       "               '2022-03-19 04:00:00', '2022-03-19 05:00:00',\n",
       "               '2022-03-19 06:00:00', '2022-03-19 07:00:00',\n",
       "               '2022-03-19 08:00:00', '2022-03-19 09:00:00',\n",
       "               '2022-03-19 10:00:00', '2022-03-19 11:00:00',\n",
       "               '2022-03-19 12:00:00', '2022-03-19 13:00:00',\n",
       "               '2022-03-19 14:00:00', '2022-03-19 15:00:00',\n",
       "               '2022-03-19 16:00:00', '2022-03-19 17:00:00',\n",
       "               '2022-03-19 18:00:00', '2022-03-19 19:00:00',\n",
       "               '2022-03-19 20:00:00', '2022-03-19 21:00:00',\n",
       "               '2022-03-19 22:00:00', '2022-03-19 23:00:00',\n",
       "               '2022-03-20 00:00:00', '2022-03-20 01:00:00',\n",
       "               '2022-03-20 02:00:00', '2022-03-20 03:00:00',\n",
       "               '2022-03-20 04:00:00', '2022-03-20 05:00:00',\n",
       "               '2022-03-20 06:00:00', '2022-03-20 07:00:00',\n",
       "               '2022-03-20 08:00:00', '2022-03-20 09:00:00',\n",
       "               '2022-03-20 10:00:00', '2022-03-20 11:00:00'],\n",
       "              dtype='datetime64[ns]', freq='H')"
      ]
     },
     "execution_count": 5,
     "metadata": {},
     "output_type": "execute_result"
    }
   ],
   "source": [
    "pd.date_range('2022-3-18', periods = 60, freq = 'H')"
   ]
  },
  {
   "cell_type": "code",
   "execution_count": 6,
   "metadata": {},
   "outputs": [],
   "source": [
    "n  = 500\n",
    "index = pd.date_range(start = '2018-1-1', periods = n, freq = 'd')\n",
    "values = np.random.standard_normal(size = n)\n",
    "\n",
    "df = pd.DataFrame({'Data': values}, index = index)"
   ]
  },
  {
   "cell_type": "code",
   "execution_count": 7,
   "metadata": {},
   "outputs": [
    {
     "data": {
      "text/html": [
       "<div>\n",
       "<style scoped>\n",
       "    .dataframe tbody tr th:only-of-type {\n",
       "        vertical-align: middle;\n",
       "    }\n",
       "\n",
       "    .dataframe tbody tr th {\n",
       "        vertical-align: top;\n",
       "    }\n",
       "\n",
       "    .dataframe thead th {\n",
       "        text-align: right;\n",
       "    }\n",
       "</style>\n",
       "<table border=\"1\" class=\"dataframe\">\n",
       "  <thead>\n",
       "    <tr style=\"text-align: right;\">\n",
       "      <th></th>\n",
       "      <th>Data</th>\n",
       "    </tr>\n",
       "  </thead>\n",
       "  <tbody>\n",
       "    <tr>\n",
       "      <th>2018-01-01</th>\n",
       "      <td>-0.605835</td>\n",
       "    </tr>\n",
       "    <tr>\n",
       "      <th>2018-01-02</th>\n",
       "      <td>0.039879</td>\n",
       "    </tr>\n",
       "    <tr>\n",
       "      <th>2018-01-03</th>\n",
       "      <td>0.820475</td>\n",
       "    </tr>\n",
       "    <tr>\n",
       "      <th>2018-01-04</th>\n",
       "      <td>-1.106434</td>\n",
       "    </tr>\n",
       "    <tr>\n",
       "      <th>2018-01-05</th>\n",
       "      <td>-1.158730</td>\n",
       "    </tr>\n",
       "    <tr>\n",
       "      <th>...</th>\n",
       "      <td>...</td>\n",
       "    </tr>\n",
       "    <tr>\n",
       "      <th>2019-05-11</th>\n",
       "      <td>-2.677021</td>\n",
       "    </tr>\n",
       "    <tr>\n",
       "      <th>2019-05-12</th>\n",
       "      <td>0.520901</td>\n",
       "    </tr>\n",
       "    <tr>\n",
       "      <th>2019-05-13</th>\n",
       "      <td>1.129040</td>\n",
       "    </tr>\n",
       "    <tr>\n",
       "      <th>2019-05-14</th>\n",
       "      <td>0.360800</td>\n",
       "    </tr>\n",
       "    <tr>\n",
       "      <th>2019-05-15</th>\n",
       "      <td>-0.136823</td>\n",
       "    </tr>\n",
       "  </tbody>\n",
       "</table>\n",
       "<p>500 rows × 1 columns</p>\n",
       "</div>"
      ],
      "text/plain": [
       "                Data\n",
       "2018-01-01 -0.605835\n",
       "2018-01-02  0.039879\n",
       "2018-01-03  0.820475\n",
       "2018-01-04 -1.106434\n",
       "2018-01-05 -1.158730\n",
       "...              ...\n",
       "2019-05-11 -2.677021\n",
       "2019-05-12  0.520901\n",
       "2019-05-13  1.129040\n",
       "2019-05-14  0.360800\n",
       "2019-05-15 -0.136823\n",
       "\n",
       "[500 rows x 1 columns]"
      ]
     },
     "execution_count": 7,
     "metadata": {},
     "output_type": "execute_result"
    }
   ],
   "source": [
    "df"
   ]
  },
  {
   "cell_type": "code",
   "execution_count": 8,
   "metadata": {},
   "outputs": [
    {
     "data": {
      "image/png": "[encoded data removed]",
      "text/plain": [
       "<Figure size 432x288 with 1 Axes>"
      ]
     },
     "metadata": {
      "needs_background": "light"
     },
     "output_type": "display_data"
    }
   ],
   "source": [
    "df.Data.plot();"
   ]
  },
  {
   "cell_type": "code",
   "execution_count": 9,
   "metadata": {},
   "outputs": [
    {
     "data": {
      "text/plain": [
       "DatetimeIndex(['2018-01-01', '2018-01-02', '2018-01-03', '2018-01-04',\n",
       "               '2018-01-05', '2018-01-06', '2018-01-07', '2018-01-08',\n",
       "               '2018-01-09', '2018-01-10',\n",
       "               ...\n",
       "               '2019-05-06', '2019-05-07', '2019-05-08', '2019-05-09',\n",
       "               '2019-05-10', '2019-05-11', '2019-05-12', '2019-05-13',\n",
       "               '2019-05-14', '2019-05-15'],\n",
       "              dtype='datetime64[ns]', length=500, freq='D')"
      ]
     },
     "execution_count": 9,
     "metadata": {},
     "output_type": "execute_result"
    }
   ],
   "source": [
    "df.index"
   ]
  },
  {
   "cell_type": "code",
   "execution_count": 10,
   "metadata": {},
   "outputs": [],
   "source": [
    "n  = 500\n",
    "index = pd.date_range(start = '1980-1-1', periods = n, freq = 'M')\n",
    "values = np.random.standard_normal(size = n)\n",
    "\n",
    "df = pd.DataFrame({'Data': values}, index = index)"
   ]
  },
  {
   "cell_type": "code",
   "execution_count": 11,
   "metadata": {},
   "outputs": [
    {
     "data": {
      "image/png": "[encoded data removed]",
      "text/plain": [
       "<Figure size 432x288 with 1 Axes>"
      ]
     },
     "metadata": {
      "needs_background": "light"
     },
     "output_type": "display_data"
    }
   ],
   "source": [
    "df.Data.plot();"
   ]
  },
  {
   "cell_type": "code",
   "execution_count": 12,
   "metadata": {},
   "outputs": [
    {
     "data": {
      "text/plain": [
       "DatetimeIndex(['1980-01-31', '1980-02-29', '1980-03-31', '1980-04-30',\n",
       "               '1980-05-31', '1980-06-30', '1980-07-31', '1980-08-31',\n",
       "               '1980-09-30', '1980-10-31',\n",
       "               ...\n",
       "               '2020-11-30', '2020-12-31', '2021-01-31', '2021-02-28',\n",
       "               '2021-03-31', '2021-04-30', '2021-05-31', '2021-06-30',\n",
       "               '2021-07-31', '2021-08-31'],\n",
       "              dtype='datetime64[ns]', length=500, freq='M')"
      ]
     },
     "execution_count": 12,
     "metadata": {},
     "output_type": "execute_result"
    }
   ],
   "source": [
    "df.index"
   ]
  },
  {
   "cell_type": "markdown",
   "metadata": {},
   "source": [
    "Resampling, Shifting e Windowing"
   ]
  },
  {
   "cell_type": "code",
   "execution_count": 13,
   "metadata": {},
   "outputs": [],
   "source": [
    "petr = yf.Ticker('PETR3.SA').history(period = 'max')"
   ]
  },
  {
   "cell_type": "code",
   "execution_count": 14,
   "metadata": {},
   "outputs": [
    {
     "data": {
      "text/html": [
       "<div>\n",
       "<style scoped>\n",
       "    .dataframe tbody tr th:only-of-type {\n",
       "        vertical-align: middle;\n",
       "    }\n",
       "\n",
       "    .dataframe tbody tr th {\n",
       "        vertical-align: top;\n",
       "    }\n",
       "\n",
       "    .dataframe thead th {\n",
       "        text-align: right;\n",
       "    }\n",
       "</style>\n",
       "<table border=\"1\" class=\"dataframe\">\n",
       "  <thead>\n",
       "    <tr style=\"text-align: right;\">\n",
       "      <th></th>\n",
       "      <th>Open</th>\n",
       "      <th>High</th>\n",
       "      <th>Low</th>\n",
       "      <th>Close</th>\n",
       "      <th>Volume</th>\n",
       "      <th>Dividends</th>\n",
       "      <th>Stock Splits</th>\n",
       "    </tr>\n",
       "    <tr>\n",
       "      <th>Date</th>\n",
       "      <th></th>\n",
       "      <th></th>\n",
       "      <th></th>\n",
       "      <th></th>\n",
       "      <th></th>\n",
       "      <th></th>\n",
       "      <th></th>\n",
       "    </tr>\n",
       "  </thead>\n",
       "  <tbody>\n",
       "    <tr>\n",
       "      <th>2000-01-03</th>\n",
       "      <td>2.778906</td>\n",
       "      <td>2.778906</td>\n",
       "      <td>2.778906</td>\n",
       "      <td>2.778906</td>\n",
       "      <td>3998720000</td>\n",
       "      <td>0.0</td>\n",
       "      <td>0.0</td>\n",
       "    </tr>\n",
       "    <tr>\n",
       "      <th>2000-01-04</th>\n",
       "      <td>2.622946</td>\n",
       "      <td>2.622946</td>\n",
       "      <td>2.622946</td>\n",
       "      <td>2.622946</td>\n",
       "      <td>3098880000</td>\n",
       "      <td>0.0</td>\n",
       "      <td>0.0</td>\n",
       "    </tr>\n",
       "    <tr>\n",
       "      <th>2000-01-05</th>\n",
       "      <td>2.658392</td>\n",
       "      <td>2.658392</td>\n",
       "      <td>2.658392</td>\n",
       "      <td>2.658392</td>\n",
       "      <td>6645760000</td>\n",
       "      <td>0.0</td>\n",
       "      <td>0.0</td>\n",
       "    </tr>\n",
       "    <tr>\n",
       "      <th>2000-01-06</th>\n",
       "      <td>2.637125</td>\n",
       "      <td>2.637125</td>\n",
       "      <td>2.637125</td>\n",
       "      <td>2.637125</td>\n",
       "      <td>3303680000</td>\n",
       "      <td>0.0</td>\n",
       "      <td>0.0</td>\n",
       "    </tr>\n",
       "    <tr>\n",
       "      <th>2000-01-07</th>\n",
       "      <td>2.658392</td>\n",
       "      <td>2.658392</td>\n",
       "      <td>2.658392</td>\n",
       "      <td>2.658392</td>\n",
       "      <td>2506240000</td>\n",
       "      <td>0.0</td>\n",
       "      <td>0.0</td>\n",
       "    </tr>\n",
       "  </tbody>\n",
       "</table>\n",
       "</div>"
      ],
      "text/plain": [
       "                Open      High       Low     Close      Volume  Dividends  \\\n",
       "Date                                                                        \n",
       "2000-01-03  2.778906  2.778906  2.778906  2.778906  3998720000        0.0   \n",
       "2000-01-04  2.622946  2.622946  2.622946  2.622946  3098880000        0.0   \n",
       "2000-01-05  2.658392  2.658392  2.658392  2.658392  6645760000        0.0   \n",
       "2000-01-06  2.637125  2.637125  2.637125  2.637125  3303680000        0.0   \n",
       "2000-01-07  2.658392  2.658392  2.658392  2.658392  2506240000        0.0   \n",
       "\n",
       "            Stock Splits  \n",
       "Date                      \n",
       "2000-01-03           0.0  \n",
       "2000-01-04           0.0  \n",
       "2000-01-05           0.0  \n",
       "2000-01-06           0.0  \n",
       "2000-01-07           0.0  "
      ]
     },
     "execution_count": 14,
     "metadata": {},
     "output_type": "execute_result"
    }
   ],
   "source": [
    "petr.head()"
   ]
  },
  {
   "cell_type": "code",
   "execution_count": 15,
   "metadata": {},
   "outputs": [
    {
     "data": {
      "image/png": "[encoded data removed]",
      "text/plain": [
       "<Figure size 432x288 with 1 Axes>"
      ]
     },
     "metadata": {
      "needs_background": "light"
     },
     "output_type": "display_data"
    }
   ],
   "source": [
    "petr.Close.plot();"
   ]
  },
  {
   "cell_type": "code",
   "execution_count": 16,
   "metadata": {},
   "outputs": [
    {
     "data": {
      "text/plain": [
       "DatetimeIndex(['2000-01-03', '2000-01-04', '2000-01-05', '2000-01-06',\n",
       "               '2000-01-07', '2000-01-10', '2000-01-11', '2000-01-12',\n",
       "               '2000-01-13', '2000-01-14',\n",
       "               ...\n",
       "               '2022-04-12', '2022-04-13', '2022-04-14', '2022-04-18',\n",
       "               '2022-04-19', '2022-04-20', '2022-04-22', '2022-04-25',\n",
       "               '2022-04-26', '2022-04-27'],\n",
       "              dtype='datetime64[ns]', name='Date', length=5526, freq=None)"
      ]
     },
     "execution_count": 16,
     "metadata": {},
     "output_type": "execute_result"
    }
   ],
   "source": [
    "petr.index"
   ]
  },
  {
   "cell_type": "code",
   "execution_count": 22,
   "metadata": {},
   "outputs": [
    {
     "data": {
      "text/plain": [
       "(3, 7)"
      ]
     },
     "execution_count": 22,
     "metadata": {},
     "output_type": "execute_result"
    }
   ],
   "source": [
    "# pega os últimos 5 dias\n",
    "petr.last('5D').shape"
   ]
  },
  {
   "cell_type": "code",
   "execution_count": 20,
   "metadata": {},
   "outputs": [
    {
     "data": {
      "text/html": [
       "<div>\n",
       "<style scoped>\n",
       "    .dataframe tbody tr th:only-of-type {\n",
       "        vertical-align: middle;\n",
       "    }\n",
       "\n",
       "    .dataframe tbody tr th {\n",
       "        vertical-align: top;\n",
       "    }\n",
       "\n",
       "    .dataframe thead th {\n",
       "        text-align: right;\n",
       "    }\n",
       "</style>\n",
       "<table border=\"1\" class=\"dataframe\">\n",
       "  <thead>\n",
       "    <tr style=\"text-align: right;\">\n",
       "      <th></th>\n",
       "      <th>Open</th>\n",
       "      <th>High</th>\n",
       "      <th>Low</th>\n",
       "      <th>Close</th>\n",
       "      <th>Volume</th>\n",
       "      <th>Dividends</th>\n",
       "      <th>Stock Splits</th>\n",
       "    </tr>\n",
       "    <tr>\n",
       "      <th>Date</th>\n",
       "      <th></th>\n",
       "      <th></th>\n",
       "      <th></th>\n",
       "      <th></th>\n",
       "      <th></th>\n",
       "      <th></th>\n",
       "      <th></th>\n",
       "    </tr>\n",
       "  </thead>\n",
       "  <tbody>\n",
       "    <tr>\n",
       "      <th>2022-02-01</th>\n",
       "      <td>32.404274</td>\n",
       "      <td>33.602383</td>\n",
       "      <td>32.007975</td>\n",
       "      <td>33.464142</td>\n",
       "      <td>19064200</td>\n",
       "      <td>0.0</td>\n",
       "      <td>0.0</td>\n",
       "    </tr>\n",
       "    <tr>\n",
       "      <th>2022-02-02</th>\n",
       "      <td>33.740628</td>\n",
       "      <td>33.749843</td>\n",
       "      <td>32.625465</td>\n",
       "      <td>32.865086</td>\n",
       "      <td>11735200</td>\n",
       "      <td>0.0</td>\n",
       "      <td>0.0</td>\n",
       "    </tr>\n",
       "    <tr>\n",
       "      <th>2022-02-03</th>\n",
       "      <td>32.689977</td>\n",
       "      <td>32.699191</td>\n",
       "      <td>31.961893</td>\n",
       "      <td>32.514866</td>\n",
       "      <td>16656900</td>\n",
       "      <td>0.0</td>\n",
       "      <td>0.0</td>\n",
       "    </tr>\n",
       "    <tr>\n",
       "      <th>2022-02-04</th>\n",
       "      <td>32.726839</td>\n",
       "      <td>33.712979</td>\n",
       "      <td>32.376625</td>\n",
       "      <td>33.095490</td>\n",
       "      <td>25527800</td>\n",
       "      <td>0.0</td>\n",
       "      <td>0.0</td>\n",
       "    </tr>\n",
       "    <tr>\n",
       "      <th>2022-02-07</th>\n",
       "      <td>33.049410</td>\n",
       "      <td>33.132356</td>\n",
       "      <td>32.560951</td>\n",
       "      <td>32.699192</td>\n",
       "      <td>20018000</td>\n",
       "      <td>0.0</td>\n",
       "      <td>0.0</td>\n",
       "    </tr>\n",
       "  </tbody>\n",
       "</table>\n",
       "</div>"
      ],
      "text/plain": [
       "                 Open       High        Low      Close    Volume  Dividends  \\\n",
       "Date                                                                          \n",
       "2022-02-01  32.404274  33.602383  32.007975  33.464142  19064200        0.0   \n",
       "2022-02-02  33.740628  33.749843  32.625465  32.865086  11735200        0.0   \n",
       "2022-02-03  32.689977  32.699191  31.961893  32.514866  16656900        0.0   \n",
       "2022-02-04  32.726839  33.712979  32.376625  33.095490  25527800        0.0   \n",
       "2022-02-07  33.049410  33.132356  32.560951  32.699192  20018000        0.0   \n",
       "\n",
       "            Stock Splits  \n",
       "Date                      \n",
       "2022-02-01           0.0  \n",
       "2022-02-02           0.0  \n",
       "2022-02-03           0.0  \n",
       "2022-02-04           0.0  \n",
       "2022-02-07           0.0  "
      ]
     },
     "execution_count": 20,
     "metadata": {},
     "output_type": "execute_result"
    }
   ],
   "source": [
    "# pega os últimos 6 meses\n",
    "petr.last('3M').head()"
   ]
  },
  {
   "cell_type": "code",
   "execution_count": 21,
   "metadata": {},
   "outputs": [
    {
     "data": {
      "text/plain": [
       "(58, 7)"
      ]
     },
     "execution_count": 21,
     "metadata": {},
     "output_type": "execute_result"
    }
   ],
   "source": [
    "petr.last('3M').shape"
   ]
  },
  {
   "cell_type": "code",
   "execution_count": null,
   "metadata": {},
   "outputs": [],
   "source": [
    "# pega os últimos 2 anos\n",
    "petr.last('2Y')"
   ]
  },
  {
   "cell_type": "code",
   "execution_count": null,
   "metadata": {},
   "outputs": [],
   "source": [
    "# pega os primeiros 30 dias\n",
    "petr.first('30D')"
   ]
  },
  {
   "cell_type": "code",
   "execution_count": 25,
   "metadata": {},
   "outputs": [
    {
     "data": {
      "text/html": [
       "<div>\n",
       "<style scoped>\n",
       "    .dataframe tbody tr th:only-of-type {\n",
       "        vertical-align: middle;\n",
       "    }\n",
       "\n",
       "    .dataframe tbody tr th {\n",
       "        vertical-align: top;\n",
       "    }\n",
       "\n",
       "    .dataframe thead th {\n",
       "        text-align: right;\n",
       "    }\n",
       "</style>\n",
       "<table border=\"1\" class=\"dataframe\">\n",
       "  <thead>\n",
       "    <tr style=\"text-align: right;\">\n",
       "      <th></th>\n",
       "      <th>Open</th>\n",
       "      <th>High</th>\n",
       "      <th>Low</th>\n",
       "      <th>Close</th>\n",
       "      <th>Volume</th>\n",
       "      <th>Dividends</th>\n",
       "      <th>Stock Splits</th>\n",
       "    </tr>\n",
       "    <tr>\n",
       "      <th>Date</th>\n",
       "      <th></th>\n",
       "      <th></th>\n",
       "      <th></th>\n",
       "      <th></th>\n",
       "      <th></th>\n",
       "      <th></th>\n",
       "      <th></th>\n",
       "    </tr>\n",
       "  </thead>\n",
       "  <tbody>\n",
       "    <tr>\n",
       "      <th>2000-01-03</th>\n",
       "      <td>2.778906</td>\n",
       "      <td>2.778906</td>\n",
       "      <td>2.778906</td>\n",
       "      <td>2.778906</td>\n",
       "      <td>3998720000</td>\n",
       "      <td>0.0</td>\n",
       "      <td>0.0</td>\n",
       "    </tr>\n",
       "    <tr>\n",
       "      <th>2000-01-04</th>\n",
       "      <td>2.622946</td>\n",
       "      <td>2.622946</td>\n",
       "      <td>2.622946</td>\n",
       "      <td>2.622946</td>\n",
       "      <td>3098880000</td>\n",
       "      <td>0.0</td>\n",
       "      <td>0.0</td>\n",
       "    </tr>\n",
       "    <tr>\n",
       "      <th>2000-01-05</th>\n",
       "      <td>2.658392</td>\n",
       "      <td>2.658392</td>\n",
       "      <td>2.658392</td>\n",
       "      <td>2.658392</td>\n",
       "      <td>6645760000</td>\n",
       "      <td>0.0</td>\n",
       "      <td>0.0</td>\n",
       "    </tr>\n",
       "    <tr>\n",
       "      <th>2000-01-06</th>\n",
       "      <td>2.637125</td>\n",
       "      <td>2.637125</td>\n",
       "      <td>2.637125</td>\n",
       "      <td>2.637125</td>\n",
       "      <td>3303680000</td>\n",
       "      <td>0.0</td>\n",
       "      <td>0.0</td>\n",
       "    </tr>\n",
       "    <tr>\n",
       "      <th>2000-01-07</th>\n",
       "      <td>2.658392</td>\n",
       "      <td>2.658392</td>\n",
       "      <td>2.658392</td>\n",
       "      <td>2.658392</td>\n",
       "      <td>2506240000</td>\n",
       "      <td>0.0</td>\n",
       "      <td>0.0</td>\n",
       "    </tr>\n",
       "    <tr>\n",
       "      <th>...</th>\n",
       "      <td>...</td>\n",
       "      <td>...</td>\n",
       "      <td>...</td>\n",
       "      <td>...</td>\n",
       "      <td>...</td>\n",
       "      <td>...</td>\n",
       "      <td>...</td>\n",
       "    </tr>\n",
       "    <tr>\n",
       "      <th>2000-03-27</th>\n",
       "      <td>3.147537</td>\n",
       "      <td>3.147537</td>\n",
       "      <td>3.147537</td>\n",
       "      <td>3.147537</td>\n",
       "      <td>5706240000</td>\n",
       "      <td>0.0</td>\n",
       "      <td>0.0</td>\n",
       "    </tr>\n",
       "    <tr>\n",
       "      <th>2000-03-28</th>\n",
       "      <td>3.105001</td>\n",
       "      <td>3.105001</td>\n",
       "      <td>3.105001</td>\n",
       "      <td>3.105001</td>\n",
       "      <td>3650560000</td>\n",
       "      <td>0.0</td>\n",
       "      <td>0.0</td>\n",
       "    </tr>\n",
       "    <tr>\n",
       "      <th>2000-03-29</th>\n",
       "      <td>3.044745</td>\n",
       "      <td>3.044745</td>\n",
       "      <td>3.044745</td>\n",
       "      <td>3.044745</td>\n",
       "      <td>672000000</td>\n",
       "      <td>0.0</td>\n",
       "      <td>0.0</td>\n",
       "    </tr>\n",
       "    <tr>\n",
       "      <th>2000-03-30</th>\n",
       "      <td>3.119181</td>\n",
       "      <td>3.119181</td>\n",
       "      <td>3.119181</td>\n",
       "      <td>3.119181</td>\n",
       "      <td>2140160000</td>\n",
       "      <td>0.0</td>\n",
       "      <td>0.0</td>\n",
       "    </tr>\n",
       "    <tr>\n",
       "      <th>2000-03-31</th>\n",
       "      <td>3.119181</td>\n",
       "      <td>3.119181</td>\n",
       "      <td>3.119181</td>\n",
       "      <td>3.119181</td>\n",
       "      <td>1159680000</td>\n",
       "      <td>0.0</td>\n",
       "      <td>0.0</td>\n",
       "    </tr>\n",
       "  </tbody>\n",
       "</table>\n",
       "<p>62 rows × 7 columns</p>\n",
       "</div>"
      ],
      "text/plain": [
       "                Open      High       Low     Close      Volume  Dividends  \\\n",
       "Date                                                                        \n",
       "2000-01-03  2.778906  2.778906  2.778906  2.778906  3998720000        0.0   \n",
       "2000-01-04  2.622946  2.622946  2.622946  2.622946  3098880000        0.0   \n",
       "2000-01-05  2.658392  2.658392  2.658392  2.658392  6645760000        0.0   \n",
       "2000-01-06  2.637125  2.637125  2.637125  2.637125  3303680000        0.0   \n",
       "2000-01-07  2.658392  2.658392  2.658392  2.658392  2506240000        0.0   \n",
       "...              ...       ...       ...       ...         ...        ...   \n",
       "2000-03-27  3.147537  3.147537  3.147537  3.147537  5706240000        0.0   \n",
       "2000-03-28  3.105001  3.105001  3.105001  3.105001  3650560000        0.0   \n",
       "2000-03-29  3.044745  3.044745  3.044745  3.044745   672000000        0.0   \n",
       "2000-03-30  3.119181  3.119181  3.119181  3.119181  2140160000        0.0   \n",
       "2000-03-31  3.119181  3.119181  3.119181  3.119181  1159680000        0.0   \n",
       "\n",
       "            Stock Splits  \n",
       "Date                      \n",
       "2000-01-03           0.0  \n",
       "2000-01-04           0.0  \n",
       "2000-01-05           0.0  \n",
       "2000-01-06           0.0  \n",
       "2000-01-07           0.0  \n",
       "...                  ...  \n",
       "2000-03-27           0.0  \n",
       "2000-03-28           0.0  \n",
       "2000-03-29           0.0  \n",
       "2000-03-30           0.0  \n",
       "2000-03-31           0.0  \n",
       "\n",
       "[62 rows x 7 columns]"
      ]
     },
     "execution_count": 25,
     "metadata": {},
     "output_type": "execute_result"
    }
   ],
   "source": [
    "# pega os primeiros 3 meses\n",
    "petr.first('3M')"
   ]
  },
  {
   "cell_type": "code",
   "execution_count": 26,
   "metadata": {},
   "outputs": [
    {
     "data": {
      "text/html": [
       "<div>\n",
       "<style scoped>\n",
       "    .dataframe tbody tr th:only-of-type {\n",
       "        vertical-align: middle;\n",
       "    }\n",
       "\n",
       "    .dataframe tbody tr th {\n",
       "        vertical-align: top;\n",
       "    }\n",
       "\n",
       "    .dataframe thead th {\n",
       "        text-align: right;\n",
       "    }\n",
       "</style>\n",
       "<table border=\"1\" class=\"dataframe\">\n",
       "  <thead>\n",
       "    <tr style=\"text-align: right;\">\n",
       "      <th></th>\n",
       "      <th>Open</th>\n",
       "      <th>High</th>\n",
       "      <th>Low</th>\n",
       "      <th>Close</th>\n",
       "      <th>Volume</th>\n",
       "      <th>Dividends</th>\n",
       "      <th>Stock Splits</th>\n",
       "    </tr>\n",
       "    <tr>\n",
       "      <th>Date</th>\n",
       "      <th></th>\n",
       "      <th></th>\n",
       "      <th></th>\n",
       "      <th></th>\n",
       "      <th></th>\n",
       "      <th></th>\n",
       "      <th></th>\n",
       "    </tr>\n",
       "  </thead>\n",
       "  <tbody>\n",
       "    <tr>\n",
       "      <th>2000-01-03</th>\n",
       "      <td>2.778906</td>\n",
       "      <td>2.778906</td>\n",
       "      <td>2.778906</td>\n",
       "      <td>2.778906</td>\n",
       "      <td>3998720000</td>\n",
       "      <td>0.0</td>\n",
       "      <td>0.0</td>\n",
       "    </tr>\n",
       "    <tr>\n",
       "      <th>2000-01-04</th>\n",
       "      <td>2.622946</td>\n",
       "      <td>2.622946</td>\n",
       "      <td>2.622946</td>\n",
       "      <td>2.622946</td>\n",
       "      <td>3098880000</td>\n",
       "      <td>0.0</td>\n",
       "      <td>0.0</td>\n",
       "    </tr>\n",
       "    <tr>\n",
       "      <th>2000-01-05</th>\n",
       "      <td>2.658392</td>\n",
       "      <td>2.658392</td>\n",
       "      <td>2.658392</td>\n",
       "      <td>2.658392</td>\n",
       "      <td>6645760000</td>\n",
       "      <td>0.0</td>\n",
       "      <td>0.0</td>\n",
       "    </tr>\n",
       "    <tr>\n",
       "      <th>2000-01-06</th>\n",
       "      <td>2.637125</td>\n",
       "      <td>2.637125</td>\n",
       "      <td>2.637125</td>\n",
       "      <td>2.637125</td>\n",
       "      <td>3303680000</td>\n",
       "      <td>0.0</td>\n",
       "      <td>0.0</td>\n",
       "    </tr>\n",
       "    <tr>\n",
       "      <th>2000-01-07</th>\n",
       "      <td>2.658392</td>\n",
       "      <td>2.658392</td>\n",
       "      <td>2.658392</td>\n",
       "      <td>2.658392</td>\n",
       "      <td>2506240000</td>\n",
       "      <td>0.0</td>\n",
       "      <td>0.0</td>\n",
       "    </tr>\n",
       "    <tr>\n",
       "      <th>...</th>\n",
       "      <td>...</td>\n",
       "      <td>...</td>\n",
       "      <td>...</td>\n",
       "      <td>...</td>\n",
       "      <td>...</td>\n",
       "      <td>...</td>\n",
       "      <td>...</td>\n",
       "    </tr>\n",
       "    <tr>\n",
       "      <th>2001-12-20</th>\n",
       "      <td>3.724112</td>\n",
       "      <td>3.724112</td>\n",
       "      <td>3.724112</td>\n",
       "      <td>3.724112</td>\n",
       "      <td>76236800</td>\n",
       "      <td>0.0</td>\n",
       "      <td>0.0</td>\n",
       "    </tr>\n",
       "    <tr>\n",
       "      <th>2001-12-21</th>\n",
       "      <td>3.773264</td>\n",
       "      <td>3.773264</td>\n",
       "      <td>3.773264</td>\n",
       "      <td>3.773264</td>\n",
       "      <td>68953600</td>\n",
       "      <td>0.0</td>\n",
       "      <td>0.0</td>\n",
       "    </tr>\n",
       "    <tr>\n",
       "      <th>2001-12-26</th>\n",
       "      <td>3.826195</td>\n",
       "      <td>3.826195</td>\n",
       "      <td>3.826195</td>\n",
       "      <td>3.826195</td>\n",
       "      <td>41497600</td>\n",
       "      <td>0.0</td>\n",
       "      <td>0.0</td>\n",
       "    </tr>\n",
       "    <tr>\n",
       "      <th>2001-12-27</th>\n",
       "      <td>3.924495</td>\n",
       "      <td>3.924495</td>\n",
       "      <td>3.924495</td>\n",
       "      <td>3.924495</td>\n",
       "      <td>50675200</td>\n",
       "      <td>0.0</td>\n",
       "      <td>0.0</td>\n",
       "    </tr>\n",
       "    <tr>\n",
       "      <th>2001-12-28</th>\n",
       "      <td>3.969111</td>\n",
       "      <td>3.969111</td>\n",
       "      <td>3.969111</td>\n",
       "      <td>3.969111</td>\n",
       "      <td>57536000</td>\n",
       "      <td>0.0</td>\n",
       "      <td>0.0</td>\n",
       "    </tr>\n",
       "  </tbody>\n",
       "</table>\n",
       "<p>481 rows × 7 columns</p>\n",
       "</div>"
      ],
      "text/plain": [
       "                Open      High       Low     Close      Volume  Dividends  \\\n",
       "Date                                                                        \n",
       "2000-01-03  2.778906  2.778906  2.778906  2.778906  3998720000        0.0   \n",
       "2000-01-04  2.622946  2.622946  2.622946  2.622946  3098880000        0.0   \n",
       "2000-01-05  2.658392  2.658392  2.658392  2.658392  6645760000        0.0   \n",
       "2000-01-06  2.637125  2.637125  2.637125  2.637125  3303680000        0.0   \n",
       "2000-01-07  2.658392  2.658392  2.658392  2.658392  2506240000        0.0   \n",
       "...              ...       ...       ...       ...         ...        ...   \n",
       "2001-12-20  3.724112  3.724112  3.724112  3.724112    76236800        0.0   \n",
       "2001-12-21  3.773264  3.773264  3.773264  3.773264    68953600        0.0   \n",
       "2001-12-26  3.826195  3.826195  3.826195  3.826195    41497600        0.0   \n",
       "2001-12-27  3.924495  3.924495  3.924495  3.924495    50675200        0.0   \n",
       "2001-12-28  3.969111  3.969111  3.969111  3.969111    57536000        0.0   \n",
       "\n",
       "            Stock Splits  \n",
       "Date                      \n",
       "2000-01-03           0.0  \n",
       "2000-01-04           0.0  \n",
       "2000-01-05           0.0  \n",
       "2000-01-06           0.0  \n",
       "2000-01-07           0.0  \n",
       "...                  ...  \n",
       "2001-12-20           0.0  \n",
       "2001-12-21           0.0  \n",
       "2001-12-26           0.0  \n",
       "2001-12-27           0.0  \n",
       "2001-12-28           0.0  \n",
       "\n",
       "[481 rows x 7 columns]"
      ]
     },
     "execution_count": 26,
     "metadata": {},
     "output_type": "execute_result"
    }
   ],
   "source": [
    "# pega os primeiros 2 anos\n",
    "petr.first('2Y')"
   ]
  },
  {
   "cell_type": "code",
   "execution_count": 28,
   "metadata": {},
   "outputs": [
    {
     "data": {
      "text/plain": [
       "<matplotlib.axes._subplots.AxesSubplot at 0x7f892fb03ac0>"
      ]
     },
     "execution_count": 28,
     "metadata": {},
     "output_type": "execute_result"
    },
    {
     "data": {
      "image/png": "[encoded data removed]",
      "text/plain": [
       "<Figure size 432x288 with 1 Axes>"
      ]
     },
     "metadata": {
      "needs_background": "light"
     },
     "output_type": "display_data"
    }
   ],
   "source": [
    "petr.loc['2022']['Close'].plot()"
   ]
  },
  {
   "cell_type": "code",
   "execution_count": 29,
   "metadata": {},
   "outputs": [
    {
     "data": {
      "text/html": [
       "<div>\n",
       "<style scoped>\n",
       "    .dataframe tbody tr th:only-of-type {\n",
       "        vertical-align: middle;\n",
       "    }\n",
       "\n",
       "    .dataframe tbody tr th {\n",
       "        vertical-align: top;\n",
       "    }\n",
       "\n",
       "    .dataframe thead th {\n",
       "        text-align: right;\n",
       "    }\n",
       "</style>\n",
       "<table border=\"1\" class=\"dataframe\">\n",
       "  <thead>\n",
       "    <tr style=\"text-align: right;\">\n",
       "      <th></th>\n",
       "      <th>Open</th>\n",
       "      <th>High</th>\n",
       "      <th>Low</th>\n",
       "      <th>Close</th>\n",
       "      <th>Volume</th>\n",
       "      <th>Dividends</th>\n",
       "      <th>Stock Splits</th>\n",
       "    </tr>\n",
       "    <tr>\n",
       "      <th>Date</th>\n",
       "      <th></th>\n",
       "      <th></th>\n",
       "      <th></th>\n",
       "      <th></th>\n",
       "      <th></th>\n",
       "      <th></th>\n",
       "      <th></th>\n",
       "    </tr>\n",
       "  </thead>\n",
       "  <tbody>\n",
       "    <tr>\n",
       "      <th>2019-01-02</th>\n",
       "      <td>18.097256</td>\n",
       "      <td>19.194060</td>\n",
       "      <td>17.876471</td>\n",
       "      <td>18.980396</td>\n",
       "      <td>14725300</td>\n",
       "      <td>0.0</td>\n",
       "      <td>0.0</td>\n",
       "    </tr>\n",
       "    <tr>\n",
       "      <th>2019-01-03</th>\n",
       "      <td>18.980396</td>\n",
       "      <td>19.535920</td>\n",
       "      <td>18.716879</td>\n",
       "      <td>19.372112</td>\n",
       "      <td>12766200</td>\n",
       "      <td>0.0</td>\n",
       "      <td>0.0</td>\n",
       "    </tr>\n",
       "    <tr>\n",
       "      <th>2019-01-04</th>\n",
       "      <td>19.400600</td>\n",
       "      <td>19.628507</td>\n",
       "      <td>19.279525</td>\n",
       "      <td>19.592897</td>\n",
       "      <td>10848500</td>\n",
       "      <td>0.0</td>\n",
       "      <td>0.0</td>\n",
       "    </tr>\n",
       "    <tr>\n",
       "      <th>2019-01-07</th>\n",
       "      <td>19.628508</td>\n",
       "      <td>20.725312</td>\n",
       "      <td>19.621386</td>\n",
       "      <td>20.226765</td>\n",
       "      <td>16164400</td>\n",
       "      <td>0.0</td>\n",
       "      <td>0.0</td>\n",
       "    </tr>\n",
       "    <tr>\n",
       "      <th>2019-01-08</th>\n",
       "      <td>20.404816</td>\n",
       "      <td>20.490282</td>\n",
       "      <td>20.020223</td>\n",
       "      <td>20.119932</td>\n",
       "      <td>12562900</td>\n",
       "      <td>0.0</td>\n",
       "      <td>0.0</td>\n",
       "    </tr>\n",
       "    <tr>\n",
       "      <th>...</th>\n",
       "      <td>...</td>\n",
       "      <td>...</td>\n",
       "      <td>...</td>\n",
       "      <td>...</td>\n",
       "      <td>...</td>\n",
       "      <td>...</td>\n",
       "      <td>...</td>\n",
       "    </tr>\n",
       "    <tr>\n",
       "      <th>2022-04-20</th>\n",
       "      <td>34.650002</td>\n",
       "      <td>35.180000</td>\n",
       "      <td>34.389999</td>\n",
       "      <td>35.119999</td>\n",
       "      <td>10192200</td>\n",
       "      <td>0.0</td>\n",
       "      <td>0.0</td>\n",
       "    </tr>\n",
       "    <tr>\n",
       "      <th>2022-04-22</th>\n",
       "      <td>34.480000</td>\n",
       "      <td>34.700001</td>\n",
       "      <td>33.209999</td>\n",
       "      <td>33.369999</td>\n",
       "      <td>15533100</td>\n",
       "      <td>0.0</td>\n",
       "      <td>0.0</td>\n",
       "    </tr>\n",
       "    <tr>\n",
       "      <th>2022-04-25</th>\n",
       "      <td>32.910000</td>\n",
       "      <td>33.480000</td>\n",
       "      <td>32.419998</td>\n",
       "      <td>33.139999</td>\n",
       "      <td>13116200</td>\n",
       "      <td>0.0</td>\n",
       "      <td>0.0</td>\n",
       "    </tr>\n",
       "    <tr>\n",
       "      <th>2022-04-26</th>\n",
       "      <td>33.070000</td>\n",
       "      <td>33.770000</td>\n",
       "      <td>32.939999</td>\n",
       "      <td>33.090000</td>\n",
       "      <td>13847200</td>\n",
       "      <td>0.0</td>\n",
       "      <td>0.0</td>\n",
       "    </tr>\n",
       "    <tr>\n",
       "      <th>2022-04-27</th>\n",
       "      <td>33.500000</td>\n",
       "      <td>33.740002</td>\n",
       "      <td>33.020000</td>\n",
       "      <td>33.189999</td>\n",
       "      <td>7212700</td>\n",
       "      <td>0.0</td>\n",
       "      <td>0.0</td>\n",
       "    </tr>\n",
       "  </tbody>\n",
       "</table>\n",
       "<p>822 rows × 7 columns</p>\n",
       "</div>"
      ],
      "text/plain": [
       "                 Open       High        Low      Close    Volume  Dividends  \\\n",
       "Date                                                                          \n",
       "2019-01-02  18.097256  19.194060  17.876471  18.980396  14725300        0.0   \n",
       "2019-01-03  18.980396  19.535920  18.716879  19.372112  12766200        0.0   \n",
       "2019-01-04  19.400600  19.628507  19.279525  19.592897  10848500        0.0   \n",
       "2019-01-07  19.628508  20.725312  19.621386  20.226765  16164400        0.0   \n",
       "2019-01-08  20.404816  20.490282  20.020223  20.119932  12562900        0.0   \n",
       "...               ...        ...        ...        ...       ...        ...   \n",
       "2022-04-20  34.650002  35.180000  34.389999  35.119999  10192200        0.0   \n",
       "2022-04-22  34.480000  34.700001  33.209999  33.369999  15533100        0.0   \n",
       "2022-04-25  32.910000  33.480000  32.419998  33.139999  13116200        0.0   \n",
       "2022-04-26  33.070000  33.770000  32.939999  33.090000  13847200        0.0   \n",
       "2022-04-27  33.500000  33.740002  33.020000  33.189999   7212700        0.0   \n",
       "\n",
       "            Stock Splits  \n",
       "Date                      \n",
       "2019-01-02           0.0  \n",
       "2019-01-03           0.0  \n",
       "2019-01-04           0.0  \n",
       "2019-01-07           0.0  \n",
       "2019-01-08           0.0  \n",
       "...                  ...  \n",
       "2022-04-20           0.0  \n",
       "2022-04-22           0.0  \n",
       "2022-04-25           0.0  \n",
       "2022-04-26           0.0  \n",
       "2022-04-27           0.0  \n",
       "\n",
       "[822 rows x 7 columns]"
      ]
     },
     "execution_count": 29,
     "metadata": {},
     "output_type": "execute_result"
    }
   ],
   "source": [
    "petr.loc['2019-1-1':]"
   ]
  },
  {
   "cell_type": "code",
   "execution_count": 30,
   "metadata": {},
   "outputs": [
    {
     "data": {
      "text/html": [
       "<div>\n",
       "<style scoped>\n",
       "    .dataframe tbody tr th:only-of-type {\n",
       "        vertical-align: middle;\n",
       "    }\n",
       "\n",
       "    .dataframe tbody tr th {\n",
       "        vertical-align: top;\n",
       "    }\n",
       "\n",
       "    .dataframe thead th {\n",
       "        text-align: right;\n",
       "    }\n",
       "</style>\n",
       "<table border=\"1\" class=\"dataframe\">\n",
       "  <thead>\n",
       "    <tr style=\"text-align: right;\">\n",
       "      <th></th>\n",
       "      <th>Open</th>\n",
       "      <th>High</th>\n",
       "      <th>Low</th>\n",
       "      <th>Close</th>\n",
       "      <th>Volume</th>\n",
       "      <th>Dividends</th>\n",
       "      <th>Stock Splits</th>\n",
       "    </tr>\n",
       "    <tr>\n",
       "      <th>Date</th>\n",
       "      <th></th>\n",
       "      <th></th>\n",
       "      <th></th>\n",
       "      <th></th>\n",
       "      <th></th>\n",
       "      <th></th>\n",
       "      <th></th>\n",
       "    </tr>\n",
       "  </thead>\n",
       "  <tbody>\n",
       "    <tr>\n",
       "      <th>2018-01-02</th>\n",
       "      <td>11.983283</td>\n",
       "      <td>12.223090</td>\n",
       "      <td>11.976230</td>\n",
       "      <td>12.223090</td>\n",
       "      <td>4488000</td>\n",
       "      <td>0.0</td>\n",
       "      <td>0.0</td>\n",
       "    </tr>\n",
       "    <tr>\n",
       "      <th>2018-01-03</th>\n",
       "      <td>12.159611</td>\n",
       "      <td>12.462896</td>\n",
       "      <td>12.138451</td>\n",
       "      <td>12.378258</td>\n",
       "      <td>9771700</td>\n",
       "      <td>0.0</td>\n",
       "      <td>0.0</td>\n",
       "    </tr>\n",
       "    <tr>\n",
       "      <th>2018-01-04</th>\n",
       "      <td>12.462897</td>\n",
       "      <td>12.625118</td>\n",
       "      <td>12.434683</td>\n",
       "      <td>12.484056</td>\n",
       "      <td>6816500</td>\n",
       "      <td>0.0</td>\n",
       "      <td>0.0</td>\n",
       "    </tr>\n",
       "    <tr>\n",
       "      <th>2018-01-05</th>\n",
       "      <td>12.477005</td>\n",
       "      <td>12.589855</td>\n",
       "      <td>12.413527</td>\n",
       "      <td>12.582802</td>\n",
       "      <td>4646500</td>\n",
       "      <td>0.0</td>\n",
       "      <td>0.0</td>\n",
       "    </tr>\n",
       "    <tr>\n",
       "      <th>2018-01-08</th>\n",
       "      <td>12.441737</td>\n",
       "      <td>12.780289</td>\n",
       "      <td>12.420578</td>\n",
       "      <td>12.780289</td>\n",
       "      <td>4763400</td>\n",
       "      <td>0.0</td>\n",
       "      <td>0.0</td>\n",
       "    </tr>\n",
       "    <tr>\n",
       "      <th>...</th>\n",
       "      <td>...</td>\n",
       "      <td>...</td>\n",
       "      <td>...</td>\n",
       "      <td>...</td>\n",
       "      <td>...</td>\n",
       "      <td>...</td>\n",
       "      <td>...</td>\n",
       "    </tr>\n",
       "    <tr>\n",
       "      <th>2020-12-22</th>\n",
       "      <td>20.881422</td>\n",
       "      <td>21.129652</td>\n",
       "      <td>20.753546</td>\n",
       "      <td>20.941599</td>\n",
       "      <td>8388700</td>\n",
       "      <td>0.0</td>\n",
       "      <td>0.0</td>\n",
       "    </tr>\n",
       "    <tr>\n",
       "      <th>2020-12-23</th>\n",
       "      <td>21.039384</td>\n",
       "      <td>21.753987</td>\n",
       "      <td>21.039384</td>\n",
       "      <td>21.392925</td>\n",
       "      <td>5874900</td>\n",
       "      <td>0.0</td>\n",
       "      <td>0.0</td>\n",
       "    </tr>\n",
       "    <tr>\n",
       "      <th>2020-12-28</th>\n",
       "      <td>21.663722</td>\n",
       "      <td>21.911952</td>\n",
       "      <td>21.535845</td>\n",
       "      <td>21.550890</td>\n",
       "      <td>7255700</td>\n",
       "      <td>0.0</td>\n",
       "      <td>0.0</td>\n",
       "    </tr>\n",
       "    <tr>\n",
       "      <th>2020-12-29</th>\n",
       "      <td>21.663722</td>\n",
       "      <td>21.769033</td>\n",
       "      <td>21.370360</td>\n",
       "      <td>21.565935</td>\n",
       "      <td>7363400</td>\n",
       "      <td>0.0</td>\n",
       "      <td>0.0</td>\n",
       "    </tr>\n",
       "    <tr>\n",
       "      <th>2020-12-30</th>\n",
       "      <td>21.701336</td>\n",
       "      <td>21.881867</td>\n",
       "      <td>21.626114</td>\n",
       "      <td>21.701336</td>\n",
       "      <td>20928700</td>\n",
       "      <td>0.0</td>\n",
       "      <td>0.0</td>\n",
       "    </tr>\n",
       "  </tbody>\n",
       "</table>\n",
       "<p>742 rows × 7 columns</p>\n",
       "</div>"
      ],
      "text/plain": [
       "                 Open       High        Low      Close    Volume  Dividends  \\\n",
       "Date                                                                          \n",
       "2018-01-02  11.983283  12.223090  11.976230  12.223090   4488000        0.0   \n",
       "2018-01-03  12.159611  12.462896  12.138451  12.378258   9771700        0.0   \n",
       "2018-01-04  12.462897  12.625118  12.434683  12.484056   6816500        0.0   \n",
       "2018-01-05  12.477005  12.589855  12.413527  12.582802   4646500        0.0   \n",
       "2018-01-08  12.441737  12.780289  12.420578  12.780289   4763400        0.0   \n",
       "...               ...        ...        ...        ...       ...        ...   \n",
       "2020-12-22  20.881422  21.129652  20.753546  20.941599   8388700        0.0   \n",
       "2020-12-23  21.039384  21.753987  21.039384  21.392925   5874900        0.0   \n",
       "2020-12-28  21.663722  21.911952  21.535845  21.550890   7255700        0.0   \n",
       "2020-12-29  21.663722  21.769033  21.370360  21.565935   7363400        0.0   \n",
       "2020-12-30  21.701336  21.881867  21.626114  21.701336  20928700        0.0   \n",
       "\n",
       "            Stock Splits  \n",
       "Date                      \n",
       "2018-01-02           0.0  \n",
       "2018-01-03           0.0  \n",
       "2018-01-04           0.0  \n",
       "2018-01-05           0.0  \n",
       "2018-01-08           0.0  \n",
       "...                  ...  \n",
       "2020-12-22           0.0  \n",
       "2020-12-23           0.0  \n",
       "2020-12-28           0.0  \n",
       "2020-12-29           0.0  \n",
       "2020-12-30           0.0  \n",
       "\n",
       "[742 rows x 7 columns]"
      ]
     },
     "execution_count": 30,
     "metadata": {},
     "output_type": "execute_result"
    }
   ],
   "source": [
    "petr.loc['2018-1-1':'2020-12-31']"
   ]
  },
  {
   "cell_type": "code",
   "execution_count": 31,
   "metadata": {},
   "outputs": [
    {
     "data": {
      "image/png": "[encoded data removed]",
      "text/plain": [
       "<Figure size 432x288 with 1 Axes>"
      ]
     },
     "metadata": {
      "needs_background": "light"
     },
     "output_type": "display_data"
    }
   ],
   "source": [
    "petr.loc['2019-1-1':].Close.plot();"
   ]
  },
  {
   "cell_type": "code",
   "execution_count": 33,
   "metadata": {},
   "outputs": [
    {
     "data": {
      "text/plain": [
       "<matplotlib.axes._subplots.AxesSubplot at 0x7f892f97b2b0>"
      ]
     },
     "execution_count": 33,
     "metadata": {},
     "output_type": "execute_result"
    },
    {
     "data": {
      "image/png": "[encoded data removed]",
      "text/plain": [
       "<Figure size 432x288 with 1 Axes>"
      ]
     },
     "metadata": {
      "needs_background": "light"
     },
     "output_type": "display_data"
    }
   ],
   "source": [
    "# Business year end\n",
    "petr['Close'].resample('BA').mean().plot()"
   ]
  },
  {
   "cell_type": "code",
   "execution_count": 34,
   "metadata": {},
   "outputs": [
    {
     "data": {
      "text/plain": [
       "Date\n",
       "2000-12-31     3.440365\n",
       "2001-12-31     4.248942\n",
       "2002-12-31     3.886166\n",
       "2003-12-31     4.600689\n",
       "2004-12-31     7.028623\n",
       "2005-12-31     9.775148\n",
       "2006-12-31    14.578872\n",
       "2007-12-31    18.863532\n",
       "2008-12-31    25.966612\n",
       "2009-12-31    23.526464\n",
       "2010-12-31    21.002236\n",
       "2011-12-31    17.060644\n",
       "2012-12-31    14.951584\n",
       "2013-12-31    11.661595\n",
       "2014-12-31    11.026634\n",
       "2015-12-31     7.539748\n",
       "2016-12-31     9.071215\n",
       "2017-12-31    10.836287\n",
       "2018-12-31    16.530553\n",
       "2019-12-31    21.543461\n",
       "2020-12-31    17.067738\n",
       "2021-12-31    21.793236\n",
       "2022-12-31    32.366919\n",
       "Freq: A-DEC, Name: Close, dtype: float64"
      ]
     },
     "execution_count": 34,
     "metadata": {},
     "output_type": "execute_result"
    }
   ],
   "source": [
    "# Year\n",
    "petr['Close'].resample('Y').mean()"
   ]
  },
  {
   "cell_type": "code",
   "execution_count": 36,
   "metadata": {},
   "outputs": [
    {
     "data": {
      "text/plain": [
       "<matplotlib.axes._subplots.AxesSubplot at 0x7f892fbec790>"
      ]
     },
     "execution_count": 36,
     "metadata": {},
     "output_type": "execute_result"
    },
    {
     "data": {
      "image/png": "[encoded data removed]",
      "text/plain": [
       "<Figure size 432x288 with 1 Axes>"
      ]
     },
     "metadata": {
      "needs_background": "light"
     },
     "output_type": "display_data"
    }
   ],
   "source": [
    "# Month\n",
    "petr['Close'].resample('M').mean().plot()"
   ]
  },
  {
   "cell_type": "code",
   "execution_count": 37,
   "metadata": {},
   "outputs": [
    {
     "data": {
      "text/plain": [
       "Date\n",
       "2000-01-09     2.671152\n",
       "2000-01-16     2.611605\n",
       "2000-01-23     2.491091\n",
       "2000-01-30     2.380165\n",
       "2000-02-06     2.572615\n",
       "                ...    \n",
       "2022-04-03    32.101981\n",
       "2022-04-10    32.887203\n",
       "2022-04-17    34.211855\n",
       "2022-04-24    34.329999\n",
       "2022-05-01    33.139999\n",
       "Freq: W-SUN, Name: Close, Length: 1165, dtype: float64"
      ]
     },
     "execution_count": 37,
     "metadata": {},
     "output_type": "execute_result"
    }
   ],
   "source": [
    "# weekly\n",
    "petr['Close'].resample('W').mean()"
   ]
  },
  {
   "cell_type": "code",
   "execution_count": 38,
   "metadata": {},
   "outputs": [
    {
     "data": {
      "image/png": "[encoded data removed]",
      "text/plain": [
       "<Figure size 432x288 with 1 Axes>"
      ]
     },
     "metadata": {
      "needs_background": "light"
     },
     "output_type": "display_data"
    }
   ],
   "source": [
    "petr['Close'].resample('M').mean().plot(color = 'k')\n",
    "plt.title('PETR3.SA Close price');"
   ]
  },
  {
   "cell_type": "code",
   "execution_count": 41,
   "metadata": {},
   "outputs": [
    {
     "data": {
      "text/plain": [
       "Int64Index([1, 1, 1, 1, 1, 1, 1, 1, 1, 1,\n",
       "            ...\n",
       "            4, 4, 4, 4, 4, 4, 4, 4, 4, 4],\n",
       "           dtype='int64', name='Date', length=5526)"
      ]
     },
     "execution_count": 41,
     "metadata": {},
     "output_type": "execute_result"
    }
   ],
   "source": [
    "petr.index.month"
   ]
  },
  {
   "cell_type": "code",
   "execution_count": 42,
   "metadata": {},
   "outputs": [],
   "source": [
    "petr['day'] = petr.index.day\n",
    "petr['weekday'] = petr.index.weekday\n",
    "petr['dayofweek'] = petr.index.dayofweek\n",
    "petr['weekofyear'] = petr.index.weekofyear\n",
    "petr['quarter'] = petr.index.quarter\n",
    "petr['quarter_start'] = petr.index.is_quarter_start\n",
    "petr['quarter_end'] = petr.index.is_quarter_end\n",
    "petr['year'] = petr.index.year\n",
    "petr['month'] = petr.index.month\n",
    "petr['month_start'] = petr.index.is_month_start\n",
    "petr['month_end'] = petr.index.is_month_end"
   ]
  },
  {
   "cell_type": "code",
   "execution_count": 43,
   "metadata": {},
   "outputs": [
    {
     "data": {
      "text/html": [
       "<div>\n",
       "<style scoped>\n",
       "    .dataframe tbody tr th:only-of-type {\n",
       "        vertical-align: middle;\n",
       "    }\n",
       "\n",
       "    .dataframe tbody tr th {\n",
       "        vertical-align: top;\n",
       "    }\n",
       "\n",
       "    .dataframe thead th {\n",
       "        text-align: right;\n",
       "    }\n",
       "</style>\n",
       "<table border=\"1\" class=\"dataframe\">\n",
       "  <thead>\n",
       "    <tr style=\"text-align: right;\">\n",
       "      <th></th>\n",
       "      <th>Open</th>\n",
       "      <th>High</th>\n",
       "      <th>Low</th>\n",
       "      <th>Close</th>\n",
       "      <th>Volume</th>\n",
       "      <th>Dividends</th>\n",
       "      <th>Stock Splits</th>\n",
       "      <th>day</th>\n",
       "      <th>weekday</th>\n",
       "      <th>dayofweek</th>\n",
       "      <th>weekofyear</th>\n",
       "      <th>quarter</th>\n",
       "      <th>quarter_start</th>\n",
       "      <th>quarter_end</th>\n",
       "      <th>year</th>\n",
       "      <th>month</th>\n",
       "      <th>month_start</th>\n",
       "      <th>month_end</th>\n",
       "    </tr>\n",
       "    <tr>\n",
       "      <th>Date</th>\n",
       "      <th></th>\n",
       "      <th></th>\n",
       "      <th></th>\n",
       "      <th></th>\n",
       "      <th></th>\n",
       "      <th></th>\n",
       "      <th></th>\n",
       "      <th></th>\n",
       "      <th></th>\n",
       "      <th></th>\n",
       "      <th></th>\n",
       "      <th></th>\n",
       "      <th></th>\n",
       "      <th></th>\n",
       "      <th></th>\n",
       "      <th></th>\n",
       "      <th></th>\n",
       "      <th></th>\n",
       "    </tr>\n",
       "  </thead>\n",
       "  <tbody>\n",
       "    <tr>\n",
       "      <th>2000-01-03</th>\n",
       "      <td>2.778906</td>\n",
       "      <td>2.778906</td>\n",
       "      <td>2.778906</td>\n",
       "      <td>2.778906</td>\n",
       "      <td>3998720000</td>\n",
       "      <td>0.0</td>\n",
       "      <td>0.0</td>\n",
       "      <td>3</td>\n",
       "      <td>0</td>\n",
       "      <td>0</td>\n",
       "      <td>1</td>\n",
       "      <td>1</td>\n",
       "      <td>False</td>\n",
       "      <td>False</td>\n",
       "      <td>2000</td>\n",
       "      <td>1</td>\n",
       "      <td>False</td>\n",
       "      <td>False</td>\n",
       "    </tr>\n",
       "    <tr>\n",
       "      <th>2000-01-04</th>\n",
       "      <td>2.622946</td>\n",
       "      <td>2.622946</td>\n",
       "      <td>2.622946</td>\n",
       "      <td>2.622946</td>\n",
       "      <td>3098880000</td>\n",
       "      <td>0.0</td>\n",
       "      <td>0.0</td>\n",
       "      <td>4</td>\n",
       "      <td>1</td>\n",
       "      <td>1</td>\n",
       "      <td>1</td>\n",
       "      <td>1</td>\n",
       "      <td>False</td>\n",
       "      <td>False</td>\n",
       "      <td>2000</td>\n",
       "      <td>1</td>\n",
       "      <td>False</td>\n",
       "      <td>False</td>\n",
       "    </tr>\n",
       "    <tr>\n",
       "      <th>2000-01-05</th>\n",
       "      <td>2.658392</td>\n",
       "      <td>2.658392</td>\n",
       "      <td>2.658392</td>\n",
       "      <td>2.658392</td>\n",
       "      <td>6645760000</td>\n",
       "      <td>0.0</td>\n",
       "      <td>0.0</td>\n",
       "      <td>5</td>\n",
       "      <td>2</td>\n",
       "      <td>2</td>\n",
       "      <td>1</td>\n",
       "      <td>1</td>\n",
       "      <td>False</td>\n",
       "      <td>False</td>\n",
       "      <td>2000</td>\n",
       "      <td>1</td>\n",
       "      <td>False</td>\n",
       "      <td>False</td>\n",
       "    </tr>\n",
       "    <tr>\n",
       "      <th>2000-01-06</th>\n",
       "      <td>2.637125</td>\n",
       "      <td>2.637125</td>\n",
       "      <td>2.637125</td>\n",
       "      <td>2.637125</td>\n",
       "      <td>3303680000</td>\n",
       "      <td>0.0</td>\n",
       "      <td>0.0</td>\n",
       "      <td>6</td>\n",
       "      <td>3</td>\n",
       "      <td>3</td>\n",
       "      <td>1</td>\n",
       "      <td>1</td>\n",
       "      <td>False</td>\n",
       "      <td>False</td>\n",
       "      <td>2000</td>\n",
       "      <td>1</td>\n",
       "      <td>False</td>\n",
       "      <td>False</td>\n",
       "    </tr>\n",
       "    <tr>\n",
       "      <th>2000-01-07</th>\n",
       "      <td>2.658392</td>\n",
       "      <td>2.658392</td>\n",
       "      <td>2.658392</td>\n",
       "      <td>2.658392</td>\n",
       "      <td>2506240000</td>\n",
       "      <td>0.0</td>\n",
       "      <td>0.0</td>\n",
       "      <td>7</td>\n",
       "      <td>4</td>\n",
       "      <td>4</td>\n",
       "      <td>1</td>\n",
       "      <td>1</td>\n",
       "      <td>False</td>\n",
       "      <td>False</td>\n",
       "      <td>2000</td>\n",
       "      <td>1</td>\n",
       "      <td>False</td>\n",
       "      <td>False</td>\n",
       "    </tr>\n",
       "    <tr>\n",
       "      <th>...</th>\n",
       "      <td>...</td>\n",
       "      <td>...</td>\n",
       "      <td>...</td>\n",
       "      <td>...</td>\n",
       "      <td>...</td>\n",
       "      <td>...</td>\n",
       "      <td>...</td>\n",
       "      <td>...</td>\n",
       "      <td>...</td>\n",
       "      <td>...</td>\n",
       "      <td>...</td>\n",
       "      <td>...</td>\n",
       "      <td>...</td>\n",
       "      <td>...</td>\n",
       "      <td>...</td>\n",
       "      <td>...</td>\n",
       "      <td>...</td>\n",
       "      <td>...</td>\n",
       "    </tr>\n",
       "    <tr>\n",
       "      <th>2022-04-20</th>\n",
       "      <td>34.650002</td>\n",
       "      <td>35.180000</td>\n",
       "      <td>34.389999</td>\n",
       "      <td>35.119999</td>\n",
       "      <td>10192200</td>\n",
       "      <td>0.0</td>\n",
       "      <td>0.0</td>\n",
       "      <td>20</td>\n",
       "      <td>2</td>\n",
       "      <td>2</td>\n",
       "      <td>16</td>\n",
       "      <td>2</td>\n",
       "      <td>False</td>\n",
       "      <td>False</td>\n",
       "      <td>2022</td>\n",
       "      <td>4</td>\n",
       "      <td>False</td>\n",
       "      <td>False</td>\n",
       "    </tr>\n",
       "    <tr>\n",
       "      <th>2022-04-22</th>\n",
       "      <td>34.480000</td>\n",
       "      <td>34.700001</td>\n",
       "      <td>33.209999</td>\n",
       "      <td>33.369999</td>\n",
       "      <td>15533100</td>\n",
       "      <td>0.0</td>\n",
       "      <td>0.0</td>\n",
       "      <td>22</td>\n",
       "      <td>4</td>\n",
       "      <td>4</td>\n",
       "      <td>16</td>\n",
       "      <td>2</td>\n",
       "      <td>False</td>\n",
       "      <td>False</td>\n",
       "      <td>2022</td>\n",
       "      <td>4</td>\n",
       "      <td>False</td>\n",
       "      <td>False</td>\n",
       "    </tr>\n",
       "    <tr>\n",
       "      <th>2022-04-25</th>\n",
       "      <td>32.910000</td>\n",
       "      <td>33.480000</td>\n",
       "      <td>32.419998</td>\n",
       "      <td>33.139999</td>\n",
       "      <td>13116200</td>\n",
       "      <td>0.0</td>\n",
       "      <td>0.0</td>\n",
       "      <td>25</td>\n",
       "      <td>0</td>\n",
       "      <td>0</td>\n",
       "      <td>17</td>\n",
       "      <td>2</td>\n",
       "      <td>False</td>\n",
       "      <td>False</td>\n",
       "      <td>2022</td>\n",
       "      <td>4</td>\n",
       "      <td>False</td>\n",
       "      <td>False</td>\n",
       "    </tr>\n",
       "    <tr>\n",
       "      <th>2022-04-26</th>\n",
       "      <td>33.070000</td>\n",
       "      <td>33.770000</td>\n",
       "      <td>32.939999</td>\n",
       "      <td>33.090000</td>\n",
       "      <td>13847200</td>\n",
       "      <td>0.0</td>\n",
       "      <td>0.0</td>\n",
       "      <td>26</td>\n",
       "      <td>1</td>\n",
       "      <td>1</td>\n",
       "      <td>17</td>\n",
       "      <td>2</td>\n",
       "      <td>False</td>\n",
       "      <td>False</td>\n",
       "      <td>2022</td>\n",
       "      <td>4</td>\n",
       "      <td>False</td>\n",
       "      <td>False</td>\n",
       "    </tr>\n",
       "    <tr>\n",
       "      <th>2022-04-27</th>\n",
       "      <td>33.500000</td>\n",
       "      <td>33.740002</td>\n",
       "      <td>33.020000</td>\n",
       "      <td>33.189999</td>\n",
       "      <td>7212700</td>\n",
       "      <td>0.0</td>\n",
       "      <td>0.0</td>\n",
       "      <td>27</td>\n",
       "      <td>2</td>\n",
       "      <td>2</td>\n",
       "      <td>17</td>\n",
       "      <td>2</td>\n",
       "      <td>False</td>\n",
       "      <td>False</td>\n",
       "      <td>2022</td>\n",
       "      <td>4</td>\n",
       "      <td>False</td>\n",
       "      <td>False</td>\n",
       "    </tr>\n",
       "  </tbody>\n",
       "</table>\n",
       "<p>5526 rows × 18 columns</p>\n",
       "</div>"
      ],
      "text/plain": [
       "                 Open       High        Low      Close      Volume  Dividends  \\\n",
       "Date                                                                            \n",
       "2000-01-03   2.778906   2.778906   2.778906   2.778906  3998720000        0.0   \n",
       "2000-01-04   2.622946   2.622946   2.622946   2.622946  3098880000        0.0   \n",
       "2000-01-05   2.658392   2.658392   2.658392   2.658392  6645760000        0.0   \n",
       "2000-01-06   2.637125   2.637125   2.637125   2.637125  3303680000        0.0   \n",
       "2000-01-07   2.658392   2.658392   2.658392   2.658392  2506240000        0.0   \n",
       "...               ...        ...        ...        ...         ...        ...   \n",
       "2022-04-20  34.650002  35.180000  34.389999  35.119999    10192200        0.0   \n",
       "2022-04-22  34.480000  34.700001  33.209999  33.369999    15533100        0.0   \n",
       "2022-04-25  32.910000  33.480000  32.419998  33.139999    13116200        0.0   \n",
       "2022-04-26  33.070000  33.770000  32.939999  33.090000    13847200        0.0   \n",
       "2022-04-27  33.500000  33.740002  33.020000  33.189999     7212700        0.0   \n",
       "\n",
       "            Stock Splits  day  weekday  dayofweek  weekofyear  quarter  \\\n",
       "Date                                                                     \n",
       "2000-01-03           0.0    3        0          0           1        1   \n",
       "2000-01-04           0.0    4        1          1           1        1   \n",
       "2000-01-05           0.0    5        2          2           1        1   \n",
       "2000-01-06           0.0    6        3          3           1        1   \n",
       "2000-01-07           0.0    7        4          4           1        1   \n",
       "...                  ...  ...      ...        ...         ...      ...   \n",
       "2022-04-20           0.0   20        2          2          16        2   \n",
       "2022-04-22           0.0   22        4          4          16        2   \n",
       "2022-04-25           0.0   25        0          0          17        2   \n",
       "2022-04-26           0.0   26        1          1          17        2   \n",
       "2022-04-27           0.0   27        2          2          17        2   \n",
       "\n",
       "            quarter_start  quarter_end  year  month  month_start  month_end  \n",
       "Date                                                                         \n",
       "2000-01-03          False        False  2000      1        False      False  \n",
       "2000-01-04          False        False  2000      1        False      False  \n",
       "2000-01-05          False        False  2000      1        False      False  \n",
       "2000-01-06          False        False  2000      1        False      False  \n",
       "2000-01-07          False        False  2000      1        False      False  \n",
       "...                   ...          ...   ...    ...          ...        ...  \n",
       "2022-04-20          False        False  2022      4        False      False  \n",
       "2022-04-22          False        False  2022      4        False      False  \n",
       "2022-04-25          False        False  2022      4        False      False  \n",
       "2022-04-26          False        False  2022      4        False      False  \n",
       "2022-04-27          False        False  2022      4        False      False  \n",
       "\n",
       "[5526 rows x 18 columns]"
      ]
     },
     "execution_count": 43,
     "metadata": {},
     "output_type": "execute_result"
    }
   ],
   "source": [
    "petr"
   ]
  },
  {
   "cell_type": "markdown",
   "metadata": {},
   "source": [
    "#### Lab: Dados de desemprego no Brasil com PNADC"
   ]
  },
  {
   "cell_type": "code",
   "execution_count": 44,
   "metadata": {},
   "outputs": [],
   "source": [
    "desemprego = pd.read_csv('STP-20220317102940796.csv', encoding = 'latin1', sep = ';')"
   ]
  },
  {
   "cell_type": "code",
   "execution_count": 48,
   "metadata": {},
   "outputs": [
    {
     "data": {
      "text/html": [
       "<div>\n",
       "<style scoped>\n",
       "    .dataframe tbody tr th:only-of-type {\n",
       "        vertical-align: middle;\n",
       "    }\n",
       "\n",
       "    .dataframe tbody tr th {\n",
       "        vertical-align: top;\n",
       "    }\n",
       "\n",
       "    .dataframe thead th {\n",
       "        text-align: right;\n",
       "    }\n",
       "</style>\n",
       "<table border=\"1\" class=\"dataframe\">\n",
       "  <thead>\n",
       "    <tr style=\"text-align: right;\">\n",
       "      <th></th>\n",
       "      <th>Data</th>\n",
       "      <th>Taxa de desocupação</th>\n",
       "      <th>Empregados no setor privado e público</th>\n",
       "      <th>Empregados no setor público</th>\n",
       "      <th>Empregado por conta própria</th>\n",
       "      <th>Empregados no setor privado - com carteira</th>\n",
       "      <th>Empregados no setor privado - sem Carteira</th>\n",
       "      <th>Empregados no setor privado - total</th>\n",
       "    </tr>\n",
       "  </thead>\n",
       "  <tbody>\n",
       "    <tr>\n",
       "      <th>0</th>\n",
       "      <td>03/2012</td>\n",
       "      <td>8,0</td>\n",
       "      <td>62.105</td>\n",
       "      <td>10.767</td>\n",
       "      <td>20.174</td>\n",
       "      <td>34.262</td>\n",
       "      <td>11.122</td>\n",
       "      <td>45.384</td>\n",
       "    </tr>\n",
       "    <tr>\n",
       "      <th>1</th>\n",
       "      <td>04/2012</td>\n",
       "      <td>7,8</td>\n",
       "      <td>62.586</td>\n",
       "      <td>10.884</td>\n",
       "      <td>20.205</td>\n",
       "      <td>34.574</td>\n",
       "      <td>11.180</td>\n",
       "      <td>45.754</td>\n",
       "    </tr>\n",
       "    <tr>\n",
       "      <th>2</th>\n",
       "      <td>05/2012</td>\n",
       "      <td>7,7</td>\n",
       "      <td>62.927</td>\n",
       "      <td>10.925</td>\n",
       "      <td>20.165</td>\n",
       "      <td>34.759</td>\n",
       "      <td>11.244</td>\n",
       "      <td>46.003</td>\n",
       "    </tr>\n",
       "    <tr>\n",
       "      <th>3</th>\n",
       "      <td>06/2012</td>\n",
       "      <td>7,6</td>\n",
       "      <td>63.299</td>\n",
       "      <td>11.031</td>\n",
       "      <td>19.930</td>\n",
       "      <td>35.004</td>\n",
       "      <td>11.265</td>\n",
       "      <td>46.269</td>\n",
       "    </tr>\n",
       "    <tr>\n",
       "      <th>4</th>\n",
       "      <td>07/2012</td>\n",
       "      <td>7,5</td>\n",
       "      <td>63.523</td>\n",
       "      <td>11.119</td>\n",
       "      <td>19.843</td>\n",
       "      <td>35.120</td>\n",
       "      <td>11.293</td>\n",
       "      <td>46.413</td>\n",
       "    </tr>\n",
       "  </tbody>\n",
       "</table>\n",
       "</div>"
      ],
      "text/plain": [
       "      Data Taxa de desocupação Empregados no setor privado e público  \\\n",
       "0  03/2012                8,0                                62.105    \n",
       "1  04/2012                7,8                                62.586    \n",
       "2  05/2012                7,7                                62.927    \n",
       "3  06/2012                7,6                                63.299    \n",
       "4  07/2012                7,5                                63.523    \n",
       "\n",
       "  Empregados no setor público Empregado por conta própria  \\\n",
       "0                     10.767                      20.174    \n",
       "1                     10.884                      20.205    \n",
       "2                     10.925                      20.165    \n",
       "3                     11.031                      19.930    \n",
       "4                     11.119                      19.843    \n",
       "\n",
       "  Empregados no setor privado - com carteira  \\\n",
       "0                                    34.262    \n",
       "1                                    34.574    \n",
       "2                                    34.759    \n",
       "3                                    35.004    \n",
       "4                                    35.120    \n",
       "\n",
       "  Empregados no setor privado - sem Carteira  \\\n",
       "0                                    11.122    \n",
       "1                                    11.180    \n",
       "2                                    11.244    \n",
       "3                                    11.265    \n",
       "4                                    11.293    \n",
       "\n",
       "  Empregados no setor privado - total  \n",
       "0                              45.384  \n",
       "1                              45.754  \n",
       "2                              46.003  \n",
       "3                              46.269  \n",
       "4                              46.413  "
      ]
     },
     "execution_count": 48,
     "metadata": {},
     "output_type": "execute_result"
    }
   ],
   "source": [
    "desemprego.head()"
   ]
  },
  {
   "cell_type": "code",
   "execution_count": 50,
   "metadata": {},
   "outputs": [
    {
     "data": {
      "text/plain": [
       "Data                                          object\n",
       "Taxa de desocupação                           object\n",
       "Empregados no setor privado e público         object\n",
       "Empregados no setor público                   object\n",
       "Empregado por conta própria                   object\n",
       "Empregados no setor privado - com carteira    object\n",
       "Empregados no setor privado - sem Carteira    object\n",
       "Empregados no setor privado - total           object\n",
       "dtype: object"
      ]
     },
     "execution_count": 50,
     "metadata": {},
     "output_type": "execute_result"
    }
   ],
   "source": [
    "desemprego.dtypes"
   ]
  },
  {
   "cell_type": "code",
   "execution_count": 45,
   "metadata": {},
   "outputs": [
    {
     "data": {
      "text/plain": [
       "['Data',\n",
       " '24369 - Taxa de desocupação - PNADC - %',\n",
       " '24371 - Empregados no setor privado e público - PNADC - Unidades (mil)',\n",
       " '24372 - Empregados no setor público - PNADC - Unidades (mil)',\n",
       " '24373 - Empregado por conta própria - PNADC - Unidades (mil)',\n",
       " '24375 - Empregados no setor privado - Com carteira - PNADC - Unidades (mil)',\n",
       " '24376 - Empregados no setor privado - Sem Carteira - PNADC - Unidades (mil)',\n",
       " '24377 - Empregados no setor privado - Total - PNADC - Unidades (mil)']"
      ]
     },
     "execution_count": 45,
     "metadata": {},
     "output_type": "execute_result"
    }
   ],
   "source": [
    "desemprego.columns.tolist()"
   ]
  },
  {
   "cell_type": "code",
   "execution_count": 46,
   "metadata": {},
   "outputs": [],
   "source": [
    "columns = desemprego.columns.tolist()\n",
    "desemprego.rename(\n",
    "columns = {\n",
    "    columns[1]: 'Taxa de desocupação',\n",
    "    columns[2]: 'Empregados no setor privado e público',\n",
    "    columns[3]: 'Empregados no setor público',\n",
    "    columns[4]: 'Empregado por conta própria',\n",
    "    columns[5]: 'Empregados no setor privado - com carteira',\n",
    "    columns[6]: 'Empregados no setor privado - sem Carteira',\n",
    "    columns[7]: 'Empregados no setor privado - total'\n",
    "},\n",
    "inplace = True\n",
    ")\n"
   ]
  },
  {
   "cell_type": "code",
   "execution_count": 47,
   "metadata": {},
   "outputs": [
    {
     "data": {
      "text/html": [
       "<div>\n",
       "<style scoped>\n",
       "    .dataframe tbody tr th:only-of-type {\n",
       "        vertical-align: middle;\n",
       "    }\n",
       "\n",
       "    .dataframe tbody tr th {\n",
       "        vertical-align: top;\n",
       "    }\n",
       "\n",
       "    .dataframe thead th {\n",
       "        text-align: right;\n",
       "    }\n",
       "</style>\n",
       "<table border=\"1\" class=\"dataframe\">\n",
       "  <thead>\n",
       "    <tr style=\"text-align: right;\">\n",
       "      <th></th>\n",
       "      <th>Data</th>\n",
       "      <th>Taxa de desocupação</th>\n",
       "      <th>Empregados no setor privado e público</th>\n",
       "      <th>Empregados no setor público</th>\n",
       "      <th>Empregado por conta própria</th>\n",
       "      <th>Empregados no setor privado - com carteira</th>\n",
       "      <th>Empregados no setor privado - sem Carteira</th>\n",
       "      <th>Empregados no setor privado - total</th>\n",
       "    </tr>\n",
       "  </thead>\n",
       "  <tbody>\n",
       "    <tr>\n",
       "      <th>114</th>\n",
       "      <td>09/2021</td>\n",
       "      <td>12,6</td>\n",
       "      <td>61.724</td>\n",
       "      <td>11.168</td>\n",
       "      <td>25.461</td>\n",
       "      <td>33.508</td>\n",
       "      <td>11.691</td>\n",
       "      <td>45.199</td>\n",
       "    </tr>\n",
       "    <tr>\n",
       "      <th>115</th>\n",
       "      <td>10/2021</td>\n",
       "      <td>12,1</td>\n",
       "      <td>62.497</td>\n",
       "      <td>11.152</td>\n",
       "      <td>25.638</td>\n",
       "      <td>33.876</td>\n",
       "      <td>11.956</td>\n",
       "      <td>45.832</td>\n",
       "    </tr>\n",
       "    <tr>\n",
       "      <th>116</th>\n",
       "      <td>11/2021</td>\n",
       "      <td>11,6</td>\n",
       "      <td>63.287</td>\n",
       "      <td>11.275</td>\n",
       "      <td>25.841</td>\n",
       "      <td>34.224</td>\n",
       "      <td>12.179</td>\n",
       "      <td>46.403</td>\n",
       "    </tr>\n",
       "    <tr>\n",
       "      <th>117</th>\n",
       "      <td>12/2021</td>\n",
       "      <td>11,1</td>\n",
       "      <td>64.010</td>\n",
       "      <td>11.375</td>\n",
       "      <td>25.944</td>\n",
       "      <td>34.495</td>\n",
       "      <td>12.443</td>\n",
       "      <td>46.938</td>\n",
       "    </tr>\n",
       "    <tr>\n",
       "      <th>118</th>\n",
       "      <td>Fonte</td>\n",
       "      <td>IBGE</td>\n",
       "      <td>IBGE</td>\n",
       "      <td>IBGE</td>\n",
       "      <td>IBGE</td>\n",
       "      <td>IBGE</td>\n",
       "      <td>IBGE</td>\n",
       "      <td>IBGE</td>\n",
       "    </tr>\n",
       "  </tbody>\n",
       "</table>\n",
       "</div>"
      ],
      "text/plain": [
       "        Data Taxa de desocupação Empregados no setor privado e público  \\\n",
       "114  09/2021               12,6                                61.724    \n",
       "115  10/2021               12,1                                62.497    \n",
       "116  11/2021               11,6                                63.287    \n",
       "117  12/2021               11,1                                64.010    \n",
       "118    Fonte                IBGE                                  IBGE   \n",
       "\n",
       "    Empregados no setor público Empregado por conta própria  \\\n",
       "114                     11.168                      25.461    \n",
       "115                     11.152                      25.638    \n",
       "116                     11.275                      25.841    \n",
       "117                     11.375                      25.944    \n",
       "118                        IBGE                        IBGE   \n",
       "\n",
       "    Empregados no setor privado - com carteira  \\\n",
       "114                                    33.508    \n",
       "115                                    33.876    \n",
       "116                                    34.224    \n",
       "117                                    34.495    \n",
       "118                                       IBGE   \n",
       "\n",
       "    Empregados no setor privado - sem Carteira  \\\n",
       "114                                    11.691    \n",
       "115                                    11.956    \n",
       "116                                    12.179    \n",
       "117                                    12.443    \n",
       "118                                       IBGE   \n",
       "\n",
       "    Empregados no setor privado - total  \n",
       "114                              45.199  \n",
       "115                              45.832  \n",
       "116                              46.403  \n",
       "117                              46.938  \n",
       "118                                IBGE  "
      ]
     },
     "execution_count": 47,
     "metadata": {},
     "output_type": "execute_result"
    }
   ],
   "source": [
    "desemprego.tail()"
   ]
  },
  {
   "cell_type": "code",
   "execution_count": 52,
   "metadata": {},
   "outputs": [
    {
     "data": {
      "text/plain": [
       "Int64Index([118], dtype='int64')"
      ]
     },
     "execution_count": 52,
     "metadata": {},
     "output_type": "execute_result"
    }
   ],
   "source": [
    "desemprego.query('Data == \"Fonte\"').index"
   ]
  },
  {
   "cell_type": "code",
   "execution_count": 53,
   "metadata": {},
   "outputs": [],
   "source": [
    "desemprego.drop(desemprego.query('Data == \"Fonte\"').index, inplace = True)"
   ]
  },
  {
   "cell_type": "code",
   "execution_count": 54,
   "metadata": {},
   "outputs": [
    {
     "data": {
      "text/html": [
       "<div>\n",
       "<style scoped>\n",
       "    .dataframe tbody tr th:only-of-type {\n",
       "        vertical-align: middle;\n",
       "    }\n",
       "\n",
       "    .dataframe tbody tr th {\n",
       "        vertical-align: top;\n",
       "    }\n",
       "\n",
       "    .dataframe thead th {\n",
       "        text-align: right;\n",
       "    }\n",
       "</style>\n",
       "<table border=\"1\" class=\"dataframe\">\n",
       "  <thead>\n",
       "    <tr style=\"text-align: right;\">\n",
       "      <th></th>\n",
       "      <th>Data</th>\n",
       "      <th>Taxa de desocupação</th>\n",
       "      <th>Empregados no setor privado e público</th>\n",
       "      <th>Empregados no setor público</th>\n",
       "      <th>Empregado por conta própria</th>\n",
       "      <th>Empregados no setor privado - com carteira</th>\n",
       "      <th>Empregados no setor privado - sem Carteira</th>\n",
       "      <th>Empregados no setor privado - total</th>\n",
       "    </tr>\n",
       "  </thead>\n",
       "  <tbody>\n",
       "    <tr>\n",
       "      <th>0</th>\n",
       "      <td>03/2012</td>\n",
       "      <td>8,0</td>\n",
       "      <td>62.105</td>\n",
       "      <td>10.767</td>\n",
       "      <td>20.174</td>\n",
       "      <td>34.262</td>\n",
       "      <td>11.122</td>\n",
       "      <td>45.384</td>\n",
       "    </tr>\n",
       "    <tr>\n",
       "      <th>1</th>\n",
       "      <td>04/2012</td>\n",
       "      <td>7,8</td>\n",
       "      <td>62.586</td>\n",
       "      <td>10.884</td>\n",
       "      <td>20.205</td>\n",
       "      <td>34.574</td>\n",
       "      <td>11.180</td>\n",
       "      <td>45.754</td>\n",
       "    </tr>\n",
       "    <tr>\n",
       "      <th>2</th>\n",
       "      <td>05/2012</td>\n",
       "      <td>7,7</td>\n",
       "      <td>62.927</td>\n",
       "      <td>10.925</td>\n",
       "      <td>20.165</td>\n",
       "      <td>34.759</td>\n",
       "      <td>11.244</td>\n",
       "      <td>46.003</td>\n",
       "    </tr>\n",
       "    <tr>\n",
       "      <th>3</th>\n",
       "      <td>06/2012</td>\n",
       "      <td>7,6</td>\n",
       "      <td>63.299</td>\n",
       "      <td>11.031</td>\n",
       "      <td>19.930</td>\n",
       "      <td>35.004</td>\n",
       "      <td>11.265</td>\n",
       "      <td>46.269</td>\n",
       "    </tr>\n",
       "    <tr>\n",
       "      <th>4</th>\n",
       "      <td>07/2012</td>\n",
       "      <td>7,5</td>\n",
       "      <td>63.523</td>\n",
       "      <td>11.119</td>\n",
       "      <td>19.843</td>\n",
       "      <td>35.120</td>\n",
       "      <td>11.293</td>\n",
       "      <td>46.413</td>\n",
       "    </tr>\n",
       "    <tr>\n",
       "      <th>...</th>\n",
       "      <td>...</td>\n",
       "      <td>...</td>\n",
       "      <td>...</td>\n",
       "      <td>...</td>\n",
       "      <td>...</td>\n",
       "      <td>...</td>\n",
       "      <td>...</td>\n",
       "      <td>...</td>\n",
       "    </tr>\n",
       "    <tr>\n",
       "      <th>113</th>\n",
       "      <td>08/2021</td>\n",
       "      <td>13,1</td>\n",
       "      <td>60.760</td>\n",
       "      <td>11.230</td>\n",
       "      <td>25.253</td>\n",
       "      <td>32.894</td>\n",
       "      <td>11.342</td>\n",
       "      <td>44.236</td>\n",
       "    </tr>\n",
       "    <tr>\n",
       "      <th>114</th>\n",
       "      <td>09/2021</td>\n",
       "      <td>12,6</td>\n",
       "      <td>61.724</td>\n",
       "      <td>11.168</td>\n",
       "      <td>25.461</td>\n",
       "      <td>33.508</td>\n",
       "      <td>11.691</td>\n",
       "      <td>45.199</td>\n",
       "    </tr>\n",
       "    <tr>\n",
       "      <th>115</th>\n",
       "      <td>10/2021</td>\n",
       "      <td>12,1</td>\n",
       "      <td>62.497</td>\n",
       "      <td>11.152</td>\n",
       "      <td>25.638</td>\n",
       "      <td>33.876</td>\n",
       "      <td>11.956</td>\n",
       "      <td>45.832</td>\n",
       "    </tr>\n",
       "    <tr>\n",
       "      <th>116</th>\n",
       "      <td>11/2021</td>\n",
       "      <td>11,6</td>\n",
       "      <td>63.287</td>\n",
       "      <td>11.275</td>\n",
       "      <td>25.841</td>\n",
       "      <td>34.224</td>\n",
       "      <td>12.179</td>\n",
       "      <td>46.403</td>\n",
       "    </tr>\n",
       "    <tr>\n",
       "      <th>117</th>\n",
       "      <td>12/2021</td>\n",
       "      <td>11,1</td>\n",
       "      <td>64.010</td>\n",
       "      <td>11.375</td>\n",
       "      <td>25.944</td>\n",
       "      <td>34.495</td>\n",
       "      <td>12.443</td>\n",
       "      <td>46.938</td>\n",
       "    </tr>\n",
       "  </tbody>\n",
       "</table>\n",
       "<p>118 rows × 8 columns</p>\n",
       "</div>"
      ],
      "text/plain": [
       "        Data Taxa de desocupação Empregados no setor privado e público  \\\n",
       "0    03/2012                8,0                                62.105    \n",
       "1    04/2012                7,8                                62.586    \n",
       "2    05/2012                7,7                                62.927    \n",
       "3    06/2012                7,6                                63.299    \n",
       "4    07/2012                7,5                                63.523    \n",
       "..       ...                 ...                                   ...   \n",
       "113  08/2021               13,1                                60.760    \n",
       "114  09/2021               12,6                                61.724    \n",
       "115  10/2021               12,1                                62.497    \n",
       "116  11/2021               11,6                                63.287    \n",
       "117  12/2021               11,1                                64.010    \n",
       "\n",
       "    Empregados no setor público Empregado por conta própria  \\\n",
       "0                       10.767                      20.174    \n",
       "1                       10.884                      20.205    \n",
       "2                       10.925                      20.165    \n",
       "3                       11.031                      19.930    \n",
       "4                       11.119                      19.843    \n",
       "..                          ...                         ...   \n",
       "113                     11.230                      25.253    \n",
       "114                     11.168                      25.461    \n",
       "115                     11.152                      25.638    \n",
       "116                     11.275                      25.841    \n",
       "117                     11.375                      25.944    \n",
       "\n",
       "    Empregados no setor privado - com carteira  \\\n",
       "0                                      34.262    \n",
       "1                                      34.574    \n",
       "2                                      34.759    \n",
       "3                                      35.004    \n",
       "4                                      35.120    \n",
       "..                                         ...   \n",
       "113                                    32.894    \n",
       "114                                    33.508    \n",
       "115                                    33.876    \n",
       "116                                    34.224    \n",
       "117                                    34.495    \n",
       "\n",
       "    Empregados no setor privado - sem Carteira  \\\n",
       "0                                      11.122    \n",
       "1                                      11.180    \n",
       "2                                      11.244    \n",
       "3                                      11.265    \n",
       "4                                      11.293    \n",
       "..                                         ...   \n",
       "113                                    11.342    \n",
       "114                                    11.691    \n",
       "115                                    11.956    \n",
       "116                                    12.179    \n",
       "117                                    12.443    \n",
       "\n",
       "    Empregados no setor privado - total  \n",
       "0                                45.384  \n",
       "1                                45.754  \n",
       "2                                46.003  \n",
       "3                                46.269  \n",
       "4                                46.413  \n",
       "..                                  ...  \n",
       "113                              44.236  \n",
       "114                              45.199  \n",
       "115                              45.832  \n",
       "116                              46.403  \n",
       "117                              46.938  \n",
       "\n",
       "[118 rows x 8 columns]"
      ]
     },
     "execution_count": 54,
     "metadata": {},
     "output_type": "execute_result"
    }
   ],
   "source": [
    "desemprego"
   ]
  },
  {
   "cell_type": "code",
   "execution_count": 55,
   "metadata": {},
   "outputs": [
    {
     "data": {
      "text/plain": [
       "Data                                          object\n",
       "Taxa de desocupação                           object\n",
       "Empregados no setor privado e público         object\n",
       "Empregados no setor público                   object\n",
       "Empregado por conta própria                   object\n",
       "Empregados no setor privado - com carteira    object\n",
       "Empregados no setor privado - sem Carteira    object\n",
       "Empregados no setor privado - total           object\n",
       "dtype: object"
      ]
     },
     "execution_count": 55,
     "metadata": {},
     "output_type": "execute_result"
    }
   ],
   "source": [
    "desemprego.dtypes"
   ]
  },
  {
   "cell_type": "code",
   "execution_count": null,
   "metadata": {},
   "outputs": [],
   "source": []
  },
  {
   "cell_type": "code",
   "execution_count": 56,
   "metadata": {},
   "outputs": [],
   "source": [
    "desemprego.Data = pd.to_datetime(desemprego.Data, format = '%m/%Y')"
   ]
  },
  {
   "cell_type": "code",
   "execution_count": 57,
   "metadata": {},
   "outputs": [
    {
     "data": {
      "text/plain": [
       "Data                                          datetime64[ns]\n",
       "Taxa de desocupação                                   object\n",
       "Empregados no setor privado e público                 object\n",
       "Empregados no setor público                           object\n",
       "Empregado por conta própria                           object\n",
       "Empregados no setor privado - com carteira            object\n",
       "Empregados no setor privado - sem Carteira            object\n",
       "Empregados no setor privado - total                   object\n",
       "dtype: object"
      ]
     },
     "execution_count": 57,
     "metadata": {},
     "output_type": "execute_result"
    }
   ],
   "source": [
    "desemprego.dtypes"
   ]
  },
  {
   "cell_type": "code",
   "execution_count": 58,
   "metadata": {},
   "outputs": [
    {
     "data": {
      "text/html": [
       "<div>\n",
       "<style scoped>\n",
       "    .dataframe tbody tr th:only-of-type {\n",
       "        vertical-align: middle;\n",
       "    }\n",
       "\n",
       "    .dataframe tbody tr th {\n",
       "        vertical-align: top;\n",
       "    }\n",
       "\n",
       "    .dataframe thead th {\n",
       "        text-align: right;\n",
       "    }\n",
       "</style>\n",
       "<table border=\"1\" class=\"dataframe\">\n",
       "  <thead>\n",
       "    <tr style=\"text-align: right;\">\n",
       "      <th></th>\n",
       "      <th>Data</th>\n",
       "      <th>Taxa de desocupação</th>\n",
       "      <th>Empregados no setor privado e público</th>\n",
       "      <th>Empregados no setor público</th>\n",
       "      <th>Empregado por conta própria</th>\n",
       "      <th>Empregados no setor privado - com carteira</th>\n",
       "      <th>Empregados no setor privado - sem Carteira</th>\n",
       "      <th>Empregados no setor privado - total</th>\n",
       "    </tr>\n",
       "  </thead>\n",
       "  <tbody>\n",
       "    <tr>\n",
       "      <th>0</th>\n",
       "      <td>2012-03-01</td>\n",
       "      <td>8,0</td>\n",
       "      <td>62.105</td>\n",
       "      <td>10.767</td>\n",
       "      <td>20.174</td>\n",
       "      <td>34.262</td>\n",
       "      <td>11.122</td>\n",
       "      <td>45.384</td>\n",
       "    </tr>\n",
       "    <tr>\n",
       "      <th>1</th>\n",
       "      <td>2012-04-01</td>\n",
       "      <td>7,8</td>\n",
       "      <td>62.586</td>\n",
       "      <td>10.884</td>\n",
       "      <td>20.205</td>\n",
       "      <td>34.574</td>\n",
       "      <td>11.180</td>\n",
       "      <td>45.754</td>\n",
       "    </tr>\n",
       "    <tr>\n",
       "      <th>2</th>\n",
       "      <td>2012-05-01</td>\n",
       "      <td>7,7</td>\n",
       "      <td>62.927</td>\n",
       "      <td>10.925</td>\n",
       "      <td>20.165</td>\n",
       "      <td>34.759</td>\n",
       "      <td>11.244</td>\n",
       "      <td>46.003</td>\n",
       "    </tr>\n",
       "    <tr>\n",
       "      <th>3</th>\n",
       "      <td>2012-06-01</td>\n",
       "      <td>7,6</td>\n",
       "      <td>63.299</td>\n",
       "      <td>11.031</td>\n",
       "      <td>19.930</td>\n",
       "      <td>35.004</td>\n",
       "      <td>11.265</td>\n",
       "      <td>46.269</td>\n",
       "    </tr>\n",
       "    <tr>\n",
       "      <th>4</th>\n",
       "      <td>2012-07-01</td>\n",
       "      <td>7,5</td>\n",
       "      <td>63.523</td>\n",
       "      <td>11.119</td>\n",
       "      <td>19.843</td>\n",
       "      <td>35.120</td>\n",
       "      <td>11.293</td>\n",
       "      <td>46.413</td>\n",
       "    </tr>\n",
       "  </tbody>\n",
       "</table>\n",
       "</div>"
      ],
      "text/plain": [
       "        Data Taxa de desocupação Empregados no setor privado e público  \\\n",
       "0 2012-03-01                8,0                                62.105    \n",
       "1 2012-04-01                7,8                                62.586    \n",
       "2 2012-05-01                7,7                                62.927    \n",
       "3 2012-06-01                7,6                                63.299    \n",
       "4 2012-07-01                7,5                                63.523    \n",
       "\n",
       "  Empregados no setor público Empregado por conta própria  \\\n",
       "0                     10.767                      20.174    \n",
       "1                     10.884                      20.205    \n",
       "2                     10.925                      20.165    \n",
       "3                     11.031                      19.930    \n",
       "4                     11.119                      19.843    \n",
       "\n",
       "  Empregados no setor privado - com carteira  \\\n",
       "0                                    34.262    \n",
       "1                                    34.574    \n",
       "2                                    34.759    \n",
       "3                                    35.004    \n",
       "4                                    35.120    \n",
       "\n",
       "  Empregados no setor privado - sem Carteira  \\\n",
       "0                                    11.122    \n",
       "1                                    11.180    \n",
       "2                                    11.244    \n",
       "3                                    11.265    \n",
       "4                                    11.293    \n",
       "\n",
       "  Empregados no setor privado - total  \n",
       "0                              45.384  \n",
       "1                              45.754  \n",
       "2                              46.003  \n",
       "3                              46.269  \n",
       "4                              46.413  "
      ]
     },
     "execution_count": 58,
     "metadata": {},
     "output_type": "execute_result"
    }
   ],
   "source": [
    "desemprego.head()"
   ]
  },
  {
   "cell_type": "code",
   "execution_count": 62,
   "metadata": {},
   "outputs": [
    {
     "name": "stdout",
     "output_type": "stream",
     "text": [
      "Taxa de desocupação\n",
      "Empregados no setor privado e público\n",
      "Empregados no setor público\n",
      "Empregado por conta própria\n",
      "Empregados no setor privado - com carteira\n",
      "Empregados no setor privado - sem Carteira\n",
      "Empregados no setor privado - total\n"
     ]
    }
   ],
   "source": [
    "for coluna in desemprego.select_dtypes(object):\n",
    "    print(coluna)"
   ]
  },
  {
   "cell_type": "code",
   "execution_count": 64,
   "metadata": {},
   "outputs": [
    {
     "data": {
      "text/plain": [
       "0       8.0 \n",
       "1       7.8 \n",
       "2       7.7 \n",
       "3       7.6 \n",
       "4       7.5 \n",
       "       ...  \n",
       "113    13.1 \n",
       "114    12.6 \n",
       "115    12.1 \n",
       "116    11.6 \n",
       "117    11.1 \n",
       "Name: Taxa de desocupação, Length: 118, dtype: object"
      ]
     },
     "execution_count": 64,
     "metadata": {},
     "output_type": "execute_result"
    }
   ],
   "source": [
    "desemprego['Taxa de desocupação'].str.replace(',', '.')"
   ]
  },
  {
   "cell_type": "code",
   "execution_count": 65,
   "metadata": {},
   "outputs": [],
   "source": [
    "for column in desemprego.select_dtypes(object):\n",
    "    if column == 'Taxa de desocupação':\n",
    "        desemprego[column] = desemprego[column].str.replace(',', '.').astype(float)\n",
    "    else:\n",
    "        desemprego[column] = desemprego[column].astype(float)"
   ]
  },
  {
   "cell_type": "code",
   "execution_count": 66,
   "metadata": {},
   "outputs": [
    {
     "data": {
      "text/plain": [
       "Data                                          datetime64[ns]\n",
       "Taxa de desocupação                                  float64\n",
       "Empregados no setor privado e público                float64\n",
       "Empregados no setor público                          float64\n",
       "Empregado por conta própria                          float64\n",
       "Empregados no setor privado - com carteira           float64\n",
       "Empregados no setor privado - sem Carteira           float64\n",
       "Empregados no setor privado - total                  float64\n",
       "dtype: object"
      ]
     },
     "execution_count": 66,
     "metadata": {},
     "output_type": "execute_result"
    }
   ],
   "source": [
    "desemprego.dtypes"
   ]
  },
  {
   "cell_type": "code",
   "execution_count": 67,
   "metadata": {},
   "outputs": [
    {
     "data": {
      "text/html": [
       "<div>\n",
       "<style scoped>\n",
       "    .dataframe tbody tr th:only-of-type {\n",
       "        vertical-align: middle;\n",
       "    }\n",
       "\n",
       "    .dataframe tbody tr th {\n",
       "        vertical-align: top;\n",
       "    }\n",
       "\n",
       "    .dataframe thead th {\n",
       "        text-align: right;\n",
       "    }\n",
       "</style>\n",
       "<table border=\"1\" class=\"dataframe\">\n",
       "  <thead>\n",
       "    <tr style=\"text-align: right;\">\n",
       "      <th></th>\n",
       "      <th>Data</th>\n",
       "      <th>Taxa de desocupação</th>\n",
       "      <th>Empregados no setor privado e público</th>\n",
       "      <th>Empregados no setor público</th>\n",
       "      <th>Empregado por conta própria</th>\n",
       "      <th>Empregados no setor privado - com carteira</th>\n",
       "      <th>Empregados no setor privado - sem Carteira</th>\n",
       "      <th>Empregados no setor privado - total</th>\n",
       "    </tr>\n",
       "  </thead>\n",
       "  <tbody>\n",
       "    <tr>\n",
       "      <th>0</th>\n",
       "      <td>2012-03-01</td>\n",
       "      <td>8.0</td>\n",
       "      <td>62.105</td>\n",
       "      <td>10.767</td>\n",
       "      <td>20.174</td>\n",
       "      <td>34.262</td>\n",
       "      <td>11.122</td>\n",
       "      <td>45.384</td>\n",
       "    </tr>\n",
       "    <tr>\n",
       "      <th>1</th>\n",
       "      <td>2012-04-01</td>\n",
       "      <td>7.8</td>\n",
       "      <td>62.586</td>\n",
       "      <td>10.884</td>\n",
       "      <td>20.205</td>\n",
       "      <td>34.574</td>\n",
       "      <td>11.180</td>\n",
       "      <td>45.754</td>\n",
       "    </tr>\n",
       "    <tr>\n",
       "      <th>2</th>\n",
       "      <td>2012-05-01</td>\n",
       "      <td>7.7</td>\n",
       "      <td>62.927</td>\n",
       "      <td>10.925</td>\n",
       "      <td>20.165</td>\n",
       "      <td>34.759</td>\n",
       "      <td>11.244</td>\n",
       "      <td>46.003</td>\n",
       "    </tr>\n",
       "    <tr>\n",
       "      <th>3</th>\n",
       "      <td>2012-06-01</td>\n",
       "      <td>7.6</td>\n",
       "      <td>63.299</td>\n",
       "      <td>11.031</td>\n",
       "      <td>19.930</td>\n",
       "      <td>35.004</td>\n",
       "      <td>11.265</td>\n",
       "      <td>46.269</td>\n",
       "    </tr>\n",
       "    <tr>\n",
       "      <th>4</th>\n",
       "      <td>2012-07-01</td>\n",
       "      <td>7.5</td>\n",
       "      <td>63.523</td>\n",
       "      <td>11.119</td>\n",
       "      <td>19.843</td>\n",
       "      <td>35.120</td>\n",
       "      <td>11.293</td>\n",
       "      <td>46.413</td>\n",
       "    </tr>\n",
       "    <tr>\n",
       "      <th>...</th>\n",
       "      <td>...</td>\n",
       "      <td>...</td>\n",
       "      <td>...</td>\n",
       "      <td>...</td>\n",
       "      <td>...</td>\n",
       "      <td>...</td>\n",
       "      <td>...</td>\n",
       "      <td>...</td>\n",
       "    </tr>\n",
       "    <tr>\n",
       "      <th>113</th>\n",
       "      <td>2021-08-01</td>\n",
       "      <td>13.1</td>\n",
       "      <td>60.760</td>\n",
       "      <td>11.230</td>\n",
       "      <td>25.253</td>\n",
       "      <td>32.894</td>\n",
       "      <td>11.342</td>\n",
       "      <td>44.236</td>\n",
       "    </tr>\n",
       "    <tr>\n",
       "      <th>114</th>\n",
       "      <td>2021-09-01</td>\n",
       "      <td>12.6</td>\n",
       "      <td>61.724</td>\n",
       "      <td>11.168</td>\n",
       "      <td>25.461</td>\n",
       "      <td>33.508</td>\n",
       "      <td>11.691</td>\n",
       "      <td>45.199</td>\n",
       "    </tr>\n",
       "    <tr>\n",
       "      <th>115</th>\n",
       "      <td>2021-10-01</td>\n",
       "      <td>12.1</td>\n",
       "      <td>62.497</td>\n",
       "      <td>11.152</td>\n",
       "      <td>25.638</td>\n",
       "      <td>33.876</td>\n",
       "      <td>11.956</td>\n",
       "      <td>45.832</td>\n",
       "    </tr>\n",
       "    <tr>\n",
       "      <th>116</th>\n",
       "      <td>2021-11-01</td>\n",
       "      <td>11.6</td>\n",
       "      <td>63.287</td>\n",
       "      <td>11.275</td>\n",
       "      <td>25.841</td>\n",
       "      <td>34.224</td>\n",
       "      <td>12.179</td>\n",
       "      <td>46.403</td>\n",
       "    </tr>\n",
       "    <tr>\n",
       "      <th>117</th>\n",
       "      <td>2021-12-01</td>\n",
       "      <td>11.1</td>\n",
       "      <td>64.010</td>\n",
       "      <td>11.375</td>\n",
       "      <td>25.944</td>\n",
       "      <td>34.495</td>\n",
       "      <td>12.443</td>\n",
       "      <td>46.938</td>\n",
       "    </tr>\n",
       "  </tbody>\n",
       "</table>\n",
       "<p>118 rows × 8 columns</p>\n",
       "</div>"
      ],
      "text/plain": [
       "          Data  Taxa de desocupação  Empregados no setor privado e público  \\\n",
       "0   2012-03-01                  8.0                                 62.105   \n",
       "1   2012-04-01                  7.8                                 62.586   \n",
       "2   2012-05-01                  7.7                                 62.927   \n",
       "3   2012-06-01                  7.6                                 63.299   \n",
       "4   2012-07-01                  7.5                                 63.523   \n",
       "..         ...                  ...                                    ...   \n",
       "113 2021-08-01                 13.1                                 60.760   \n",
       "114 2021-09-01                 12.6                                 61.724   \n",
       "115 2021-10-01                 12.1                                 62.497   \n",
       "116 2021-11-01                 11.6                                 63.287   \n",
       "117 2021-12-01                 11.1                                 64.010   \n",
       "\n",
       "     Empregados no setor público  Empregado por conta própria  \\\n",
       "0                         10.767                       20.174   \n",
       "1                         10.884                       20.205   \n",
       "2                         10.925                       20.165   \n",
       "3                         11.031                       19.930   \n",
       "4                         11.119                       19.843   \n",
       "..                           ...                          ...   \n",
       "113                       11.230                       25.253   \n",
       "114                       11.168                       25.461   \n",
       "115                       11.152                       25.638   \n",
       "116                       11.275                       25.841   \n",
       "117                       11.375                       25.944   \n",
       "\n",
       "     Empregados no setor privado - com carteira  \\\n",
       "0                                        34.262   \n",
       "1                                        34.574   \n",
       "2                                        34.759   \n",
       "3                                        35.004   \n",
       "4                                        35.120   \n",
       "..                                          ...   \n",
       "113                                      32.894   \n",
       "114                                      33.508   \n",
       "115                                      33.876   \n",
       "116                                      34.224   \n",
       "117                                      34.495   \n",
       "\n",
       "     Empregados no setor privado - sem Carteira  \\\n",
       "0                                        11.122   \n",
       "1                                        11.180   \n",
       "2                                        11.244   \n",
       "3                                        11.265   \n",
       "4                                        11.293   \n",
       "..                                          ...   \n",
       "113                                      11.342   \n",
       "114                                      11.691   \n",
       "115                                      11.956   \n",
       "116                                      12.179   \n",
       "117                                      12.443   \n",
       "\n",
       "     Empregados no setor privado - total  \n",
       "0                                 45.384  \n",
       "1                                 45.754  \n",
       "2                                 46.003  \n",
       "3                                 46.269  \n",
       "4                                 46.413  \n",
       "..                                   ...  \n",
       "113                               44.236  \n",
       "114                               45.199  \n",
       "115                               45.832  \n",
       "116                               46.403  \n",
       "117                               46.938  \n",
       "\n",
       "[118 rows x 8 columns]"
      ]
     },
     "execution_count": 67,
     "metadata": {},
     "output_type": "execute_result"
    }
   ],
   "source": [
    "desemprego"
   ]
  },
  {
   "cell_type": "code",
   "execution_count": 68,
   "metadata": {},
   "outputs": [],
   "source": [
    "desemprego.set_index('Data', inplace = True)"
   ]
  },
  {
   "cell_type": "code",
   "execution_count": 70,
   "metadata": {},
   "outputs": [
    {
     "data": {
      "text/plain": [
       "DatetimeIndex(['2012-03-01', '2012-04-01', '2012-05-01', '2012-06-01',\n",
       "               '2012-07-01', '2012-08-01', '2012-09-01', '2012-10-01',\n",
       "               '2012-11-01', '2012-12-01',\n",
       "               ...\n",
       "               '2021-03-01', '2021-04-01', '2021-05-01', '2021-06-01',\n",
       "               '2021-07-01', '2021-08-01', '2021-09-01', '2021-10-01',\n",
       "               '2021-11-01', '2021-12-01'],\n",
       "              dtype='datetime64[ns]', name='Data', length=118, freq=None)"
      ]
     },
     "execution_count": 70,
     "metadata": {},
     "output_type": "execute_result"
    }
   ],
   "source": [
    "desemprego.index"
   ]
  },
  {
   "cell_type": "code",
   "execution_count": 71,
   "metadata": {},
   "outputs": [
    {
     "data": {
      "image/png": "[encoded data removed]",
      "text/plain": [
       "<Figure size 432x288 with 1 Axes>"
      ]
     },
     "metadata": {
      "needs_background": "light"
     },
     "output_type": "display_data"
    }
   ],
   "source": [
    "desemprego['Taxa de desocupação'].plot();"
   ]
  },
  {
   "cell_type": "code",
   "execution_count": 72,
   "metadata": {},
   "outputs": [
    {
     "data": {
      "image/png": "[encoded data removed]",
      "text/plain": [
       "<Figure size 432x288 with 1 Axes>"
      ]
     },
     "metadata": {
      "needs_background": "light"
     },
     "output_type": "display_data"
    }
   ],
   "source": [
    "desemprego['Taxa de desocupação'].resample('Y').agg(np.mean).plot();"
   ]
  },
  {
   "cell_type": "code",
   "execution_count": 73,
   "metadata": {},
   "outputs": [
    {
     "data": {
      "text/plain": [
       "<matplotlib.axes._subplots.AxesSubplot at 0x7f892cf9e460>"
      ]
     },
     "execution_count": 73,
     "metadata": {},
     "output_type": "execute_result"
    },
    {
     "data": {
      "image/png": "[encoded data removed]",
      "text/plain": [
       "<Figure size 432x288 with 1 Axes>"
      ]
     },
     "metadata": {
      "needs_background": "light"
     },
     "output_type": "display_data"
    }
   ],
   "source": [
    "desemprego['Empregados no setor privado - total'].plot()"
   ]
  },
  {
   "cell_type": "code",
   "execution_count": 75,
   "metadata": {},
   "outputs": [],
   "source": [
    "from statsmodels.tsa.seasonal import seasonal_decompose"
   ]
  },
  {
   "cell_type": "code",
   "execution_count": 76,
   "metadata": {},
   "outputs": [],
   "source": [
    "ts_decompose = seasonal_decompose(desemprego['Empregados no setor privado - total'])"
   ]
  },
  {
   "cell_type": "code",
   "execution_count": 77,
   "metadata": {},
   "outputs": [
    {
     "data": {
      "image/png": "[encoded data removed]",
      "text/plain": [
       "<Figure size 432x288 with 4 Axes>"
      ]
     },
     "metadata": {
      "needs_background": "light"
     },
     "output_type": "display_data"
    }
   ],
   "source": [
    "ts_decompose.plot();"
   ]
  },
  {
   "cell_type": "code",
   "execution_count": 78,
   "metadata": {},
   "outputs": [
    {
     "data": {
      "text/plain": [
       "Data\n",
       "2012-03-01         NaN\n",
       "2012-04-01    0.008153\n",
       "2012-05-01    0.005442\n",
       "2012-06-01    0.005782\n",
       "2012-07-01    0.003112\n",
       "                ...   \n",
       "2021-08-01    0.017621\n",
       "2021-09-01    0.021770\n",
       "2021-10-01    0.014005\n",
       "2021-11-01    0.012459\n",
       "2021-12-01    0.011529\n",
       "Name: Empregados no setor privado - total, Length: 118, dtype: float64"
      ]
     },
     "execution_count": 78,
     "metadata": {},
     "output_type": "execute_result"
    }
   ],
   "source": [
    "desemprego['Empregados no setor privado - total'].pct_change()"
   ]
  },
  {
   "cell_type": "code",
   "execution_count": 79,
   "metadata": {},
   "outputs": [
    {
     "data": {
      "image/png": "[encoded data removed]",
      "text/plain": [
       "<Figure size 432x288 with 1 Axes>"
      ]
     },
     "metadata": {
      "needs_background": "light"
     },
     "output_type": "display_data"
    }
   ],
   "source": [
    "(desemprego['Empregados no setor privado - total'].pct_change().fillna(0)*100).plot();"
   ]
  },
  {
   "cell_type": "code",
   "execution_count": null,
   "metadata": {},
   "outputs": [],
   "source": []
  }
 ],
 "metadata": {
  "kernelspec": {
   "display_name": "Python 3",
   "language": "python",
   "name": "python3"
  },
  "language_info": {
   "codemirror_mode": {
    "name": "ipython",
    "version": 3
   },
   "file_extension": ".py",
   "mimetype": "text/x-python",
   "name": "python",
   "nbconvert_exporter": "python",
   "pygments_lexer": "ipython3",
   "version": "3.8.10"
  }
 },
 "nbformat": 4,
 "nbformat_minor": 4
}
