{
 "cells": [
  {
   "cell_type": "code",
   "execution_count": 1,
   "metadata": {},
   "outputs": [],
   "source": [
    "import pandas as pd\n",
    "import numpy as np\n",
    "import warnings\n",
    "warnings.filterwarnings('ignore')"
   ]
  },
  {
   "cell_type": "code",
   "execution_count": 2,
   "metadata": {},
   "outputs": [],
   "source": [
    "np.random.seed(10)\n",
    "n = 50_000\n",
    "\n",
    "escolaridade = ['Ensino Fundamental', 'Ensino Médio', 'Ensino Superior']\n",
    "\n",
    "data = {\n",
    "    'Id': np.arange(1, n+1),\n",
    "    'Idade': np.random.randint(18, 70, size = n),\n",
    "    'Renda': np.random.randint(1_500, 10_000, size = n),\n",
    "    'Sexo': np.random.choice(['Masculino', 'Feminino'], size = n),\n",
    "    'Escolaridade': np.random.choice(escolaridade, size = n)\n",
    "}\n",
    "\n",
    "df = pd.DataFrame(data)"
   ]
  },
  {
   "cell_type": "code",
   "execution_count": 3,
   "metadata": {},
   "outputs": [],
   "source": [
    "np.random.seed(7)\n",
    "ativos = pd.Series(np.random.normal(3_000, 1000, size = n)).round(2)"
   ]
  },
  {
   "cell_type": "code",
   "execution_count": 4,
   "metadata": {},
   "outputs": [],
   "source": [
    "# cria coluna de ativos\n",
    "df['ativo'] = ativos"
   ]
  },
  {
   "cell_type": "code",
   "execution_count": 5,
   "metadata": {},
   "outputs": [],
   "source": [
    "# cria coluna de renda total\n",
    "df['renda_total'] = df['Renda']+df['ativo']"
   ]
  },
  {
   "cell_type": "code",
   "execution_count": 6,
   "metadata": {},
   "outputs": [],
   "source": [
    "# renda média (ativos e renda)\n",
    "renda_media = df.loc[:, ['Renda', 'ativo']].mean(axis = 1)"
   ]
  },
  {
   "cell_type": "code",
   "execution_count": 7,
   "metadata": {},
   "outputs": [],
   "source": [
    "# posição da coluna 'ativo'\n",
    "posicao = df.columns.to_list().index('ativo')"
   ]
  },
  {
   "cell_type": "code",
   "execution_count": 8,
   "metadata": {},
   "outputs": [],
   "source": [
    "# insere a coluna renda_media na posição da coluna 'ativo'\n",
    "df.insert(posicao, 'renda_média', renda_media )"
   ]
  },
  {
   "cell_type": "code",
   "execution_count": null,
   "metadata": {},
   "outputs": [],
   "source": [
    "df"
   ]
  },
  {
   "cell_type": "markdown",
   "metadata": {},
   "source": [
    "### Apply e map"
   ]
  },
  {
   "cell_type": "markdown",
   "metadata": {},
   "source": [
    "***"
   ]
  },
  {
   "cell_type": "markdown",
   "metadata": {},
   "source": [
    "**Revisão de funções**"
   ]
  },
  {
   "cell_type": "markdown",
   "metadata": {},
   "source": [
    "Vamos ver antes o que é um função no Python. Funções são úteis para:\n",
    "* Encapsular código;\n",
    "* Automatizar etapas;\n",
    "* Obter um código mais limpo e performático;\n",
    "* Escalar o código."
   ]
  },
  {
   "cell_type": "code",
   "execution_count": null,
   "metadata": {},
   "outputs": [],
   "source": [
    "def mensagem(nome):\n",
    "    print(f'Olá {nome} !')"
   ]
  },
  {
   "cell_type": "code",
   "execution_count": null,
   "metadata": {},
   "outputs": [],
   "source": [
    "mensagem(\"Lucas\")"
   ]
  },
  {
   "cell_type": "code",
   "execution_count": null,
   "metadata": {},
   "outputs": [],
   "source": [
    "lista_users = ['Lucas', 'Paulo', 'Tales', 'Rafael', 'Gabriel']\n",
    "\n",
    "for user in lista_users:\n",
    "    mensagem(user)"
   ]
  },
  {
   "cell_type": "markdown",
   "metadata": {},
   "source": [
    "Sintaxe funções sem parâmetros e sem retorno:\n",
    "    \n",
    "<code>\n",
    "def function_name():\n",
    "    code\n",
    "</code>"
   ]
  },
  {
   "cell_type": "markdown",
   "metadata": {},
   "source": [
    "**Exemplo 1:**"
   ]
  },
  {
   "cell_type": "code",
   "execution_count": null,
   "metadata": {},
   "outputs": [],
   "source": [
    "def saudar():\n",
    "    print('Olá !')"
   ]
  },
  {
   "cell_type": "code",
   "execution_count": null,
   "metadata": {},
   "outputs": [],
   "source": [
    "# executa a função\n",
    "saudar()"
   ]
  },
  {
   "cell_type": "markdown",
   "metadata": {},
   "source": [
    "Sintaxe função com parâmetros e sem retorno:\n",
    "    \n",
    "<code>\n",
    "def function_name(arg1, arg2, arg3):\n",
    "    code\n",
    "</code>"
   ]
  },
  {
   "cell_type": "markdown",
   "metadata": {},
   "source": [
    "**Exemplo 2:**"
   ]
  },
  {
   "cell_type": "code",
   "execution_count": null,
   "metadata": {},
   "outputs": [],
   "source": [
    "def somar(num_1, num_2):\n",
    "    print(num_1+num_2)"
   ]
  },
  {
   "cell_type": "code",
   "execution_count": null,
   "metadata": {},
   "outputs": [],
   "source": [
    "somar(10, 10)"
   ]
  },
  {
   "cell_type": "markdown",
   "metadata": {},
   "source": [
    "Podemos nomear os argumentos:"
   ]
  },
  {
   "cell_type": "code",
   "execution_count": null,
   "metadata": {},
   "outputs": [],
   "source": [
    "somar(num_1 = 15,\n",
    "      num_2 = 5\n",
    "     )"
   ]
  },
  {
   "cell_type": "code",
   "execution_count": null,
   "metadata": {},
   "outputs": [],
   "source": [
    "somar(\n",
    "    num_2 = 10,\n",
    "    num_1 = 10\n",
    ")"
   ]
  },
  {
   "cell_type": "code",
   "execution_count": null,
   "metadata": {},
   "outputs": [],
   "source": [
    "# o que signifca aquele None?\n",
    "print(somar(10,10))"
   ]
  },
  {
   "cell_type": "code",
   "execution_count": null,
   "metadata": {},
   "outputs": [],
   "source": [
    "# somar(\n",
    "#    num_1 = 1,\n",
    "#    10\n",
    "#)\n",
    "\n",
    "# SyntaxError: positional argument follows keyword argument"
   ]
  },
  {
   "cell_type": "markdown",
   "metadata": {},
   "source": [
    "Sintaxe de função com parâmetros e retorno:\n",
    "    \n",
    "<code>\n",
    "def function_name(arg1, arg2, arg3):\n",
    "    code\n",
    "    return code\n",
    "</code>"
   ]
  },
  {
   "cell_type": "markdown",
   "metadata": {},
   "source": [
    "**Exemplo 3:**"
   ]
  },
  {
   "cell_type": "code",
   "execution_count": null,
   "metadata": {},
   "outputs": [],
   "source": [
    "def somar(num_1, num_2):\n",
    "    \"\"\"\n",
    "    Recebe dois números e retorna a soma e a diferença entre eles.\n",
    "    \"\"\"\n",
    "    # soma\n",
    "    soma = num_1+num_2\n",
    "    # diferença\n",
    "    diff = num_1-num_2\n",
    "    return soma, diff"
   ]
  },
  {
   "cell_type": "code",
   "execution_count": null,
   "metadata": {},
   "outputs": [],
   "source": [
    "soma, diff = somar(10, 10)"
   ]
  },
  {
   "cell_type": "code",
   "execution_count": null,
   "metadata": {},
   "outputs": [],
   "source": [
    "type(somar(10,10))"
   ]
  },
  {
   "cell_type": "code",
   "execution_count": null,
   "metadata": {},
   "outputs": [],
   "source": [
    "soma"
   ]
  },
  {
   "cell_type": "code",
   "execution_count": null,
   "metadata": {},
   "outputs": [],
   "source": [
    "diff"
   ]
  },
  {
   "cell_type": "code",
   "execution_count": null,
   "metadata": {},
   "outputs": [],
   "source": [
    "print(somar(10,10))"
   ]
  },
  {
   "cell_type": "markdown",
   "metadata": {},
   "source": [
    "Funções nativas (built-in) importantes:"
   ]
  },
  {
   "cell_type": "code",
   "execution_count": null,
   "metadata": {},
   "outputs": [],
   "source": [
    "# retorna o tipo do objeto (str, int, float, list, tuple, dict)\n",
    "type('ABC')"
   ]
  },
  {
   "cell_type": "code",
   "execution_count": null,
   "metadata": {},
   "outputs": [],
   "source": [
    "type([1,2,3])"
   ]
  },
  {
   "cell_type": "code",
   "execution_count": null,
   "metadata": {},
   "outputs": [],
   "source": [
    "# retorna a soma de array\n",
    "sum([7, 8, 9, 10])"
   ]
  },
  {
   "cell_type": "code",
   "execution_count": null,
   "metadata": {},
   "outputs": [],
   "source": [
    "# retorna o tamanho de um array ou cadeia de caracteres\n",
    "len('AAAA')"
   ]
  },
  {
   "cell_type": "code",
   "execution_count": null,
   "metadata": {},
   "outputs": [],
   "source": [
    "len([1, 2, 3])"
   ]
  },
  {
   "cell_type": "code",
   "execution_count": null,
   "metadata": {},
   "outputs": [],
   "source": [
    "max([90, 10, 193])"
   ]
  },
  {
   "cell_type": "code",
   "execution_count": null,
   "metadata": {},
   "outputs": [],
   "source": [
    "# retorna valor mínimo em um array ou cadeia de caracteres\n",
    "min([0, 11, 95])"
   ]
  },
  {
   "cell_type": "markdown",
   "metadata": {},
   "source": [
    "Para saber mais de funções veja:\n",
    "* https://www.w3schools.com/python/python_functions.asp\n",
    "* https://docs.python.org/3/library/functions.html"
   ]
  },
  {
   "cell_type": "markdown",
   "metadata": {},
   "source": [
    "***"
   ]
  },
  {
   "cell_type": "code",
   "execution_count": 9,
   "metadata": {},
   "outputs": [
    {
     "data": {
      "text/html": [
       "<div>\n",
       "<style scoped>\n",
       "    .dataframe tbody tr th:only-of-type {\n",
       "        vertical-align: middle;\n",
       "    }\n",
       "\n",
       "    .dataframe tbody tr th {\n",
       "        vertical-align: top;\n",
       "    }\n",
       "\n",
       "    .dataframe thead th {\n",
       "        text-align: right;\n",
       "    }\n",
       "</style>\n",
       "<table border=\"1\" class=\"dataframe\">\n",
       "  <thead>\n",
       "    <tr style=\"text-align: right;\">\n",
       "      <th></th>\n",
       "      <th>Id</th>\n",
       "      <th>Idade</th>\n",
       "      <th>Renda</th>\n",
       "      <th>Sexo</th>\n",
       "      <th>Escolaridade</th>\n",
       "      <th>renda_média</th>\n",
       "      <th>ativo</th>\n",
       "      <th>renda_total</th>\n",
       "    </tr>\n",
       "  </thead>\n",
       "  <tbody>\n",
       "    <tr>\n",
       "      <th>0</th>\n",
       "      <td>1</td>\n",
       "      <td>27</td>\n",
       "      <td>2554</td>\n",
       "      <td>Feminino</td>\n",
       "      <td>Ensino Fundamental</td>\n",
       "      <td>3622.265</td>\n",
       "      <td>4690.53</td>\n",
       "      <td>7244.53</td>\n",
       "    </tr>\n",
       "    <tr>\n",
       "      <th>1</th>\n",
       "      <td>2</td>\n",
       "      <td>54</td>\n",
       "      <td>2475</td>\n",
       "      <td>Feminino</td>\n",
       "      <td>Ensino Superior</td>\n",
       "      <td>2504.530</td>\n",
       "      <td>2534.06</td>\n",
       "      <td>5009.06</td>\n",
       "    </tr>\n",
       "    <tr>\n",
       "      <th>2</th>\n",
       "      <td>3</td>\n",
       "      <td>33</td>\n",
       "      <td>6820</td>\n",
       "      <td>Masculino</td>\n",
       "      <td>Ensino Superior</td>\n",
       "      <td>4926.410</td>\n",
       "      <td>3032.82</td>\n",
       "      <td>9852.82</td>\n",
       "    </tr>\n",
       "    <tr>\n",
       "      <th>3</th>\n",
       "      <td>4</td>\n",
       "      <td>18</td>\n",
       "      <td>2141</td>\n",
       "      <td>Masculino</td>\n",
       "      <td>Ensino Médio</td>\n",
       "      <td>2774.260</td>\n",
       "      <td>3407.52</td>\n",
       "      <td>5548.52</td>\n",
       "    </tr>\n",
       "    <tr>\n",
       "      <th>4</th>\n",
       "      <td>5</td>\n",
       "      <td>67</td>\n",
       "      <td>7381</td>\n",
       "      <td>Masculino</td>\n",
       "      <td>Ensino Fundamental</td>\n",
       "      <td>4796.040</td>\n",
       "      <td>2211.08</td>\n",
       "      <td>9592.08</td>\n",
       "    </tr>\n",
       "  </tbody>\n",
       "</table>\n",
       "</div>"
      ],
      "text/plain": [
       "   Id  Idade  Renda       Sexo        Escolaridade  renda_média    ativo  \\\n",
       "0   1     27   2554   Feminino  Ensino Fundamental     3622.265  4690.53   \n",
       "1   2     54   2475   Feminino     Ensino Superior     2504.530  2534.06   \n",
       "2   3     33   6820  Masculino     Ensino Superior     4926.410  3032.82   \n",
       "3   4     18   2141  Masculino        Ensino Médio     2774.260  3407.52   \n",
       "4   5     67   7381  Masculino  Ensino Fundamental     4796.040  2211.08   \n",
       "\n",
       "   renda_total  \n",
       "0      7244.53  \n",
       "1      5009.06  \n",
       "2      9852.82  \n",
       "3      5548.52  \n",
       "4      9592.08  "
      ]
     },
     "execution_count": 9,
     "metadata": {},
     "output_type": "execute_result"
    }
   ],
   "source": [
    "df.head()"
   ]
  },
  {
   "cell_type": "markdown",
   "metadata": {},
   "source": [
    "**map()**\n",
    "* percorre item por item e aplica uma função desejada.\n",
    "\n",
    "Neste exemplo, vamos percorrer cada valor de renda e aplicar a função np.log().\n"
   ]
  },
  {
   "cell_type": "code",
   "execution_count": 10,
   "metadata": {},
   "outputs": [
    {
     "data": {
      "text/plain": [
       "0        7.845416\n",
       "1        7.813996\n",
       "2        8.827615\n",
       "3        7.669028\n",
       "4        8.906664\n",
       "           ...   \n",
       "49995    8.039802\n",
       "49996    8.270269\n",
       "49997    7.841100\n",
       "49998    8.444838\n",
       "49999    7.664347\n",
       "Name: Renda, Length: 50000, dtype: float64"
      ]
     },
     "execution_count": 10,
     "metadata": {},
     "output_type": "execute_result"
    }
   ],
   "source": [
    "df.Renda.map(np.log)"
   ]
  },
  {
   "cell_type": "code",
   "execution_count": 12,
   "metadata": {},
   "outputs": [
    {
     "data": {
      "text/plain": [
       "0         Feminino\n",
       "1         Feminino\n",
       "2        Masculino\n",
       "3        Masculino\n",
       "4        Masculino\n",
       "           ...    \n",
       "49995     Feminino\n",
       "49996     Feminino\n",
       "49997    Masculino\n",
       "49998     Feminino\n",
       "49999     Feminino\n",
       "Name: Sexo, Length: 50000, dtype: object"
      ]
     },
     "execution_count": 12,
     "metadata": {},
     "output_type": "execute_result"
    }
   ],
   "source": [
    "df.Sexo"
   ]
  },
  {
   "cell_type": "code",
   "execution_count": 11,
   "metadata": {},
   "outputs": [
    {
     "data": {
      "text/plain": [
       "0        0\n",
       "1        0\n",
       "2        1\n",
       "3        1\n",
       "4        1\n",
       "        ..\n",
       "49995    0\n",
       "49996    0\n",
       "49997    1\n",
       "49998    0\n",
       "49999    0\n",
       "Name: Sexo, Length: 50000, dtype: int64"
      ]
     },
     "execution_count": 11,
     "metadata": {},
     "output_type": "execute_result"
    }
   ],
   "source": [
    "df.Sexo.map({\n",
    "    'Feminino':0,\n",
    "    'Masculino':1\n",
    "})"
   ]
  },
  {
   "cell_type": "code",
   "execution_count": 13,
   "metadata": {},
   "outputs": [],
   "source": [
    "def mapear_sexo(sexo):\n",
    "    if sexo == 'Masculino':\n",
    "        return 'M'\n",
    "    return 'F'"
   ]
  },
  {
   "cell_type": "code",
   "execution_count": 14,
   "metadata": {},
   "outputs": [
    {
     "data": {
      "text/plain": [
       "0        F\n",
       "1        F\n",
       "2        M\n",
       "3        M\n",
       "4        M\n",
       "        ..\n",
       "49995    F\n",
       "49996    F\n",
       "49997    M\n",
       "49998    F\n",
       "49999    F\n",
       "Name: Sexo, Length: 50000, dtype: object"
      ]
     },
     "execution_count": 14,
     "metadata": {},
     "output_type": "execute_result"
    }
   ],
   "source": [
    "# mapeia os valores da coluna Sexo a partir da função construída\n",
    "df.Sexo.map(mapear_sexo)"
   ]
  },
  {
   "cell_type": "code",
   "execution_count": 16,
   "metadata": {},
   "outputs": [
    {
     "data": {
      "text/plain": [
       "0        0\n",
       "1        0\n",
       "2        1\n",
       "3        1\n",
       "4        1\n",
       "        ..\n",
       "49995    0\n",
       "49996    0\n",
       "49997    1\n",
       "49998    0\n",
       "49999    0\n",
       "Name: Sexo, Length: 50000, dtype: int64"
      ]
     },
     "execution_count": 16,
     "metadata": {},
     "output_type": "execute_result"
    }
   ],
   "source": [
    "df.Sexo.replace({'Feminino': 0, 'Masculino':1})"
   ]
  },
  {
   "cell_type": "markdown",
   "metadata": {},
   "source": [
    "**apply()**\n",
    "* podemos aplicar uma função em todas as linhas ou em todas as colunas (ou seja, aplica uma função em um determinado eixo)."
   ]
  },
  {
   "cell_type": "code",
   "execution_count": 17,
   "metadata": {},
   "outputs": [],
   "source": [
    "def classifica_cliente(renda):\n",
    "    if renda<=5_000:\n",
    "        return 'Low'\n",
    "    else:\n",
    "        return 'High'"
   ]
  },
  {
   "cell_type": "code",
   "execution_count": 18,
   "metadata": {},
   "outputs": [
    {
     "data": {
      "text/plain": [
       "0         Low\n",
       "1         Low\n",
       "2        High\n",
       "3         Low\n",
       "4        High\n",
       "         ... \n",
       "49995     Low\n",
       "49996     Low\n",
       "49997     Low\n",
       "49998     Low\n",
       "49999     Low\n",
       "Name: Renda, Length: 50000, dtype: object"
      ]
     },
     "execution_count": 18,
     "metadata": {},
     "output_type": "execute_result"
    }
   ],
   "source": [
    "# mapeia os valores da coluna Renda\n",
    "df.Renda.apply(classifica_cliente)"
   ]
  },
  {
   "cell_type": "code",
   "execution_count": 21,
   "metadata": {},
   "outputs": [
    {
     "data": {
      "text/plain": [
       "array(['Ensino Fundamental', 'Ensino Superior', 'Ensino Médio'],\n",
       "      dtype=object)"
      ]
     },
     "execution_count": 21,
     "metadata": {},
     "output_type": "execute_result"
    }
   ],
   "source": [
    "df.Escolaridade.unique()"
   ]
  },
  {
   "cell_type": "code",
   "execution_count": 22,
   "metadata": {},
   "outputs": [],
   "source": [
    "def mapear_escolaridade(escolaridade):\n",
    "    if escolaridade == 'Ensino Fundamental':\n",
    "        return 1\n",
    "    elif escolaridade == 'Ensino Médio':\n",
    "        return 2\n",
    "    else:\n",
    "        return 3"
   ]
  },
  {
   "cell_type": "code",
   "execution_count": 23,
   "metadata": {},
   "outputs": [
    {
     "data": {
      "text/plain": [
       "0        1\n",
       "1        3\n",
       "2        3\n",
       "3        2\n",
       "4        1\n",
       "        ..\n",
       "49995    3\n",
       "49996    3\n",
       "49997    3\n",
       "49998    3\n",
       "49999    3\n",
       "Name: Escolaridade, Length: 50000, dtype: int64"
      ]
     },
     "execution_count": 23,
     "metadata": {},
     "output_type": "execute_result"
    }
   ],
   "source": [
    "df.Escolaridade.apply(mapear_escolaridade)"
   ]
  },
  {
   "cell_type": "code",
   "execution_count": null,
   "metadata": {},
   "outputs": [],
   "source": [
    "# lambda input:ouput"
   ]
  },
  {
   "cell_type": "code",
   "execution_count": 27,
   "metadata": {},
   "outputs": [
    {
     "data": {
      "text/plain": [
       "Masculino    0.5004\n",
       "Feminino     0.4996\n",
       "Name: Sexo, dtype: float64"
      ]
     },
     "execution_count": 27,
     "metadata": {},
     "output_type": "execute_result"
    }
   ],
   "source": [
    "df.Sexo.value_counts(normalize = True)"
   ]
  },
  {
   "cell_type": "code",
   "execution_count": 28,
   "metadata": {},
   "outputs": [
    {
     "data": {
      "text/plain": [
       "1    0.5004\n",
       "0    0.4996\n",
       "Name: Sexo, dtype: float64"
      ]
     },
     "execution_count": 28,
     "metadata": {},
     "output_type": "execute_result"
    }
   ],
   "source": [
    "df.Sexo.apply(lambda sexo: 1 if sexo == 'Masculino' else 0)\\\n",
    ".value_counts(normalize = True)"
   ]
  },
  {
   "cell_type": "code",
   "execution_count": 30,
   "metadata": {},
   "outputs": [],
   "source": [
    "data = df.copy()"
   ]
  },
  {
   "cell_type": "code",
   "execution_count": 33,
   "metadata": {},
   "outputs": [],
   "source": [
    "data['Sexo'] = data['Sexo'].apply(lambda sexo: 1 if sexo == 'Masculino' else 0)\n",
    "data['Escolaridade'] = data.Escolaridade.apply(mapear_escolaridade)"
   ]
  },
  {
   "cell_type": "code",
   "execution_count": 47,
   "metadata": {},
   "outputs": [],
   "source": [
    "data['target'] = data['renda_média'].apply(lambda x:0 if x <= 5000 else 1)"
   ]
  },
  {
   "cell_type": "code",
   "execution_count": 48,
   "metadata": {},
   "outputs": [
    {
     "data": {
      "text/html": [
       "<div>\n",
       "<style scoped>\n",
       "    .dataframe tbody tr th:only-of-type {\n",
       "        vertical-align: middle;\n",
       "    }\n",
       "\n",
       "    .dataframe tbody tr th {\n",
       "        vertical-align: top;\n",
       "    }\n",
       "\n",
       "    .dataframe thead th {\n",
       "        text-align: right;\n",
       "    }\n",
       "</style>\n",
       "<table border=\"1\" class=\"dataframe\">\n",
       "  <thead>\n",
       "    <tr style=\"text-align: right;\">\n",
       "      <th></th>\n",
       "      <th>Id</th>\n",
       "      <th>Idade</th>\n",
       "      <th>Renda</th>\n",
       "      <th>Sexo</th>\n",
       "      <th>Escolaridade</th>\n",
       "      <th>renda_média</th>\n",
       "      <th>ativo</th>\n",
       "      <th>renda_total</th>\n",
       "      <th>target</th>\n",
       "    </tr>\n",
       "  </thead>\n",
       "  <tbody>\n",
       "    <tr>\n",
       "      <th>0</th>\n",
       "      <td>1</td>\n",
       "      <td>27</td>\n",
       "      <td>2554</td>\n",
       "      <td>0</td>\n",
       "      <td>1</td>\n",
       "      <td>3622.265</td>\n",
       "      <td>4690.53</td>\n",
       "      <td>7244.53</td>\n",
       "      <td>0</td>\n",
       "    </tr>\n",
       "    <tr>\n",
       "      <th>1</th>\n",
       "      <td>2</td>\n",
       "      <td>54</td>\n",
       "      <td>2475</td>\n",
       "      <td>0</td>\n",
       "      <td>3</td>\n",
       "      <td>2504.530</td>\n",
       "      <td>2534.06</td>\n",
       "      <td>5009.06</td>\n",
       "      <td>0</td>\n",
       "    </tr>\n",
       "    <tr>\n",
       "      <th>2</th>\n",
       "      <td>3</td>\n",
       "      <td>33</td>\n",
       "      <td>6820</td>\n",
       "      <td>1</td>\n",
       "      <td>3</td>\n",
       "      <td>4926.410</td>\n",
       "      <td>3032.82</td>\n",
       "      <td>9852.82</td>\n",
       "      <td>0</td>\n",
       "    </tr>\n",
       "    <tr>\n",
       "      <th>3</th>\n",
       "      <td>4</td>\n",
       "      <td>18</td>\n",
       "      <td>2141</td>\n",
       "      <td>1</td>\n",
       "      <td>2</td>\n",
       "      <td>2774.260</td>\n",
       "      <td>3407.52</td>\n",
       "      <td>5548.52</td>\n",
       "      <td>0</td>\n",
       "    </tr>\n",
       "    <tr>\n",
       "      <th>4</th>\n",
       "      <td>5</td>\n",
       "      <td>67</td>\n",
       "      <td>7381</td>\n",
       "      <td>1</td>\n",
       "      <td>1</td>\n",
       "      <td>4796.040</td>\n",
       "      <td>2211.08</td>\n",
       "      <td>9592.08</td>\n",
       "      <td>0</td>\n",
       "    </tr>\n",
       "    <tr>\n",
       "      <th>...</th>\n",
       "      <td>...</td>\n",
       "      <td>...</td>\n",
       "      <td>...</td>\n",
       "      <td>...</td>\n",
       "      <td>...</td>\n",
       "      <td>...</td>\n",
       "      <td>...</td>\n",
       "      <td>...</td>\n",
       "      <td>...</td>\n",
       "    </tr>\n",
       "    <tr>\n",
       "      <th>49995</th>\n",
       "      <td>49996</td>\n",
       "      <td>41</td>\n",
       "      <td>3102</td>\n",
       "      <td>0</td>\n",
       "      <td>3</td>\n",
       "      <td>2232.080</td>\n",
       "      <td>1362.16</td>\n",
       "      <td>4464.16</td>\n",
       "      <td>0</td>\n",
       "    </tr>\n",
       "    <tr>\n",
       "      <th>49996</th>\n",
       "      <td>49997</td>\n",
       "      <td>33</td>\n",
       "      <td>3906</td>\n",
       "      <td>0</td>\n",
       "      <td>3</td>\n",
       "      <td>3629.200</td>\n",
       "      <td>3352.40</td>\n",
       "      <td>7258.40</td>\n",
       "      <td>0</td>\n",
       "    </tr>\n",
       "    <tr>\n",
       "      <th>49997</th>\n",
       "      <td>49998</td>\n",
       "      <td>41</td>\n",
       "      <td>2543</td>\n",
       "      <td>1</td>\n",
       "      <td>3</td>\n",
       "      <td>2894.955</td>\n",
       "      <td>3246.91</td>\n",
       "      <td>5789.91</td>\n",
       "      <td>0</td>\n",
       "    </tr>\n",
       "    <tr>\n",
       "      <th>49998</th>\n",
       "      <td>49999</td>\n",
       "      <td>22</td>\n",
       "      <td>4651</td>\n",
       "      <td>0</td>\n",
       "      <td>3</td>\n",
       "      <td>3972.110</td>\n",
       "      <td>3293.22</td>\n",
       "      <td>7944.22</td>\n",
       "      <td>0</td>\n",
       "    </tr>\n",
       "    <tr>\n",
       "      <th>49999</th>\n",
       "      <td>50000</td>\n",
       "      <td>22</td>\n",
       "      <td>2131</td>\n",
       "      <td>0</td>\n",
       "      <td>3</td>\n",
       "      <td>2583.720</td>\n",
       "      <td>3036.44</td>\n",
       "      <td>5167.44</td>\n",
       "      <td>0</td>\n",
       "    </tr>\n",
       "  </tbody>\n",
       "</table>\n",
       "<p>50000 rows × 9 columns</p>\n",
       "</div>"
      ],
      "text/plain": [
       "          Id  Idade  Renda  Sexo  Escolaridade  renda_média    ativo  \\\n",
       "0          1     27   2554     0             1     3622.265  4690.53   \n",
       "1          2     54   2475     0             3     2504.530  2534.06   \n",
       "2          3     33   6820     1             3     4926.410  3032.82   \n",
       "3          4     18   2141     1             2     2774.260  3407.52   \n",
       "4          5     67   7381     1             1     4796.040  2211.08   \n",
       "...      ...    ...    ...   ...           ...          ...      ...   \n",
       "49995  49996     41   3102     0             3     2232.080  1362.16   \n",
       "49996  49997     33   3906     0             3     3629.200  3352.40   \n",
       "49997  49998     41   2543     1             3     2894.955  3246.91   \n",
       "49998  49999     22   4651     0             3     3972.110  3293.22   \n",
       "49999  50000     22   2131     0             3     2583.720  3036.44   \n",
       "\n",
       "       renda_total  target  \n",
       "0          7244.53       0  \n",
       "1          5009.06       0  \n",
       "2          9852.82       0  \n",
       "3          5548.52       0  \n",
       "4          9592.08       0  \n",
       "...            ...     ...  \n",
       "49995      4464.16       0  \n",
       "49996      7258.40       0  \n",
       "49997      5789.91       0  \n",
       "49998      7944.22       0  \n",
       "49999      5167.44       0  \n",
       "\n",
       "[50000 rows x 9 columns]"
      ]
     },
     "execution_count": 48,
     "metadata": {},
     "output_type": "execute_result"
    }
   ],
   "source": [
    "data"
   ]
  },
  {
   "cell_type": "code",
   "execution_count": null,
   "metadata": {},
   "outputs": [],
   "source": []
  }
 ],
 "metadata": {
  "kernelspec": {
   "display_name": "Python 3",
   "language": "python",
   "name": "python3"
  },
  "language_info": {
   "codemirror_mode": {
    "name": "ipython",
    "version": 3
   },
   "file_extension": ".py",
   "mimetype": "text/x-python",
   "name": "python",
   "nbconvert_exporter": "python",
   "pygments_lexer": "ipython3",
   "version": "3.8.10"
  }
 },
 "nbformat": 4,
 "nbformat_minor": 4
}
