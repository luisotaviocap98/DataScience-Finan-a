{
 "cells": [
  {
   "cell_type": "code",
   "execution_count": 1,
   "metadata": {},
   "outputs": [],
   "source": [
    "import sys\n",
    "sys.path.insert(0, '../')\n",
    "from bibliotecas import base_estudantes, job, magalu, alunos, petrobras, sns, np, pd, plt, yf, px, go, sp, wn, quandl, date, db, geobr, gpd, os\n",
    "wn.filterwarnings('ignore')"
   ]
  },
  {
   "cell_type": "code",
   "execution_count": 2,
   "metadata": {},
   "outputs": [],
   "source": [
    "# https://www.fao.org/faostat/en/#data"
   ]
  },
  {
   "cell_type": "code",
   "execution_count": 3,
   "metadata": {},
   "outputs": [],
   "source": [
    "df = pd.read_csv('fao.csv', sep=',')"
   ]
  },
  {
   "cell_type": "code",
   "execution_count": 4,
   "metadata": {},
   "outputs": [
    {
     "data": {
      "text/html": [
       "<div>\n",
       "<style scoped>\n",
       "    .dataframe tbody tr th:only-of-type {\n",
       "        vertical-align: middle;\n",
       "    }\n",
       "\n",
       "    .dataframe tbody tr th {\n",
       "        vertical-align: top;\n",
       "    }\n",
       "\n",
       "    .dataframe thead th {\n",
       "        text-align: right;\n",
       "    }\n",
       "</style>\n",
       "<table border=\"1\" class=\"dataframe\">\n",
       "  <thead>\n",
       "    <tr style=\"text-align: right;\">\n",
       "      <th></th>\n",
       "      <th>Domain Code</th>\n",
       "      <th>Domain</th>\n",
       "      <th>Area Code (FAO)</th>\n",
       "      <th>Area</th>\n",
       "      <th>Element Code</th>\n",
       "      <th>Element</th>\n",
       "      <th>Item Code (FAO)</th>\n",
       "      <th>Item</th>\n",
       "      <th>Year Code</th>\n",
       "      <th>Year</th>\n",
       "      <th>Unit</th>\n",
       "      <th>Value</th>\n",
       "    </tr>\n",
       "  </thead>\n",
       "  <tbody>\n",
       "    <tr>\n",
       "      <th>0</th>\n",
       "      <td>QCL</td>\n",
       "      <td>Crops and livestock products</td>\n",
       "      <td>21</td>\n",
       "      <td>Brazil</td>\n",
       "      <td>5312</td>\n",
       "      <td>Area harvested</td>\n",
       "      <td>515</td>\n",
       "      <td>Apples</td>\n",
       "      <td>1961</td>\n",
       "      <td>1961</td>\n",
       "      <td>ha</td>\n",
       "      <td>2097</td>\n",
       "    </tr>\n",
       "    <tr>\n",
       "      <th>1</th>\n",
       "      <td>QCL</td>\n",
       "      <td>Crops and livestock products</td>\n",
       "      <td>21</td>\n",
       "      <td>Brazil</td>\n",
       "      <td>5312</td>\n",
       "      <td>Area harvested</td>\n",
       "      <td>515</td>\n",
       "      <td>Apples</td>\n",
       "      <td>1962</td>\n",
       "      <td>1962</td>\n",
       "      <td>ha</td>\n",
       "      <td>2349</td>\n",
       "    </tr>\n",
       "    <tr>\n",
       "      <th>2</th>\n",
       "      <td>QCL</td>\n",
       "      <td>Crops and livestock products</td>\n",
       "      <td>21</td>\n",
       "      <td>Brazil</td>\n",
       "      <td>5312</td>\n",
       "      <td>Area harvested</td>\n",
       "      <td>515</td>\n",
       "      <td>Apples</td>\n",
       "      <td>1963</td>\n",
       "      <td>1963</td>\n",
       "      <td>ha</td>\n",
       "      <td>2324</td>\n",
       "    </tr>\n",
       "    <tr>\n",
       "      <th>3</th>\n",
       "      <td>QCL</td>\n",
       "      <td>Crops and livestock products</td>\n",
       "      <td>21</td>\n",
       "      <td>Brazil</td>\n",
       "      <td>5312</td>\n",
       "      <td>Area harvested</td>\n",
       "      <td>515</td>\n",
       "      <td>Apples</td>\n",
       "      <td>1964</td>\n",
       "      <td>1964</td>\n",
       "      <td>ha</td>\n",
       "      <td>2271</td>\n",
       "    </tr>\n",
       "    <tr>\n",
       "      <th>4</th>\n",
       "      <td>QCL</td>\n",
       "      <td>Crops and livestock products</td>\n",
       "      <td>21</td>\n",
       "      <td>Brazil</td>\n",
       "      <td>5312</td>\n",
       "      <td>Area harvested</td>\n",
       "      <td>515</td>\n",
       "      <td>Apples</td>\n",
       "      <td>1965</td>\n",
       "      <td>1965</td>\n",
       "      <td>ha</td>\n",
       "      <td>2375</td>\n",
       "    </tr>\n",
       "    <tr>\n",
       "      <th>...</th>\n",
       "      <td>...</td>\n",
       "      <td>...</td>\n",
       "      <td>...</td>\n",
       "      <td>...</td>\n",
       "      <td>...</td>\n",
       "      <td>...</td>\n",
       "      <td>...</td>\n",
       "      <td>...</td>\n",
       "      <td>...</td>\n",
       "      <td>...</td>\n",
       "      <td>...</td>\n",
       "      <td>...</td>\n",
       "    </tr>\n",
       "    <tr>\n",
       "      <th>175</th>\n",
       "      <td>QCL</td>\n",
       "      <td>Crops and livestock products</td>\n",
       "      <td>21</td>\n",
       "      <td>Brazil</td>\n",
       "      <td>5510</td>\n",
       "      <td>Production</td>\n",
       "      <td>515</td>\n",
       "      <td>Apples</td>\n",
       "      <td>2016</td>\n",
       "      <td>2016</td>\n",
       "      <td>tonnes</td>\n",
       "      <td>1055383</td>\n",
       "    </tr>\n",
       "    <tr>\n",
       "      <th>176</th>\n",
       "      <td>QCL</td>\n",
       "      <td>Crops and livestock products</td>\n",
       "      <td>21</td>\n",
       "      <td>Brazil</td>\n",
       "      <td>5510</td>\n",
       "      <td>Production</td>\n",
       "      <td>515</td>\n",
       "      <td>Apples</td>\n",
       "      <td>2017</td>\n",
       "      <td>2017</td>\n",
       "      <td>tonnes</td>\n",
       "      <td>1307642</td>\n",
       "    </tr>\n",
       "    <tr>\n",
       "      <th>177</th>\n",
       "      <td>QCL</td>\n",
       "      <td>Crops and livestock products</td>\n",
       "      <td>21</td>\n",
       "      <td>Brazil</td>\n",
       "      <td>5510</td>\n",
       "      <td>Production</td>\n",
       "      <td>515</td>\n",
       "      <td>Apples</td>\n",
       "      <td>2018</td>\n",
       "      <td>2018</td>\n",
       "      <td>tonnes</td>\n",
       "      <td>1203007</td>\n",
       "    </tr>\n",
       "    <tr>\n",
       "      <th>178</th>\n",
       "      <td>QCL</td>\n",
       "      <td>Crops and livestock products</td>\n",
       "      <td>21</td>\n",
       "      <td>Brazil</td>\n",
       "      <td>5510</td>\n",
       "      <td>Production</td>\n",
       "      <td>515</td>\n",
       "      <td>Apples</td>\n",
       "      <td>2019</td>\n",
       "      <td>2019</td>\n",
       "      <td>tonnes</td>\n",
       "      <td>1222949</td>\n",
       "    </tr>\n",
       "    <tr>\n",
       "      <th>179</th>\n",
       "      <td>QCL</td>\n",
       "      <td>Crops and livestock products</td>\n",
       "      <td>21</td>\n",
       "      <td>Brazil</td>\n",
       "      <td>5510</td>\n",
       "      <td>Production</td>\n",
       "      <td>515</td>\n",
       "      <td>Apples</td>\n",
       "      <td>2020</td>\n",
       "      <td>2020</td>\n",
       "      <td>tonnes</td>\n",
       "      <td>983247</td>\n",
       "    </tr>\n",
       "  </tbody>\n",
       "</table>\n",
       "<p>180 rows × 12 columns</p>\n",
       "</div>"
      ],
      "text/plain": [
       "    Domain Code                        Domain  Area Code (FAO)    Area  \\\n",
       "0           QCL  Crops and livestock products               21  Brazil   \n",
       "1           QCL  Crops and livestock products               21  Brazil   \n",
       "2           QCL  Crops and livestock products               21  Brazil   \n",
       "3           QCL  Crops and livestock products               21  Brazil   \n",
       "4           QCL  Crops and livestock products               21  Brazil   \n",
       "..          ...                           ...              ...     ...   \n",
       "175         QCL  Crops and livestock products               21  Brazil   \n",
       "176         QCL  Crops and livestock products               21  Brazil   \n",
       "177         QCL  Crops and livestock products               21  Brazil   \n",
       "178         QCL  Crops and livestock products               21  Brazil   \n",
       "179         QCL  Crops and livestock products               21  Brazil   \n",
       "\n",
       "     Element Code         Element  Item Code (FAO)    Item  Year Code  Year  \\\n",
       "0            5312  Area harvested              515  Apples       1961  1961   \n",
       "1            5312  Area harvested              515  Apples       1962  1962   \n",
       "2            5312  Area harvested              515  Apples       1963  1963   \n",
       "3            5312  Area harvested              515  Apples       1964  1964   \n",
       "4            5312  Area harvested              515  Apples       1965  1965   \n",
       "..            ...             ...              ...     ...        ...   ...   \n",
       "175          5510      Production              515  Apples       2016  2016   \n",
       "176          5510      Production              515  Apples       2017  2017   \n",
       "177          5510      Production              515  Apples       2018  2018   \n",
       "178          5510      Production              515  Apples       2019  2019   \n",
       "179          5510      Production              515  Apples       2020  2020   \n",
       "\n",
       "       Unit    Value  \n",
       "0        ha     2097  \n",
       "1        ha     2349  \n",
       "2        ha     2324  \n",
       "3        ha     2271  \n",
       "4        ha     2375  \n",
       "..      ...      ...  \n",
       "175  tonnes  1055383  \n",
       "176  tonnes  1307642  \n",
       "177  tonnes  1203007  \n",
       "178  tonnes  1222949  \n",
       "179  tonnes   983247  \n",
       "\n",
       "[180 rows x 12 columns]"
      ]
     },
     "execution_count": 4,
     "metadata": {},
     "output_type": "execute_result"
    }
   ],
   "source": [
    "df"
   ]
  },
  {
   "cell_type": "code",
   "execution_count": 5,
   "metadata": {},
   "outputs": [
    {
     "name": "stdout",
     "output_type": "stream",
     "text": [
      "<class 'pandas.core.frame.DataFrame'>\n",
      "RangeIndex: 180 entries, 0 to 179\n",
      "Data columns (total 12 columns):\n",
      " #   Column           Non-Null Count  Dtype \n",
      "---  ------           --------------  ----- \n",
      " 0   Domain Code      180 non-null    object\n",
      " 1   Domain           180 non-null    object\n",
      " 2   Area Code (FAO)  180 non-null    int64 \n",
      " 3   Area             180 non-null    object\n",
      " 4   Element Code     180 non-null    int64 \n",
      " 5   Element          180 non-null    object\n",
      " 6   Item Code (FAO)  180 non-null    int64 \n",
      " 7   Item             180 non-null    object\n",
      " 8   Year Code        180 non-null    int64 \n",
      " 9   Year             180 non-null    int64 \n",
      " 10  Unit             180 non-null    object\n",
      " 11  Value            180 non-null    int64 \n",
      "dtypes: int64(6), object(6)\n",
      "memory usage: 17.0+ KB\n"
     ]
    }
   ],
   "source": [
    "df.info()"
   ]
  },
  {
   "cell_type": "code",
   "execution_count": 6,
   "metadata": {},
   "outputs": [
    {
     "data": {
      "text/plain": [
       "<AxesSubplot:>"
      ]
     },
     "execution_count": 6,
     "metadata": {},
     "output_type": "execute_result"
    },
    {
     "data": {
      "image/png": "[encoded data removed]",
      "text/plain": [
       "<Figure size 432x288 with 1 Axes>"
      ]
     },
     "metadata": {
      "needs_background": "light"
     },
     "output_type": "display_data"
    }
   ],
   "source": [
    "df.drop(columns=['Value']).nunique().plot(kind='bar')"
   ]
  },
  {
   "cell_type": "code",
   "execution_count": 7,
   "metadata": {},
   "outputs": [
    {
     "data": {
      "text/plain": [
       "Index(['Domain Code', 'Domain', 'Area Code (FAO)', 'Area', 'Item Code (FAO)',\n",
       "       'Item'],\n",
       "      dtype='object')"
      ]
     },
     "execution_count": 7,
     "metadata": {},
     "output_type": "execute_result"
    }
   ],
   "source": [
    "# colunas constantes (de valores unicos)\n",
    "df.columns[df.nunique()==1]"
   ]
  },
  {
   "cell_type": "code",
   "execution_count": 8,
   "metadata": {},
   "outputs": [],
   "source": [
    "df.drop(columns=df.columns[df.nunique()==1], inplace=True)"
   ]
  },
  {
   "cell_type": "code",
   "execution_count": 9,
   "metadata": {},
   "outputs": [
    {
     "data": {
      "text/html": [
       "<div>\n",
       "<style scoped>\n",
       "    .dataframe tbody tr th:only-of-type {\n",
       "        vertical-align: middle;\n",
       "    }\n",
       "\n",
       "    .dataframe tbody tr th {\n",
       "        vertical-align: top;\n",
       "    }\n",
       "\n",
       "    .dataframe thead th {\n",
       "        text-align: right;\n",
       "    }\n",
       "</style>\n",
       "<table border=\"1\" class=\"dataframe\">\n",
       "  <thead>\n",
       "    <tr style=\"text-align: right;\">\n",
       "      <th></th>\n",
       "      <th>Element Code</th>\n",
       "      <th>Element</th>\n",
       "      <th>Year Code</th>\n",
       "      <th>Year</th>\n",
       "      <th>Unit</th>\n",
       "      <th>Value</th>\n",
       "    </tr>\n",
       "  </thead>\n",
       "  <tbody>\n",
       "    <tr>\n",
       "      <th>0</th>\n",
       "      <td>5312</td>\n",
       "      <td>Area harvested</td>\n",
       "      <td>1961</td>\n",
       "      <td>1961</td>\n",
       "      <td>ha</td>\n",
       "      <td>2097</td>\n",
       "    </tr>\n",
       "    <tr>\n",
       "      <th>1</th>\n",
       "      <td>5312</td>\n",
       "      <td>Area harvested</td>\n",
       "      <td>1962</td>\n",
       "      <td>1962</td>\n",
       "      <td>ha</td>\n",
       "      <td>2349</td>\n",
       "    </tr>\n",
       "    <tr>\n",
       "      <th>2</th>\n",
       "      <td>5312</td>\n",
       "      <td>Area harvested</td>\n",
       "      <td>1963</td>\n",
       "      <td>1963</td>\n",
       "      <td>ha</td>\n",
       "      <td>2324</td>\n",
       "    </tr>\n",
       "    <tr>\n",
       "      <th>3</th>\n",
       "      <td>5312</td>\n",
       "      <td>Area harvested</td>\n",
       "      <td>1964</td>\n",
       "      <td>1964</td>\n",
       "      <td>ha</td>\n",
       "      <td>2271</td>\n",
       "    </tr>\n",
       "    <tr>\n",
       "      <th>4</th>\n",
       "      <td>5312</td>\n",
       "      <td>Area harvested</td>\n",
       "      <td>1965</td>\n",
       "      <td>1965</td>\n",
       "      <td>ha</td>\n",
       "      <td>2375</td>\n",
       "    </tr>\n",
       "    <tr>\n",
       "      <th>...</th>\n",
       "      <td>...</td>\n",
       "      <td>...</td>\n",
       "      <td>...</td>\n",
       "      <td>...</td>\n",
       "      <td>...</td>\n",
       "      <td>...</td>\n",
       "    </tr>\n",
       "    <tr>\n",
       "      <th>175</th>\n",
       "      <td>5510</td>\n",
       "      <td>Production</td>\n",
       "      <td>2016</td>\n",
       "      <td>2016</td>\n",
       "      <td>tonnes</td>\n",
       "      <td>1055383</td>\n",
       "    </tr>\n",
       "    <tr>\n",
       "      <th>176</th>\n",
       "      <td>5510</td>\n",
       "      <td>Production</td>\n",
       "      <td>2017</td>\n",
       "      <td>2017</td>\n",
       "      <td>tonnes</td>\n",
       "      <td>1307642</td>\n",
       "    </tr>\n",
       "    <tr>\n",
       "      <th>177</th>\n",
       "      <td>5510</td>\n",
       "      <td>Production</td>\n",
       "      <td>2018</td>\n",
       "      <td>2018</td>\n",
       "      <td>tonnes</td>\n",
       "      <td>1203007</td>\n",
       "    </tr>\n",
       "    <tr>\n",
       "      <th>178</th>\n",
       "      <td>5510</td>\n",
       "      <td>Production</td>\n",
       "      <td>2019</td>\n",
       "      <td>2019</td>\n",
       "      <td>tonnes</td>\n",
       "      <td>1222949</td>\n",
       "    </tr>\n",
       "    <tr>\n",
       "      <th>179</th>\n",
       "      <td>5510</td>\n",
       "      <td>Production</td>\n",
       "      <td>2020</td>\n",
       "      <td>2020</td>\n",
       "      <td>tonnes</td>\n",
       "      <td>983247</td>\n",
       "    </tr>\n",
       "  </tbody>\n",
       "</table>\n",
       "<p>180 rows × 6 columns</p>\n",
       "</div>"
      ],
      "text/plain": [
       "     Element Code         Element  Year Code  Year    Unit    Value\n",
       "0            5312  Area harvested       1961  1961      ha     2097\n",
       "1            5312  Area harvested       1962  1962      ha     2349\n",
       "2            5312  Area harvested       1963  1963      ha     2324\n",
       "3            5312  Area harvested       1964  1964      ha     2271\n",
       "4            5312  Area harvested       1965  1965      ha     2375\n",
       "..            ...             ...        ...   ...     ...      ...\n",
       "175          5510      Production       2016  2016  tonnes  1055383\n",
       "176          5510      Production       2017  2017  tonnes  1307642\n",
       "177          5510      Production       2018  2018  tonnes  1203007\n",
       "178          5510      Production       2019  2019  tonnes  1222949\n",
       "179          5510      Production       2020  2020  tonnes   983247\n",
       "\n",
       "[180 rows x 6 columns]"
      ]
     },
     "execution_count": 9,
     "metadata": {},
     "output_type": "execute_result"
    }
   ],
   "source": [
    "df"
   ]
  },
  {
   "cell_type": "code",
   "execution_count": 10,
   "metadata": {},
   "outputs": [],
   "source": [
    "df.drop(columns=['Year Code', 'Element Code'], inplace=True)"
   ]
  },
  {
   "cell_type": "code",
   "execution_count": 11,
   "metadata": {},
   "outputs": [
    {
     "data": {
      "text/html": [
       "<div>\n",
       "<style scoped>\n",
       "    .dataframe tbody tr th:only-of-type {\n",
       "        vertical-align: middle;\n",
       "    }\n",
       "\n",
       "    .dataframe tbody tr th {\n",
       "        vertical-align: top;\n",
       "    }\n",
       "\n",
       "    .dataframe thead th {\n",
       "        text-align: right;\n",
       "    }\n",
       "</style>\n",
       "<table border=\"1\" class=\"dataframe\">\n",
       "  <thead>\n",
       "    <tr style=\"text-align: right;\">\n",
       "      <th></th>\n",
       "      <th>Element</th>\n",
       "      <th>Year</th>\n",
       "      <th>Unit</th>\n",
       "      <th>Value</th>\n",
       "    </tr>\n",
       "  </thead>\n",
       "  <tbody>\n",
       "    <tr>\n",
       "      <th>0</th>\n",
       "      <td>Area harvested</td>\n",
       "      <td>1961</td>\n",
       "      <td>ha</td>\n",
       "      <td>2097</td>\n",
       "    </tr>\n",
       "    <tr>\n",
       "      <th>1</th>\n",
       "      <td>Area harvested</td>\n",
       "      <td>1962</td>\n",
       "      <td>ha</td>\n",
       "      <td>2349</td>\n",
       "    </tr>\n",
       "    <tr>\n",
       "      <th>2</th>\n",
       "      <td>Area harvested</td>\n",
       "      <td>1963</td>\n",
       "      <td>ha</td>\n",
       "      <td>2324</td>\n",
       "    </tr>\n",
       "    <tr>\n",
       "      <th>3</th>\n",
       "      <td>Area harvested</td>\n",
       "      <td>1964</td>\n",
       "      <td>ha</td>\n",
       "      <td>2271</td>\n",
       "    </tr>\n",
       "    <tr>\n",
       "      <th>4</th>\n",
       "      <td>Area harvested</td>\n",
       "      <td>1965</td>\n",
       "      <td>ha</td>\n",
       "      <td>2375</td>\n",
       "    </tr>\n",
       "    <tr>\n",
       "      <th>...</th>\n",
       "      <td>...</td>\n",
       "      <td>...</td>\n",
       "      <td>...</td>\n",
       "      <td>...</td>\n",
       "    </tr>\n",
       "    <tr>\n",
       "      <th>175</th>\n",
       "      <td>Production</td>\n",
       "      <td>2016</td>\n",
       "      <td>tonnes</td>\n",
       "      <td>1055383</td>\n",
       "    </tr>\n",
       "    <tr>\n",
       "      <th>176</th>\n",
       "      <td>Production</td>\n",
       "      <td>2017</td>\n",
       "      <td>tonnes</td>\n",
       "      <td>1307642</td>\n",
       "    </tr>\n",
       "    <tr>\n",
       "      <th>177</th>\n",
       "      <td>Production</td>\n",
       "      <td>2018</td>\n",
       "      <td>tonnes</td>\n",
       "      <td>1203007</td>\n",
       "    </tr>\n",
       "    <tr>\n",
       "      <th>178</th>\n",
       "      <td>Production</td>\n",
       "      <td>2019</td>\n",
       "      <td>tonnes</td>\n",
       "      <td>1222949</td>\n",
       "    </tr>\n",
       "    <tr>\n",
       "      <th>179</th>\n",
       "      <td>Production</td>\n",
       "      <td>2020</td>\n",
       "      <td>tonnes</td>\n",
       "      <td>983247</td>\n",
       "    </tr>\n",
       "  </tbody>\n",
       "</table>\n",
       "<p>180 rows × 4 columns</p>\n",
       "</div>"
      ],
      "text/plain": [
       "            Element  Year    Unit    Value\n",
       "0    Area harvested  1961      ha     2097\n",
       "1    Area harvested  1962      ha     2349\n",
       "2    Area harvested  1963      ha     2324\n",
       "3    Area harvested  1964      ha     2271\n",
       "4    Area harvested  1965      ha     2375\n",
       "..              ...   ...     ...      ...\n",
       "175      Production  2016  tonnes  1055383\n",
       "176      Production  2017  tonnes  1307642\n",
       "177      Production  2018  tonnes  1203007\n",
       "178      Production  2019  tonnes  1222949\n",
       "179      Production  2020  tonnes   983247\n",
       "\n",
       "[180 rows x 4 columns]"
      ]
     },
     "execution_count": 11,
     "metadata": {},
     "output_type": "execute_result"
    }
   ],
   "source": [
    "df"
   ]
  },
  {
   "cell_type": "code",
   "execution_count": 12,
   "metadata": {},
   "outputs": [],
   "source": [
    "df.Year = pd.to_datetime(df.Year, format='%Y')"
   ]
  },
  {
   "cell_type": "code",
   "execution_count": 13,
   "metadata": {},
   "outputs": [
    {
     "data": {
      "text/html": [
       "<div>\n",
       "<style scoped>\n",
       "    .dataframe tbody tr th:only-of-type {\n",
       "        vertical-align: middle;\n",
       "    }\n",
       "\n",
       "    .dataframe tbody tr th {\n",
       "        vertical-align: top;\n",
       "    }\n",
       "\n",
       "    .dataframe thead th {\n",
       "        text-align: right;\n",
       "    }\n",
       "</style>\n",
       "<table border=\"1\" class=\"dataframe\">\n",
       "  <thead>\n",
       "    <tr style=\"text-align: right;\">\n",
       "      <th></th>\n",
       "      <th>Element</th>\n",
       "      <th>Year</th>\n",
       "      <th>Unit</th>\n",
       "      <th>Value</th>\n",
       "    </tr>\n",
       "  </thead>\n",
       "  <tbody>\n",
       "    <tr>\n",
       "      <th>0</th>\n",
       "      <td>Area harvested</td>\n",
       "      <td>1961-01-01</td>\n",
       "      <td>ha</td>\n",
       "      <td>2097</td>\n",
       "    </tr>\n",
       "    <tr>\n",
       "      <th>1</th>\n",
       "      <td>Area harvested</td>\n",
       "      <td>1962-01-01</td>\n",
       "      <td>ha</td>\n",
       "      <td>2349</td>\n",
       "    </tr>\n",
       "    <tr>\n",
       "      <th>2</th>\n",
       "      <td>Area harvested</td>\n",
       "      <td>1963-01-01</td>\n",
       "      <td>ha</td>\n",
       "      <td>2324</td>\n",
       "    </tr>\n",
       "    <tr>\n",
       "      <th>3</th>\n",
       "      <td>Area harvested</td>\n",
       "      <td>1964-01-01</td>\n",
       "      <td>ha</td>\n",
       "      <td>2271</td>\n",
       "    </tr>\n",
       "    <tr>\n",
       "      <th>4</th>\n",
       "      <td>Area harvested</td>\n",
       "      <td>1965-01-01</td>\n",
       "      <td>ha</td>\n",
       "      <td>2375</td>\n",
       "    </tr>\n",
       "    <tr>\n",
       "      <th>...</th>\n",
       "      <td>...</td>\n",
       "      <td>...</td>\n",
       "      <td>...</td>\n",
       "      <td>...</td>\n",
       "    </tr>\n",
       "    <tr>\n",
       "      <th>175</th>\n",
       "      <td>Production</td>\n",
       "      <td>2016-01-01</td>\n",
       "      <td>tonnes</td>\n",
       "      <td>1055383</td>\n",
       "    </tr>\n",
       "    <tr>\n",
       "      <th>176</th>\n",
       "      <td>Production</td>\n",
       "      <td>2017-01-01</td>\n",
       "      <td>tonnes</td>\n",
       "      <td>1307642</td>\n",
       "    </tr>\n",
       "    <tr>\n",
       "      <th>177</th>\n",
       "      <td>Production</td>\n",
       "      <td>2018-01-01</td>\n",
       "      <td>tonnes</td>\n",
       "      <td>1203007</td>\n",
       "    </tr>\n",
       "    <tr>\n",
       "      <th>178</th>\n",
       "      <td>Production</td>\n",
       "      <td>2019-01-01</td>\n",
       "      <td>tonnes</td>\n",
       "      <td>1222949</td>\n",
       "    </tr>\n",
       "    <tr>\n",
       "      <th>179</th>\n",
       "      <td>Production</td>\n",
       "      <td>2020-01-01</td>\n",
       "      <td>tonnes</td>\n",
       "      <td>983247</td>\n",
       "    </tr>\n",
       "  </tbody>\n",
       "</table>\n",
       "<p>180 rows × 4 columns</p>\n",
       "</div>"
      ],
      "text/plain": [
       "            Element       Year    Unit    Value\n",
       "0    Area harvested 1961-01-01      ha     2097\n",
       "1    Area harvested 1962-01-01      ha     2349\n",
       "2    Area harvested 1963-01-01      ha     2324\n",
       "3    Area harvested 1964-01-01      ha     2271\n",
       "4    Area harvested 1965-01-01      ha     2375\n",
       "..              ...        ...     ...      ...\n",
       "175      Production 2016-01-01  tonnes  1055383\n",
       "176      Production 2017-01-01  tonnes  1307642\n",
       "177      Production 2018-01-01  tonnes  1203007\n",
       "178      Production 2019-01-01  tonnes  1222949\n",
       "179      Production 2020-01-01  tonnes   983247\n",
       "\n",
       "[180 rows x 4 columns]"
      ]
     },
     "execution_count": 13,
     "metadata": {},
     "output_type": "execute_result"
    }
   ],
   "source": [
    "df"
   ]
  },
  {
   "cell_type": "code",
   "execution_count": 14,
   "metadata": {},
   "outputs": [],
   "source": [
    "df.Element.replace({'Area harvested':'Area colhida', 'Production':'Producao', 'Yield':'Produtividade'}, inplace=True)"
   ]
  },
  {
   "cell_type": "code",
   "execution_count": 15,
   "metadata": {},
   "outputs": [
    {
     "data": {
      "text/plain": [
       "array(['Area colhida', 'Produtividade', 'Producao'], dtype=object)"
      ]
     },
     "execution_count": 15,
     "metadata": {},
     "output_type": "execute_result"
    }
   ],
   "source": [
    "df.Element.unique()"
   ]
  },
  {
   "cell_type": "code",
   "execution_count": 16,
   "metadata": {},
   "outputs": [],
   "source": [
    "df.columns = ['Elemento', 'Ano', 'Unidade', 'Valor']"
   ]
  },
  {
   "cell_type": "code",
   "execution_count": 17,
   "metadata": {},
   "outputs": [
    {
     "data": {
      "text/html": [
       "<div>\n",
       "<style scoped>\n",
       "    .dataframe tbody tr th:only-of-type {\n",
       "        vertical-align: middle;\n",
       "    }\n",
       "\n",
       "    .dataframe tbody tr th {\n",
       "        vertical-align: top;\n",
       "    }\n",
       "\n",
       "    .dataframe thead th {\n",
       "        text-align: right;\n",
       "    }\n",
       "</style>\n",
       "<table border=\"1\" class=\"dataframe\">\n",
       "  <thead>\n",
       "    <tr style=\"text-align: right;\">\n",
       "      <th></th>\n",
       "      <th>Elemento</th>\n",
       "      <th>Ano</th>\n",
       "      <th>Unidade</th>\n",
       "      <th>Valor</th>\n",
       "    </tr>\n",
       "  </thead>\n",
       "  <tbody>\n",
       "    <tr>\n",
       "      <th>0</th>\n",
       "      <td>Area colhida</td>\n",
       "      <td>1961-01-01</td>\n",
       "      <td>ha</td>\n",
       "      <td>2097</td>\n",
       "    </tr>\n",
       "    <tr>\n",
       "      <th>1</th>\n",
       "      <td>Area colhida</td>\n",
       "      <td>1962-01-01</td>\n",
       "      <td>ha</td>\n",
       "      <td>2349</td>\n",
       "    </tr>\n",
       "    <tr>\n",
       "      <th>2</th>\n",
       "      <td>Area colhida</td>\n",
       "      <td>1963-01-01</td>\n",
       "      <td>ha</td>\n",
       "      <td>2324</td>\n",
       "    </tr>\n",
       "    <tr>\n",
       "      <th>3</th>\n",
       "      <td>Area colhida</td>\n",
       "      <td>1964-01-01</td>\n",
       "      <td>ha</td>\n",
       "      <td>2271</td>\n",
       "    </tr>\n",
       "    <tr>\n",
       "      <th>4</th>\n",
       "      <td>Area colhida</td>\n",
       "      <td>1965-01-01</td>\n",
       "      <td>ha</td>\n",
       "      <td>2375</td>\n",
       "    </tr>\n",
       "    <tr>\n",
       "      <th>...</th>\n",
       "      <td>...</td>\n",
       "      <td>...</td>\n",
       "      <td>...</td>\n",
       "      <td>...</td>\n",
       "    </tr>\n",
       "    <tr>\n",
       "      <th>175</th>\n",
       "      <td>Producao</td>\n",
       "      <td>2016-01-01</td>\n",
       "      <td>tonnes</td>\n",
       "      <td>1055383</td>\n",
       "    </tr>\n",
       "    <tr>\n",
       "      <th>176</th>\n",
       "      <td>Producao</td>\n",
       "      <td>2017-01-01</td>\n",
       "      <td>tonnes</td>\n",
       "      <td>1307642</td>\n",
       "    </tr>\n",
       "    <tr>\n",
       "      <th>177</th>\n",
       "      <td>Producao</td>\n",
       "      <td>2018-01-01</td>\n",
       "      <td>tonnes</td>\n",
       "      <td>1203007</td>\n",
       "    </tr>\n",
       "    <tr>\n",
       "      <th>178</th>\n",
       "      <td>Producao</td>\n",
       "      <td>2019-01-01</td>\n",
       "      <td>tonnes</td>\n",
       "      <td>1222949</td>\n",
       "    </tr>\n",
       "    <tr>\n",
       "      <th>179</th>\n",
       "      <td>Producao</td>\n",
       "      <td>2020-01-01</td>\n",
       "      <td>tonnes</td>\n",
       "      <td>983247</td>\n",
       "    </tr>\n",
       "  </tbody>\n",
       "</table>\n",
       "<p>180 rows × 4 columns</p>\n",
       "</div>"
      ],
      "text/plain": [
       "         Elemento        Ano Unidade    Valor\n",
       "0    Area colhida 1961-01-01      ha     2097\n",
       "1    Area colhida 1962-01-01      ha     2349\n",
       "2    Area colhida 1963-01-01      ha     2324\n",
       "3    Area colhida 1964-01-01      ha     2271\n",
       "4    Area colhida 1965-01-01      ha     2375\n",
       "..            ...        ...     ...      ...\n",
       "175      Producao 2016-01-01  tonnes  1055383\n",
       "176      Producao 2017-01-01  tonnes  1307642\n",
       "177      Producao 2018-01-01  tonnes  1203007\n",
       "178      Producao 2019-01-01  tonnes  1222949\n",
       "179      Producao 2020-01-01  tonnes   983247\n",
       "\n",
       "[180 rows x 4 columns]"
      ]
     },
     "execution_count": 17,
     "metadata": {},
     "output_type": "execute_result"
    }
   ],
   "source": [
    "df"
   ]
  },
  {
   "cell_type": "code",
   "execution_count": 18,
   "metadata": {},
   "outputs": [],
   "source": [
    "df.set_index('Ano', inplace=True)"
   ]
  },
  {
   "cell_type": "code",
   "execution_count": 19,
   "metadata": {},
   "outputs": [
    {
     "data": {
      "text/html": [
       "<div>\n",
       "<style scoped>\n",
       "    .dataframe tbody tr th:only-of-type {\n",
       "        vertical-align: middle;\n",
       "    }\n",
       "\n",
       "    .dataframe tbody tr th {\n",
       "        vertical-align: top;\n",
       "    }\n",
       "\n",
       "    .dataframe thead th {\n",
       "        text-align: right;\n",
       "    }\n",
       "</style>\n",
       "<table border=\"1\" class=\"dataframe\">\n",
       "  <thead>\n",
       "    <tr style=\"text-align: right;\">\n",
       "      <th></th>\n",
       "      <th>Elemento</th>\n",
       "      <th>Unidade</th>\n",
       "      <th>Valor</th>\n",
       "    </tr>\n",
       "    <tr>\n",
       "      <th>Ano</th>\n",
       "      <th></th>\n",
       "      <th></th>\n",
       "      <th></th>\n",
       "    </tr>\n",
       "  </thead>\n",
       "  <tbody>\n",
       "    <tr>\n",
       "      <th>1961-01-01</th>\n",
       "      <td>Area colhida</td>\n",
       "      <td>ha</td>\n",
       "      <td>2097</td>\n",
       "    </tr>\n",
       "    <tr>\n",
       "      <th>1962-01-01</th>\n",
       "      <td>Area colhida</td>\n",
       "      <td>ha</td>\n",
       "      <td>2349</td>\n",
       "    </tr>\n",
       "    <tr>\n",
       "      <th>1963-01-01</th>\n",
       "      <td>Area colhida</td>\n",
       "      <td>ha</td>\n",
       "      <td>2324</td>\n",
       "    </tr>\n",
       "    <tr>\n",
       "      <th>1964-01-01</th>\n",
       "      <td>Area colhida</td>\n",
       "      <td>ha</td>\n",
       "      <td>2271</td>\n",
       "    </tr>\n",
       "    <tr>\n",
       "      <th>1965-01-01</th>\n",
       "      <td>Area colhida</td>\n",
       "      <td>ha</td>\n",
       "      <td>2375</td>\n",
       "    </tr>\n",
       "    <tr>\n",
       "      <th>...</th>\n",
       "      <td>...</td>\n",
       "      <td>...</td>\n",
       "      <td>...</td>\n",
       "    </tr>\n",
       "    <tr>\n",
       "      <th>2016-01-01</th>\n",
       "      <td>Producao</td>\n",
       "      <td>tonnes</td>\n",
       "      <td>1055383</td>\n",
       "    </tr>\n",
       "    <tr>\n",
       "      <th>2017-01-01</th>\n",
       "      <td>Producao</td>\n",
       "      <td>tonnes</td>\n",
       "      <td>1307642</td>\n",
       "    </tr>\n",
       "    <tr>\n",
       "      <th>2018-01-01</th>\n",
       "      <td>Producao</td>\n",
       "      <td>tonnes</td>\n",
       "      <td>1203007</td>\n",
       "    </tr>\n",
       "    <tr>\n",
       "      <th>2019-01-01</th>\n",
       "      <td>Producao</td>\n",
       "      <td>tonnes</td>\n",
       "      <td>1222949</td>\n",
       "    </tr>\n",
       "    <tr>\n",
       "      <th>2020-01-01</th>\n",
       "      <td>Producao</td>\n",
       "      <td>tonnes</td>\n",
       "      <td>983247</td>\n",
       "    </tr>\n",
       "  </tbody>\n",
       "</table>\n",
       "<p>180 rows × 3 columns</p>\n",
       "</div>"
      ],
      "text/plain": [
       "                Elemento Unidade    Valor\n",
       "Ano                                      \n",
       "1961-01-01  Area colhida      ha     2097\n",
       "1962-01-01  Area colhida      ha     2349\n",
       "1963-01-01  Area colhida      ha     2324\n",
       "1964-01-01  Area colhida      ha     2271\n",
       "1965-01-01  Area colhida      ha     2375\n",
       "...                  ...     ...      ...\n",
       "2016-01-01      Producao  tonnes  1055383\n",
       "2017-01-01      Producao  tonnes  1307642\n",
       "2018-01-01      Producao  tonnes  1203007\n",
       "2019-01-01      Producao  tonnes  1222949\n",
       "2020-01-01      Producao  tonnes   983247\n",
       "\n",
       "[180 rows x 3 columns]"
      ]
     },
     "execution_count": 19,
     "metadata": {},
     "output_type": "execute_result"
    }
   ],
   "source": [
    "df"
   ]
  },
  {
   "cell_type": "code",
   "execution_count": 20,
   "metadata": {},
   "outputs": [
    {
     "data": {
      "text/plain": [
       "<AxesSubplot:xlabel='Ano'>"
      ]
     },
     "execution_count": 20,
     "metadata": {},
     "output_type": "execute_result"
    },
    {
     "data": {
      "image/png": "[encoded data removed]",
      "text/plain": [
       "<Figure size 432x288 with 1 Axes>"
      ]
     },
     "metadata": {
      "needs_background": "light"
     },
     "output_type": "display_data"
    }
   ],
   "source": [
    "df.plot()"
   ]
  },
  {
   "cell_type": "code",
   "execution_count": 21,
   "metadata": {},
   "outputs": [],
   "source": [
    "novodf  =  df.pivot_table(index='Ano', columns='Elemento', values='Valor')"
   ]
  },
  {
   "cell_type": "code",
   "execution_count": 22,
   "metadata": {},
   "outputs": [
    {
     "data": {
      "text/plain": [
       "<AxesSubplot:xlabel='Ano'>"
      ]
     },
     "execution_count": 22,
     "metadata": {},
     "output_type": "execute_result"
    },
    {
     "data": {
      "image/png": "[encoded data removed]",
      "text/plain": [
       "<Figure size 432x288 with 1 Axes>"
      ]
     },
     "metadata": {
      "needs_background": "light"
     },
     "output_type": "display_data"
    }
   ],
   "source": [
    "novodf.plot()"
   ]
  },
  {
   "cell_type": "code",
   "execution_count": 23,
   "metadata": {},
   "outputs": [
    {
     "data": {
      "text/plain": [
       "<AxesSubplot:xlabel='Ano'>"
      ]
     },
     "execution_count": 23,
     "metadata": {},
     "output_type": "execute_result"
    },
    {
     "data": {
      "image/png": "[encoded data removed]",
      "text/plain": [
       "<Figure size 432x288 with 1 Axes>"
      ]
     },
     "metadata": {
      "needs_background": "light"
     },
     "output_type": "display_data"
    }
   ],
   "source": [
    "sns.lineplot(data=novodf)"
   ]
  },
  {
   "cell_type": "code",
   "execution_count": 24,
   "metadata": {},
   "outputs": [
    {
     "data": {
      "image/png": "[encoded data removed]",
      "text/plain": [
       "<Figure size 1152x216 with 3 Axes>"
      ]
     },
     "metadata": {
      "needs_background": "light"
     },
     "output_type": "display_data"
    }
   ],
   "source": [
    "f,a = plt.subplots(1,3,figsize=(16,3))\n",
    "for i, c in enumerate(novodf.columns):  \n",
    "    sns.lineplot(data=novodf[c], ax=a[i])\n",
    "    a[i].set_ylabel('')\n",
    "    a[i].set_xlabel('')\n",
    "    a[i].set_title(c)\n",
    "\n",
    "f.tight_layout()"
   ]
  }
 ],
 "metadata": {
  "kernelspec": {
   "display_name": "Python 3.8.10 64-bit",
   "language": "python",
   "name": "python3"
  },
  "language_info": {
   "codemirror_mode": {
    "name": "ipython",
    "version": 3
   },
   "file_extension": ".py",
   "mimetype": "text/x-python",
   "name": "python",
   "nbconvert_exporter": "python",
   "pygments_lexer": "ipython3",
   "version": "3.8.10"
  },
  "orig_nbformat": 4,
  "vscode": {
   "interpreter": {
    "hash": "916dbcbb3f70747c44a77c7bcd40155683ae19c65e1c03b4aa3499c5328201f1"
   }
  }
 },
 "nbformat": 4,
 "nbformat_minor": 2
}
