{
 "cells": [
  {
   "cell_type": "code",
   "execution_count": 1,
   "metadata": {},
   "outputs": [],
   "source": [
    "import sys\n",
    "sys.path.insert(0, '../')\n",
    "from bibliotecas import base_estudantes, job, magalu, alunos, petrobras, sns, np, pd, plt, yf, px, go, sp, wn, quandl, date, db, geobr, gpd, os\n",
    "wn.filterwarnings('ignore')"
   ]
  },
  {
   "cell_type": "code",
   "execution_count": 2,
   "metadata": {},
   "outputs": [],
   "source": [
    "df = pd.read_csv('./novo.csv', sep=',')"
   ]
  },
  {
   "cell_type": "code",
   "execution_count": 3,
   "metadata": {},
   "outputs": [
    {
     "data": {
      "text/html": [
       "<div>\n",
       "<style scoped>\n",
       "    .dataframe tbody tr th:only-of-type {\n",
       "        vertical-align: middle;\n",
       "    }\n",
       "\n",
       "    .dataframe tbody tr th {\n",
       "        vertical-align: top;\n",
       "    }\n",
       "\n",
       "    .dataframe thead th {\n",
       "        text-align: right;\n",
       "    }\n",
       "</style>\n",
       "<table border=\"1\" class=\"dataframe\">\n",
       "  <thead>\n",
       "    <tr style=\"text-align: right;\">\n",
       "      <th></th>\n",
       "      <th>Ano</th>\n",
       "      <th>UF</th>\n",
       "      <th>Codigo</th>\n",
       "      <th>Descricao</th>\n",
       "      <th>FOB</th>\n",
       "      <th>Kg</th>\n",
       "      <th>Cod_UF</th>\n",
       "    </tr>\n",
       "  </thead>\n",
       "  <tbody>\n",
       "    <tr>\n",
       "      <th>0</th>\n",
       "      <td>2022</td>\n",
       "      <td>Rio de Janeiro</td>\n",
       "      <td>27</td>\n",
       "      <td>Combustíveis minerais, óleos minerais e produt...</td>\n",
       "      <td>15897695648</td>\n",
       "      <td>24680218065</td>\n",
       "      <td>RJ</td>\n",
       "    </tr>\n",
       "    <tr>\n",
       "      <th>1</th>\n",
       "      <td>2022</td>\n",
       "      <td>Mato Grosso</td>\n",
       "      <td>12</td>\n",
       "      <td>Sementes e frutos oleaginosos; grãos, sementes...</td>\n",
       "      <td>11523334576</td>\n",
       "      <td>20128148797</td>\n",
       "      <td>MT</td>\n",
       "    </tr>\n",
       "    <tr>\n",
       "      <th>2</th>\n",
       "      <td>2022</td>\n",
       "      <td>Pará</td>\n",
       "      <td>26</td>\n",
       "      <td>Minerios, escórias e cinzas</td>\n",
       "      <td>7087616732</td>\n",
       "      <td>71546686852</td>\n",
       "      <td>PA</td>\n",
       "    </tr>\n",
       "    <tr>\n",
       "      <th>3</th>\n",
       "      <td>2022</td>\n",
       "      <td>Minas Gerais</td>\n",
       "      <td>26</td>\n",
       "      <td>Minerios, escórias e cinzas</td>\n",
       "      <td>6726245081</td>\n",
       "      <td>69826536923</td>\n",
       "      <td>MG</td>\n",
       "    </tr>\n",
       "    <tr>\n",
       "      <th>4</th>\n",
       "      <td>2022</td>\n",
       "      <td>São Paulo</td>\n",
       "      <td>27</td>\n",
       "      <td>Combustíveis minerais, óleos minerais e produt...</td>\n",
       "      <td>4945517507</td>\n",
       "      <td>6868575187</td>\n",
       "      <td>SP</td>\n",
       "    </tr>\n",
       "    <tr>\n",
       "      <th>...</th>\n",
       "      <td>...</td>\n",
       "      <td>...</td>\n",
       "      <td>...</td>\n",
       "      <td>...</td>\n",
       "      <td>...</td>\n",
       "      <td>...</td>\n",
       "      <td>...</td>\n",
       "    </tr>\n",
       "    <tr>\n",
       "      <th>45732</th>\n",
       "      <td>1997</td>\n",
       "      <td>Maranhão</td>\n",
       "      <td>96</td>\n",
       "      <td>Obras diversas</td>\n",
       "      <td>11</td>\n",
       "      <td>0</td>\n",
       "      <td>MA</td>\n",
       "    </tr>\n",
       "    <tr>\n",
       "      <th>45733</th>\n",
       "      <td>1997</td>\n",
       "      <td>Santa Catarina</td>\n",
       "      <td>37</td>\n",
       "      <td>Produtos para fotografia e cinematografia</td>\n",
       "      <td>9</td>\n",
       "      <td>49</td>\n",
       "      <td>SC</td>\n",
       "    </tr>\n",
       "    <tr>\n",
       "      <th>45734</th>\n",
       "      <td>1997</td>\n",
       "      <td>Santa Catarina</td>\n",
       "      <td>45</td>\n",
       "      <td>Cortiça e suas obras</td>\n",
       "      <td>9</td>\n",
       "      <td>30</td>\n",
       "      <td>SC</td>\n",
       "    </tr>\n",
       "    <tr>\n",
       "      <th>45735</th>\n",
       "      <td>1997</td>\n",
       "      <td>Ceará</td>\n",
       "      <td>81</td>\n",
       "      <td>Outros metais comuns; ceramais (cermets); obra...</td>\n",
       "      <td>9</td>\n",
       "      <td>1</td>\n",
       "      <td>CE</td>\n",
       "    </tr>\n",
       "    <tr>\n",
       "      <th>45736</th>\n",
       "      <td>1997</td>\n",
       "      <td>Maranhão</td>\n",
       "      <td>83</td>\n",
       "      <td>Obras diversas de metais comuns</td>\n",
       "      <td>6</td>\n",
       "      <td>0</td>\n",
       "      <td>MA</td>\n",
       "    </tr>\n",
       "  </tbody>\n",
       "</table>\n",
       "<p>45737 rows × 7 columns</p>\n",
       "</div>"
      ],
      "text/plain": [
       "        Ano              UF  Codigo  \\\n",
       "0      2022  Rio de Janeiro      27   \n",
       "1      2022     Mato Grosso      12   \n",
       "2      2022            Pará      26   \n",
       "3      2022    Minas Gerais      26   \n",
       "4      2022       São Paulo      27   \n",
       "...     ...             ...     ...   \n",
       "45732  1997        Maranhão      96   \n",
       "45733  1997  Santa Catarina      37   \n",
       "45734  1997  Santa Catarina      45   \n",
       "45735  1997           Ceará      81   \n",
       "45736  1997        Maranhão      83   \n",
       "\n",
       "                                               Descricao          FOB  \\\n",
       "0      Combustíveis minerais, óleos minerais e produt...  15897695648   \n",
       "1      Sementes e frutos oleaginosos; grãos, sementes...  11523334576   \n",
       "2                            Minerios, escórias e cinzas   7087616732   \n",
       "3                            Minerios, escórias e cinzas   6726245081   \n",
       "4      Combustíveis minerais, óleos minerais e produt...   4945517507   \n",
       "...                                                  ...          ...   \n",
       "45732                                     Obras diversas           11   \n",
       "45733          Produtos para fotografia e cinematografia            9   \n",
       "45734                               Cortiça e suas obras            9   \n",
       "45735  Outros metais comuns; ceramais (cermets); obra...            9   \n",
       "45736                    Obras diversas de metais comuns            6   \n",
       "\n",
       "                Kg Cod_UF  \n",
       "0      24680218065     RJ  \n",
       "1      20128148797     MT  \n",
       "2      71546686852     PA  \n",
       "3      69826536923     MG  \n",
       "4       6868575187     SP  \n",
       "...            ...    ...  \n",
       "45732            0     MA  \n",
       "45733           49     SC  \n",
       "45734           30     SC  \n",
       "45735            1     CE  \n",
       "45736            0     MA  \n",
       "\n",
       "[45737 rows x 7 columns]"
      ]
     },
     "execution_count": 3,
     "metadata": {},
     "output_type": "execute_result"
    }
   ],
   "source": [
    "df"
   ]
  },
  {
   "cell_type": "code",
   "execution_count": 4,
   "metadata": {},
   "outputs": [
    {
     "data": {
      "text/plain": [
       "<AxesSubplot:xlabel='Codigo'>"
      ]
     },
     "execution_count": 4,
     "metadata": {},
     "output_type": "execute_result"
    },
    {
     "data": {
      "image/png": "[encoded data removed]",
      "text/plain": [
       "<Figure size 432x288 with 1 Axes>"
      ]
     },
     "metadata": {
      "needs_background": "light"
     },
     "output_type": "display_data"
    }
   ],
   "source": [
    "df.groupby('Codigo')['FOB'].sum().sort_values(ascending=False)[:10].plot(kind='bar') #10 produtos mais exportados"
   ]
  },
  {
   "cell_type": "code",
   "execution_count": 5,
   "metadata": {},
   "outputs": [
    {
     "data": {
      "text/plain": [
       "<AxesSubplot:xlabel='Cod_UF'>"
      ]
     },
     "execution_count": 5,
     "metadata": {},
     "output_type": "execute_result"
    },
    {
     "data": {
      "image/png": "[encoded data removed]",
      "text/plain": [
       "<Figure size 432x288 with 1 Axes>"
      ]
     },
     "metadata": {
      "needs_background": "light"
     },
     "output_type": "display_data"
    }
   ],
   "source": [
    "df.query('Ano==2022').groupby('Cod_UF')['FOB'].sum().sort_values(ascending=False)[:10].plot(kind='bar')"
   ]
  },
  {
   "cell_type": "code",
   "execution_count": 6,
   "metadata": {},
   "outputs": [
    {
     "data": {
      "text/html": [
       "<div>\n",
       "<style scoped>\n",
       "    .dataframe tbody tr th:only-of-type {\n",
       "        vertical-align: middle;\n",
       "    }\n",
       "\n",
       "    .dataframe tbody tr th {\n",
       "        vertical-align: top;\n",
       "    }\n",
       "\n",
       "    .dataframe thead th {\n",
       "        text-align: right;\n",
       "    }\n",
       "</style>\n",
       "<table border=\"1\" class=\"dataframe\">\n",
       "  <thead>\n",
       "    <tr style=\"text-align: right;\">\n",
       "      <th></th>\n",
       "      <th>Cod_UF</th>\n",
       "      <th>FOB</th>\n",
       "    </tr>\n",
       "  </thead>\n",
       "  <tbody>\n",
       "    <tr>\n",
       "      <th>0</th>\n",
       "      <td>AC</td>\n",
       "      <td>420233626</td>\n",
       "    </tr>\n",
       "    <tr>\n",
       "      <th>1</th>\n",
       "      <td>RR</td>\n",
       "      <td>1115212928</td>\n",
       "    </tr>\n",
       "    <tr>\n",
       "      <th>2</th>\n",
       "      <td>SE</td>\n",
       "      <td>1857635447</td>\n",
       "    </tr>\n",
       "    <tr>\n",
       "      <th>3</th>\n",
       "      <td>DF</td>\n",
       "      <td>3507699826</td>\n",
       "    </tr>\n",
       "    <tr>\n",
       "      <th>4</th>\n",
       "      <td>PB</td>\n",
       "      <td>3978335650</td>\n",
       "    </tr>\n",
       "    <tr>\n",
       "      <th>5</th>\n",
       "      <td>AP</td>\n",
       "      <td>5351723561</td>\n",
       "    </tr>\n",
       "    <tr>\n",
       "      <th>6</th>\n",
       "      <td>PI</td>\n",
       "      <td>6226960276</td>\n",
       "    </tr>\n",
       "    <tr>\n",
       "      <th>7</th>\n",
       "      <td>RN</td>\n",
       "      <td>7689883342</td>\n",
       "    </tr>\n",
       "    <tr>\n",
       "      <th>8</th>\n",
       "      <td>TO</td>\n",
       "      <td>13939690229</td>\n",
       "    </tr>\n",
       "    <tr>\n",
       "      <th>9</th>\n",
       "      <td>AL</td>\n",
       "      <td>14612565923</td>\n",
       "    </tr>\n",
       "    <tr>\n",
       "      <th>10</th>\n",
       "      <td>RO</td>\n",
       "      <td>16289914131</td>\n",
       "    </tr>\n",
       "    <tr>\n",
       "      <th>11</th>\n",
       "      <td>AM</td>\n",
       "      <td>23326955069</td>\n",
       "    </tr>\n",
       "    <tr>\n",
       "      <th>12</th>\n",
       "      <td>PE</td>\n",
       "      <td>25361797119</td>\n",
       "    </tr>\n",
       "    <tr>\n",
       "      <th>13</th>\n",
       "      <td>CE</td>\n",
       "      <td>31438706817</td>\n",
       "    </tr>\n",
       "    <tr>\n",
       "      <th>14</th>\n",
       "      <td>MA</td>\n",
       "      <td>55758419373</td>\n",
       "    </tr>\n",
       "    <tr>\n",
       "      <th>15</th>\n",
       "      <td>MS</td>\n",
       "      <td>73177239367</td>\n",
       "    </tr>\n",
       "    <tr>\n",
       "      <th>16</th>\n",
       "      <td>GO</td>\n",
       "      <td>109458665197</td>\n",
       "    </tr>\n",
       "    <tr>\n",
       "      <th>17</th>\n",
       "      <td>SC</td>\n",
       "      <td>168334101921</td>\n",
       "    </tr>\n",
       "    <tr>\n",
       "      <th>18</th>\n",
       "      <td>BA</td>\n",
       "      <td>168339530035</td>\n",
       "    </tr>\n",
       "    <tr>\n",
       "      <th>19</th>\n",
       "      <td>ES</td>\n",
       "      <td>175620500395</td>\n",
       "    </tr>\n",
       "    <tr>\n",
       "      <th>20</th>\n",
       "      <td>MT</td>\n",
       "      <td>237293730561</td>\n",
       "    </tr>\n",
       "    <tr>\n",
       "      <th>21</th>\n",
       "      <td>PA</td>\n",
       "      <td>263970069154</td>\n",
       "    </tr>\n",
       "    <tr>\n",
       "      <th>22</th>\n",
       "      <td>PR</td>\n",
       "      <td>314925136150</td>\n",
       "    </tr>\n",
       "    <tr>\n",
       "      <th>23</th>\n",
       "      <td>RS</td>\n",
       "      <td>345742825925</td>\n",
       "    </tr>\n",
       "    <tr>\n",
       "      <th>24</th>\n",
       "      <td>RJ</td>\n",
       "      <td>379561493658</td>\n",
       "    </tr>\n",
       "    <tr>\n",
       "      <th>25</th>\n",
       "      <td>MG</td>\n",
       "      <td>520915402408</td>\n",
       "    </tr>\n",
       "    <tr>\n",
       "      <th>26</th>\n",
       "      <td>SP</td>\n",
       "      <td>1049804691069</td>\n",
       "    </tr>\n",
       "  </tbody>\n",
       "</table>\n",
       "</div>"
      ],
      "text/plain": [
       "   Cod_UF            FOB\n",
       "0      AC      420233626\n",
       "1      RR     1115212928\n",
       "2      SE     1857635447\n",
       "3      DF     3507699826\n",
       "4      PB     3978335650\n",
       "5      AP     5351723561\n",
       "6      PI     6226960276\n",
       "7      RN     7689883342\n",
       "8      TO    13939690229\n",
       "9      AL    14612565923\n",
       "10     RO    16289914131\n",
       "11     AM    23326955069\n",
       "12     PE    25361797119\n",
       "13     CE    31438706817\n",
       "14     MA    55758419373\n",
       "15     MS    73177239367\n",
       "16     GO   109458665197\n",
       "17     SC   168334101921\n",
       "18     BA   168339530035\n",
       "19     ES   175620500395\n",
       "20     MT   237293730561\n",
       "21     PA   263970069154\n",
       "22     PR   314925136150\n",
       "23     RS   345742825925\n",
       "24     RJ   379561493658\n",
       "25     MG   520915402408\n",
       "26     SP  1049804691069"
      ]
     },
     "execution_count": 6,
     "metadata": {},
     "output_type": "execute_result"
    }
   ],
   "source": [
    "# market share (parcela de mercado) -> percent UF sobre BR\n",
    "mkt = df.groupby('Cod_UF')['FOB'].sum().sort_values()\n",
    "mktdf = pd.DataFrame(mkt).reset_index()\n",
    "mktdf"
   ]
  },
  {
   "cell_type": "code",
   "execution_count": 7,
   "metadata": {},
   "outputs": [],
   "source": [
    "mktdf['MKT'] = (mktdf['FOB'] /mktdf['FOB'].sum())*100\n",
    "mktdf['MKT'] = mktdf['MKT'].round(2)"
   ]
  },
  {
   "cell_type": "code",
   "execution_count": 8,
   "metadata": {},
   "outputs": [
    {
     "data": {
      "text/html": [
       "<div>\n",
       "<style scoped>\n",
       "    .dataframe tbody tr th:only-of-type {\n",
       "        vertical-align: middle;\n",
       "    }\n",
       "\n",
       "    .dataframe tbody tr th {\n",
       "        vertical-align: top;\n",
       "    }\n",
       "\n",
       "    .dataframe thead th {\n",
       "        text-align: right;\n",
       "    }\n",
       "</style>\n",
       "<table border=\"1\" class=\"dataframe\">\n",
       "  <thead>\n",
       "    <tr style=\"text-align: right;\">\n",
       "      <th></th>\n",
       "      <th>Cod_UF</th>\n",
       "      <th>FOB</th>\n",
       "      <th>MKT</th>\n",
       "    </tr>\n",
       "  </thead>\n",
       "  <tbody>\n",
       "    <tr>\n",
       "      <th>0</th>\n",
       "      <td>AC</td>\n",
       "      <td>420233626</td>\n",
       "      <td>0.01</td>\n",
       "    </tr>\n",
       "    <tr>\n",
       "      <th>1</th>\n",
       "      <td>RR</td>\n",
       "      <td>1115212928</td>\n",
       "      <td>0.03</td>\n",
       "    </tr>\n",
       "    <tr>\n",
       "      <th>2</th>\n",
       "      <td>SE</td>\n",
       "      <td>1857635447</td>\n",
       "      <td>0.05</td>\n",
       "    </tr>\n",
       "    <tr>\n",
       "      <th>3</th>\n",
       "      <td>DF</td>\n",
       "      <td>3507699826</td>\n",
       "      <td>0.09</td>\n",
       "    </tr>\n",
       "    <tr>\n",
       "      <th>4</th>\n",
       "      <td>PB</td>\n",
       "      <td>3978335650</td>\n",
       "      <td>0.10</td>\n",
       "    </tr>\n",
       "    <tr>\n",
       "      <th>5</th>\n",
       "      <td>AP</td>\n",
       "      <td>5351723561</td>\n",
       "      <td>0.13</td>\n",
       "    </tr>\n",
       "    <tr>\n",
       "      <th>6</th>\n",
       "      <td>PI</td>\n",
       "      <td>6226960276</td>\n",
       "      <td>0.15</td>\n",
       "    </tr>\n",
       "    <tr>\n",
       "      <th>7</th>\n",
       "      <td>RN</td>\n",
       "      <td>7689883342</td>\n",
       "      <td>0.19</td>\n",
       "    </tr>\n",
       "    <tr>\n",
       "      <th>8</th>\n",
       "      <td>TO</td>\n",
       "      <td>13939690229</td>\n",
       "      <td>0.35</td>\n",
       "    </tr>\n",
       "    <tr>\n",
       "      <th>9</th>\n",
       "      <td>AL</td>\n",
       "      <td>14612565923</td>\n",
       "      <td>0.36</td>\n",
       "    </tr>\n",
       "    <tr>\n",
       "      <th>10</th>\n",
       "      <td>RO</td>\n",
       "      <td>16289914131</td>\n",
       "      <td>0.41</td>\n",
       "    </tr>\n",
       "    <tr>\n",
       "      <th>11</th>\n",
       "      <td>AM</td>\n",
       "      <td>23326955069</td>\n",
       "      <td>0.58</td>\n",
       "    </tr>\n",
       "    <tr>\n",
       "      <th>12</th>\n",
       "      <td>PE</td>\n",
       "      <td>25361797119</td>\n",
       "      <td>0.63</td>\n",
       "    </tr>\n",
       "    <tr>\n",
       "      <th>13</th>\n",
       "      <td>CE</td>\n",
       "      <td>31438706817</td>\n",
       "      <td>0.78</td>\n",
       "    </tr>\n",
       "    <tr>\n",
       "      <th>14</th>\n",
       "      <td>MA</td>\n",
       "      <td>55758419373</td>\n",
       "      <td>1.39</td>\n",
       "    </tr>\n",
       "    <tr>\n",
       "      <th>15</th>\n",
       "      <td>MS</td>\n",
       "      <td>73177239367</td>\n",
       "      <td>1.82</td>\n",
       "    </tr>\n",
       "    <tr>\n",
       "      <th>16</th>\n",
       "      <td>GO</td>\n",
       "      <td>109458665197</td>\n",
       "      <td>2.72</td>\n",
       "    </tr>\n",
       "    <tr>\n",
       "      <th>17</th>\n",
       "      <td>SC</td>\n",
       "      <td>168334101921</td>\n",
       "      <td>4.19</td>\n",
       "    </tr>\n",
       "    <tr>\n",
       "      <th>18</th>\n",
       "      <td>BA</td>\n",
       "      <td>168339530035</td>\n",
       "      <td>4.19</td>\n",
       "    </tr>\n",
       "    <tr>\n",
       "      <th>19</th>\n",
       "      <td>ES</td>\n",
       "      <td>175620500395</td>\n",
       "      <td>4.37</td>\n",
       "    </tr>\n",
       "    <tr>\n",
       "      <th>20</th>\n",
       "      <td>MT</td>\n",
       "      <td>237293730561</td>\n",
       "      <td>5.91</td>\n",
       "    </tr>\n",
       "    <tr>\n",
       "      <th>21</th>\n",
       "      <td>PA</td>\n",
       "      <td>263970069154</td>\n",
       "      <td>6.57</td>\n",
       "    </tr>\n",
       "    <tr>\n",
       "      <th>22</th>\n",
       "      <td>PR</td>\n",
       "      <td>314925136150</td>\n",
       "      <td>7.84</td>\n",
       "    </tr>\n",
       "    <tr>\n",
       "      <th>23</th>\n",
       "      <td>RS</td>\n",
       "      <td>345742825925</td>\n",
       "      <td>8.60</td>\n",
       "    </tr>\n",
       "    <tr>\n",
       "      <th>24</th>\n",
       "      <td>RJ</td>\n",
       "      <td>379561493658</td>\n",
       "      <td>9.45</td>\n",
       "    </tr>\n",
       "    <tr>\n",
       "      <th>25</th>\n",
       "      <td>MG</td>\n",
       "      <td>520915402408</td>\n",
       "      <td>12.96</td>\n",
       "    </tr>\n",
       "    <tr>\n",
       "      <th>26</th>\n",
       "      <td>SP</td>\n",
       "      <td>1049804691069</td>\n",
       "      <td>26.13</td>\n",
       "    </tr>\n",
       "  </tbody>\n",
       "</table>\n",
       "</div>"
      ],
      "text/plain": [
       "   Cod_UF            FOB    MKT\n",
       "0      AC      420233626   0.01\n",
       "1      RR     1115212928   0.03\n",
       "2      SE     1857635447   0.05\n",
       "3      DF     3507699826   0.09\n",
       "4      PB     3978335650   0.10\n",
       "5      AP     5351723561   0.13\n",
       "6      PI     6226960276   0.15\n",
       "7      RN     7689883342   0.19\n",
       "8      TO    13939690229   0.35\n",
       "9      AL    14612565923   0.36\n",
       "10     RO    16289914131   0.41\n",
       "11     AM    23326955069   0.58\n",
       "12     PE    25361797119   0.63\n",
       "13     CE    31438706817   0.78\n",
       "14     MA    55758419373   1.39\n",
       "15     MS    73177239367   1.82\n",
       "16     GO   109458665197   2.72\n",
       "17     SC   168334101921   4.19\n",
       "18     BA   168339530035   4.19\n",
       "19     ES   175620500395   4.37\n",
       "20     MT   237293730561   5.91\n",
       "21     PA   263970069154   6.57\n",
       "22     PR   314925136150   7.84\n",
       "23     RS   345742825925   8.60\n",
       "24     RJ   379561493658   9.45\n",
       "25     MG   520915402408  12.96\n",
       "26     SP  1049804691069  26.13"
      ]
     },
     "execution_count": 8,
     "metadata": {},
     "output_type": "execute_result"
    }
   ],
   "source": [
    "mktdf"
   ]
  },
  {
   "cell_type": "code",
   "execution_count": 9,
   "metadata": {},
   "outputs": [
    {
     "data": {
      "text/plain": [
       "<AxesSubplot:xlabel='Cod_UF', ylabel='MKT'>"
      ]
     },
     "execution_count": 9,
     "metadata": {},
     "output_type": "execute_result"
    },
    {
     "data": {
      "image/png": "[encoded data removed]",
      "text/plain": [
       "<Figure size 1152x648 with 1 Axes>"
      ]
     },
     "metadata": {
      "needs_background": "light"
     },
     "output_type": "display_data"
    }
   ],
   "source": [
    "plt.figure(figsize=(16,9))\n",
    "sns.barplot(data=mktdf, x='Cod_UF', y='MKT')"
   ]
  },
  {
   "cell_type": "code",
   "execution_count": 10,
   "metadata": {},
   "outputs": [],
   "source": [
    "estado = geobr.read_state(year=2020)"
   ]
  },
  {
   "cell_type": "code",
   "execution_count": 11,
   "metadata": {},
   "outputs": [
    {
     "data": {
      "text/html": [
       "<div>\n",
       "<style scoped>\n",
       "    .dataframe tbody tr th:only-of-type {\n",
       "        vertical-align: middle;\n",
       "    }\n",
       "\n",
       "    .dataframe tbody tr th {\n",
       "        vertical-align: top;\n",
       "    }\n",
       "\n",
       "    .dataframe thead th {\n",
       "        text-align: right;\n",
       "    }\n",
       "</style>\n",
       "<table border=\"1\" class=\"dataframe\">\n",
       "  <thead>\n",
       "    <tr style=\"text-align: right;\">\n",
       "      <th></th>\n",
       "      <th>code_state</th>\n",
       "      <th>abbrev_state</th>\n",
       "      <th>name_state</th>\n",
       "      <th>code_region</th>\n",
       "      <th>name_region</th>\n",
       "      <th>geometry</th>\n",
       "    </tr>\n",
       "  </thead>\n",
       "  <tbody>\n",
       "    <tr>\n",
       "      <th>0</th>\n",
       "      <td>11.0</td>\n",
       "      <td>RO</td>\n",
       "      <td>Rondônia</td>\n",
       "      <td>1.0</td>\n",
       "      <td>Norte</td>\n",
       "      <td>MULTIPOLYGON (((-65.38150 -10.42907, -65.38013...</td>\n",
       "    </tr>\n",
       "    <tr>\n",
       "      <th>1</th>\n",
       "      <td>12.0</td>\n",
       "      <td>AC</td>\n",
       "      <td>Acre</td>\n",
       "      <td>1.0</td>\n",
       "      <td>Norte</td>\n",
       "      <td>MULTIPOLYGON (((-71.07772 -9.82774, -71.07817 ...</td>\n",
       "    </tr>\n",
       "    <tr>\n",
       "      <th>2</th>\n",
       "      <td>13.0</td>\n",
       "      <td>AM</td>\n",
       "      <td>Amazônas</td>\n",
       "      <td>1.0</td>\n",
       "      <td>Norte</td>\n",
       "      <td>MULTIPOLYGON (((-69.83766 -3.68659, -69.82555 ...</td>\n",
       "    </tr>\n",
       "    <tr>\n",
       "      <th>3</th>\n",
       "      <td>14.0</td>\n",
       "      <td>RR</td>\n",
       "      <td>Roraima</td>\n",
       "      <td>1.0</td>\n",
       "      <td>Norte</td>\n",
       "      <td>MULTIPOLYGON (((-63.96008 2.47313, -63.96041 2...</td>\n",
       "    </tr>\n",
       "    <tr>\n",
       "      <th>4</th>\n",
       "      <td>15.0</td>\n",
       "      <td>PA</td>\n",
       "      <td>Pará</td>\n",
       "      <td>1.0</td>\n",
       "      <td>Norte</td>\n",
       "      <td>MULTIPOLYGON (((-51.43248 -0.47334, -51.42949 ...</td>\n",
       "    </tr>\n",
       "  </tbody>\n",
       "</table>\n",
       "</div>"
      ],
      "text/plain": [
       "   code_state abbrev_state name_state  code_region name_region  \\\n",
       "0        11.0           RO   Rondônia          1.0       Norte   \n",
       "1        12.0           AC       Acre          1.0       Norte   \n",
       "2        13.0           AM   Amazônas          1.0       Norte   \n",
       "3        14.0           RR    Roraima          1.0       Norte   \n",
       "4        15.0           PA       Pará          1.0       Norte   \n",
       "\n",
       "                                            geometry  \n",
       "0  MULTIPOLYGON (((-65.38150 -10.42907, -65.38013...  \n",
       "1  MULTIPOLYGON (((-71.07772 -9.82774, -71.07817 ...  \n",
       "2  MULTIPOLYGON (((-69.83766 -3.68659, -69.82555 ...  \n",
       "3  MULTIPOLYGON (((-63.96008 2.47313, -63.96041 2...  \n",
       "4  MULTIPOLYGON (((-51.43248 -0.47334, -51.42949 ...  "
      ]
     },
     "execution_count": 11,
     "metadata": {},
     "output_type": "execute_result"
    }
   ],
   "source": [
    "estado.head()"
   ]
  },
  {
   "cell_type": "code",
   "execution_count": 12,
   "metadata": {},
   "outputs": [
    {
     "data": {
      "text/plain": [
       "(-76.24759047175, -26.590499411249997, -35.70232894755, 7.22299203055)"
      ]
     },
     "execution_count": 12,
     "metadata": {},
     "output_type": "execute_result"
    },
    {
     "data": {
      "image/png": "[encoded data removed]",
      "text/plain": [
       "<Figure size 576x576 with 1 Axes>"
      ]
     },
     "metadata": {
      "needs_background": "light"
     },
     "output_type": "display_data"
    }
   ],
   "source": [
    "f,a = plt.subplots(figsize=(8,8))\n",
    "estado.plot(ax=a)\n",
    "a.axis('off')"
   ]
  },
  {
   "cell_type": "code",
   "execution_count": 13,
   "metadata": {},
   "outputs": [],
   "source": [
    "br = pd.merge(estado, mktdf, left_on='abbrev_state', right_on='Cod_UF')"
   ]
  },
  {
   "cell_type": "code",
   "execution_count": 14,
   "metadata": {},
   "outputs": [
    {
     "data": {
      "text/html": [
       "<div>\n",
       "<style scoped>\n",
       "    .dataframe tbody tr th:only-of-type {\n",
       "        vertical-align: middle;\n",
       "    }\n",
       "\n",
       "    .dataframe tbody tr th {\n",
       "        vertical-align: top;\n",
       "    }\n",
       "\n",
       "    .dataframe thead th {\n",
       "        text-align: right;\n",
       "    }\n",
       "</style>\n",
       "<table border=\"1\" class=\"dataframe\">\n",
       "  <thead>\n",
       "    <tr style=\"text-align: right;\">\n",
       "      <th></th>\n",
       "      <th>code_state</th>\n",
       "      <th>abbrev_state</th>\n",
       "      <th>name_state</th>\n",
       "      <th>code_region</th>\n",
       "      <th>name_region</th>\n",
       "      <th>geometry</th>\n",
       "      <th>Cod_UF</th>\n",
       "      <th>FOB</th>\n",
       "      <th>MKT</th>\n",
       "    </tr>\n",
       "  </thead>\n",
       "  <tbody>\n",
       "    <tr>\n",
       "      <th>0</th>\n",
       "      <td>11.0</td>\n",
       "      <td>RO</td>\n",
       "      <td>Rondônia</td>\n",
       "      <td>1.0</td>\n",
       "      <td>Norte</td>\n",
       "      <td>MULTIPOLYGON (((-65.38150 -10.42907, -65.38013...</td>\n",
       "      <td>RO</td>\n",
       "      <td>16289914131</td>\n",
       "      <td>0.41</td>\n",
       "    </tr>\n",
       "    <tr>\n",
       "      <th>1</th>\n",
       "      <td>12.0</td>\n",
       "      <td>AC</td>\n",
       "      <td>Acre</td>\n",
       "      <td>1.0</td>\n",
       "      <td>Norte</td>\n",
       "      <td>MULTIPOLYGON (((-71.07772 -9.82774, -71.07817 ...</td>\n",
       "      <td>AC</td>\n",
       "      <td>420233626</td>\n",
       "      <td>0.01</td>\n",
       "    </tr>\n",
       "    <tr>\n",
       "      <th>2</th>\n",
       "      <td>13.0</td>\n",
       "      <td>AM</td>\n",
       "      <td>Amazônas</td>\n",
       "      <td>1.0</td>\n",
       "      <td>Norte</td>\n",
       "      <td>MULTIPOLYGON (((-69.83766 -3.68659, -69.82555 ...</td>\n",
       "      <td>AM</td>\n",
       "      <td>23326955069</td>\n",
       "      <td>0.58</td>\n",
       "    </tr>\n",
       "    <tr>\n",
       "      <th>3</th>\n",
       "      <td>14.0</td>\n",
       "      <td>RR</td>\n",
       "      <td>Roraima</td>\n",
       "      <td>1.0</td>\n",
       "      <td>Norte</td>\n",
       "      <td>MULTIPOLYGON (((-63.96008 2.47313, -63.96041 2...</td>\n",
       "      <td>RR</td>\n",
       "      <td>1115212928</td>\n",
       "      <td>0.03</td>\n",
       "    </tr>\n",
       "    <tr>\n",
       "      <th>4</th>\n",
       "      <td>15.0</td>\n",
       "      <td>PA</td>\n",
       "      <td>Pará</td>\n",
       "      <td>1.0</td>\n",
       "      <td>Norte</td>\n",
       "      <td>MULTIPOLYGON (((-51.43248 -0.47334, -51.42949 ...</td>\n",
       "      <td>PA</td>\n",
       "      <td>263970069154</td>\n",
       "      <td>6.57</td>\n",
       "    </tr>\n",
       "    <tr>\n",
       "      <th>5</th>\n",
       "      <td>16.0</td>\n",
       "      <td>AP</td>\n",
       "      <td>Amapá</td>\n",
       "      <td>1.0</td>\n",
       "      <td>Norte</td>\n",
       "      <td>MULTIPOLYGON (((-50.45011 2.10924, -50.44715 2...</td>\n",
       "      <td>AP</td>\n",
       "      <td>5351723561</td>\n",
       "      <td>0.13</td>\n",
       "    </tr>\n",
       "    <tr>\n",
       "      <th>6</th>\n",
       "      <td>17.0</td>\n",
       "      <td>TO</td>\n",
       "      <td>Tocantins</td>\n",
       "      <td>1.0</td>\n",
       "      <td>Norte</td>\n",
       "      <td>MULTIPOLYGON (((-48.23291 -5.94757, -48.23163 ...</td>\n",
       "      <td>TO</td>\n",
       "      <td>13939690229</td>\n",
       "      <td>0.35</td>\n",
       "    </tr>\n",
       "    <tr>\n",
       "      <th>7</th>\n",
       "      <td>21.0</td>\n",
       "      <td>MA</td>\n",
       "      <td>Maranhão</td>\n",
       "      <td>2.0</td>\n",
       "      <td>Nordeste</td>\n",
       "      <td>MULTIPOLYGON (((-44.96620 -1.27114, -44.96081 ...</td>\n",
       "      <td>MA</td>\n",
       "      <td>55758419373</td>\n",
       "      <td>1.39</td>\n",
       "    </tr>\n",
       "    <tr>\n",
       "      <th>8</th>\n",
       "      <td>22.0</td>\n",
       "      <td>PI</td>\n",
       "      <td>Piauí</td>\n",
       "      <td>2.0</td>\n",
       "      <td>Nordeste</td>\n",
       "      <td>MULTIPOLYGON (((-42.91509 -6.64795, -42.91636 ...</td>\n",
       "      <td>PI</td>\n",
       "      <td>6226960276</td>\n",
       "      <td>0.15</td>\n",
       "    </tr>\n",
       "    <tr>\n",
       "      <th>9</th>\n",
       "      <td>23.0</td>\n",
       "      <td>CE</td>\n",
       "      <td>Ceará</td>\n",
       "      <td>2.0</td>\n",
       "      <td>Nordeste</td>\n",
       "      <td>MULTIPOLYGON (((-41.18292 -4.01797, -41.18552 ...</td>\n",
       "      <td>CE</td>\n",
       "      <td>31438706817</td>\n",
       "      <td>0.78</td>\n",
       "    </tr>\n",
       "    <tr>\n",
       "      <th>10</th>\n",
       "      <td>24.0</td>\n",
       "      <td>RN</td>\n",
       "      <td>Rio Grande Do Norte</td>\n",
       "      <td>2.0</td>\n",
       "      <td>Nordeste</td>\n",
       "      <td>MULTIPOLYGON (((-37.04412 -4.81854, -37.04501 ...</td>\n",
       "      <td>RN</td>\n",
       "      <td>7689883342</td>\n",
       "      <td>0.19</td>\n",
       "    </tr>\n",
       "    <tr>\n",
       "      <th>11</th>\n",
       "      <td>25.0</td>\n",
       "      <td>PB</td>\n",
       "      <td>Paraíba</td>\n",
       "      <td>2.0</td>\n",
       "      <td>Nordeste</td>\n",
       "      <td>MULTIPOLYGON (((-34.79576 -7.35000, -34.79601 ...</td>\n",
       "      <td>PB</td>\n",
       "      <td>3978335650</td>\n",
       "      <td>0.10</td>\n",
       "    </tr>\n",
       "    <tr>\n",
       "      <th>12</th>\n",
       "      <td>26.0</td>\n",
       "      <td>PE</td>\n",
       "      <td>Pernambuco</td>\n",
       "      <td>2.0</td>\n",
       "      <td>Nordeste</td>\n",
       "      <td>MULTIPOLYGON (((-32.39240 -3.82372, -32.39253 ...</td>\n",
       "      <td>PE</td>\n",
       "      <td>25361797119</td>\n",
       "      <td>0.63</td>\n",
       "    </tr>\n",
       "    <tr>\n",
       "      <th>13</th>\n",
       "      <td>27.0</td>\n",
       "      <td>AL</td>\n",
       "      <td>Alagoas</td>\n",
       "      <td>2.0</td>\n",
       "      <td>Nordeste</td>\n",
       "      <td>MULTIPOLYGON (((-35.75791 -9.69285, -35.75801 ...</td>\n",
       "      <td>AL</td>\n",
       "      <td>14612565923</td>\n",
       "      <td>0.36</td>\n",
       "    </tr>\n",
       "    <tr>\n",
       "      <th>14</th>\n",
       "      <td>28.0</td>\n",
       "      <td>SE</td>\n",
       "      <td>Sergipe</td>\n",
       "      <td>2.0</td>\n",
       "      <td>Nordeste</td>\n",
       "      <td>MULTIPOLYGON (((-36.91665 -10.84277, -36.91681...</td>\n",
       "      <td>SE</td>\n",
       "      <td>1857635447</td>\n",
       "      <td>0.05</td>\n",
       "    </tr>\n",
       "    <tr>\n",
       "      <th>15</th>\n",
       "      <td>29.0</td>\n",
       "      <td>BA</td>\n",
       "      <td>Bahia</td>\n",
       "      <td>2.0</td>\n",
       "      <td>Nordeste</td>\n",
       "      <td>MULTIPOLYGON (((-38.69616 -17.97901, -38.69618...</td>\n",
       "      <td>BA</td>\n",
       "      <td>168339530035</td>\n",
       "      <td>4.19</td>\n",
       "    </tr>\n",
       "    <tr>\n",
       "      <th>16</th>\n",
       "      <td>31.0</td>\n",
       "      <td>MG</td>\n",
       "      <td>Minas Gerais</td>\n",
       "      <td>3.0</td>\n",
       "      <td>Sudeste</td>\n",
       "      <td>MULTIPOLYGON (((-50.74037 -19.21316, -50.74013...</td>\n",
       "      <td>MG</td>\n",
       "      <td>520915402408</td>\n",
       "      <td>12.96</td>\n",
       "    </tr>\n",
       "    <tr>\n",
       "      <th>17</th>\n",
       "      <td>32.0</td>\n",
       "      <td>ES</td>\n",
       "      <td>Espírito Santo</td>\n",
       "      <td>3.0</td>\n",
       "      <td>Sudeste</td>\n",
       "      <td>MULTIPOLYGON (((-40.75189 -20.92722, -40.75193...</td>\n",
       "      <td>ES</td>\n",
       "      <td>175620500395</td>\n",
       "      <td>4.37</td>\n",
       "    </tr>\n",
       "    <tr>\n",
       "      <th>18</th>\n",
       "      <td>33.0</td>\n",
       "      <td>RJ</td>\n",
       "      <td>Rio De Janeiro</td>\n",
       "      <td>3.0</td>\n",
       "      <td>Sudeste</td>\n",
       "      <td>MULTIPOLYGON (((-41.82923 -22.78453, -41.82939...</td>\n",
       "      <td>RJ</td>\n",
       "      <td>379561493658</td>\n",
       "      <td>9.45</td>\n",
       "    </tr>\n",
       "    <tr>\n",
       "      <th>19</th>\n",
       "      <td>35.0</td>\n",
       "      <td>SP</td>\n",
       "      <td>São Paulo</td>\n",
       "      <td>3.0</td>\n",
       "      <td>Sudeste</td>\n",
       "      <td>MULTIPOLYGON (((-48.03716 -25.35794, -48.03750...</td>\n",
       "      <td>SP</td>\n",
       "      <td>1049804691069</td>\n",
       "      <td>26.13</td>\n",
       "    </tr>\n",
       "    <tr>\n",
       "      <th>20</th>\n",
       "      <td>41.0</td>\n",
       "      <td>PR</td>\n",
       "      <td>Paraná</td>\n",
       "      <td>4.0</td>\n",
       "      <td>Sul</td>\n",
       "      <td>MULTIPOLYGON (((-48.40736 -25.84270, -48.40750...</td>\n",
       "      <td>PR</td>\n",
       "      <td>314925136150</td>\n",
       "      <td>7.84</td>\n",
       "    </tr>\n",
       "    <tr>\n",
       "      <th>21</th>\n",
       "      <td>42.0</td>\n",
       "      <td>SC</td>\n",
       "      <td>Santa Catarina</td>\n",
       "      <td>4.0</td>\n",
       "      <td>Sul</td>\n",
       "      <td>MULTIPOLYGON (((-48.60084 -28.35222, -48.60096...</td>\n",
       "      <td>SC</td>\n",
       "      <td>168334101921</td>\n",
       "      <td>4.19</td>\n",
       "    </tr>\n",
       "    <tr>\n",
       "      <th>22</th>\n",
       "      <td>43.0</td>\n",
       "      <td>RS</td>\n",
       "      <td>Rio Grande Do Sul</td>\n",
       "      <td>4.0</td>\n",
       "      <td>Sul</td>\n",
       "      <td>MULTIPOLYGON (((-49.70392 -29.34774, -49.70402...</td>\n",
       "      <td>RS</td>\n",
       "      <td>345742825925</td>\n",
       "      <td>8.60</td>\n",
       "    </tr>\n",
       "    <tr>\n",
       "      <th>23</th>\n",
       "      <td>50.0</td>\n",
       "      <td>MS</td>\n",
       "      <td>Mato Grosso Do Sul</td>\n",
       "      <td>5.0</td>\n",
       "      <td>Centro Oeste</td>\n",
       "      <td>MULTIPOLYGON (((-57.83371 -20.93628, -57.83553...</td>\n",
       "      <td>MS</td>\n",
       "      <td>73177239367</td>\n",
       "      <td>1.82</td>\n",
       "    </tr>\n",
       "    <tr>\n",
       "      <th>24</th>\n",
       "      <td>51.0</td>\n",
       "      <td>MT</td>\n",
       "      <td>Mato Grosso</td>\n",
       "      <td>5.0</td>\n",
       "      <td>Centro Oeste</td>\n",
       "      <td>MULTIPOLYGON (((-61.54023 -10.00021, -61.54014...</td>\n",
       "      <td>MT</td>\n",
       "      <td>237293730561</td>\n",
       "      <td>5.91</td>\n",
       "    </tr>\n",
       "    <tr>\n",
       "      <th>25</th>\n",
       "      <td>52.0</td>\n",
       "      <td>GO</td>\n",
       "      <td>Goiás</td>\n",
       "      <td>5.0</td>\n",
       "      <td>Centro Oeste</td>\n",
       "      <td>MULTIPOLYGON (((-52.36102 -16.08160, -52.36040...</td>\n",
       "      <td>GO</td>\n",
       "      <td>109458665197</td>\n",
       "      <td>2.72</td>\n",
       "    </tr>\n",
       "    <tr>\n",
       "      <th>26</th>\n",
       "      <td>53.0</td>\n",
       "      <td>DF</td>\n",
       "      <td>Distrito Federal</td>\n",
       "      <td>5.0</td>\n",
       "      <td>Centro Oeste</td>\n",
       "      <td>MULTIPOLYGON (((-47.41734 -15.54655, -47.41720...</td>\n",
       "      <td>DF</td>\n",
       "      <td>3507699826</td>\n",
       "      <td>0.09</td>\n",
       "    </tr>\n",
       "  </tbody>\n",
       "</table>\n",
       "</div>"
      ],
      "text/plain": [
       "    code_state abbrev_state           name_state  code_region   name_region  \\\n",
       "0         11.0           RO             Rondônia          1.0         Norte   \n",
       "1         12.0           AC                 Acre          1.0         Norte   \n",
       "2         13.0           AM             Amazônas          1.0         Norte   \n",
       "3         14.0           RR              Roraima          1.0         Norte   \n",
       "4         15.0           PA                 Pará          1.0         Norte   \n",
       "5         16.0           AP                Amapá          1.0         Norte   \n",
       "6         17.0           TO            Tocantins          1.0         Norte   \n",
       "7         21.0           MA             Maranhão          2.0      Nordeste   \n",
       "8         22.0           PI                Piauí          2.0      Nordeste   \n",
       "9         23.0           CE                Ceará          2.0      Nordeste   \n",
       "10        24.0           RN  Rio Grande Do Norte          2.0      Nordeste   \n",
       "11        25.0           PB              Paraíba          2.0      Nordeste   \n",
       "12        26.0           PE           Pernambuco          2.0      Nordeste   \n",
       "13        27.0           AL              Alagoas          2.0      Nordeste   \n",
       "14        28.0           SE              Sergipe          2.0      Nordeste   \n",
       "15        29.0           BA                Bahia          2.0      Nordeste   \n",
       "16        31.0           MG         Minas Gerais          3.0       Sudeste   \n",
       "17        32.0           ES       Espírito Santo          3.0       Sudeste   \n",
       "18        33.0           RJ       Rio De Janeiro          3.0       Sudeste   \n",
       "19        35.0           SP            São Paulo          3.0       Sudeste   \n",
       "20        41.0           PR               Paraná          4.0           Sul   \n",
       "21        42.0           SC       Santa Catarina          4.0           Sul   \n",
       "22        43.0           RS    Rio Grande Do Sul          4.0           Sul   \n",
       "23        50.0           MS   Mato Grosso Do Sul          5.0  Centro Oeste   \n",
       "24        51.0           MT          Mato Grosso          5.0  Centro Oeste   \n",
       "25        52.0           GO                Goiás          5.0  Centro Oeste   \n",
       "26        53.0           DF     Distrito Federal          5.0  Centro Oeste   \n",
       "\n",
       "                                             geometry Cod_UF            FOB  \\\n",
       "0   MULTIPOLYGON (((-65.38150 -10.42907, -65.38013...     RO    16289914131   \n",
       "1   MULTIPOLYGON (((-71.07772 -9.82774, -71.07817 ...     AC      420233626   \n",
       "2   MULTIPOLYGON (((-69.83766 -3.68659, -69.82555 ...     AM    23326955069   \n",
       "3   MULTIPOLYGON (((-63.96008 2.47313, -63.96041 2...     RR     1115212928   \n",
       "4   MULTIPOLYGON (((-51.43248 -0.47334, -51.42949 ...     PA   263970069154   \n",
       "5   MULTIPOLYGON (((-50.45011 2.10924, -50.44715 2...     AP     5351723561   \n",
       "6   MULTIPOLYGON (((-48.23291 -5.94757, -48.23163 ...     TO    13939690229   \n",
       "7   MULTIPOLYGON (((-44.96620 -1.27114, -44.96081 ...     MA    55758419373   \n",
       "8   MULTIPOLYGON (((-42.91509 -6.64795, -42.91636 ...     PI     6226960276   \n",
       "9   MULTIPOLYGON (((-41.18292 -4.01797, -41.18552 ...     CE    31438706817   \n",
       "10  MULTIPOLYGON (((-37.04412 -4.81854, -37.04501 ...     RN     7689883342   \n",
       "11  MULTIPOLYGON (((-34.79576 -7.35000, -34.79601 ...     PB     3978335650   \n",
       "12  MULTIPOLYGON (((-32.39240 -3.82372, -32.39253 ...     PE    25361797119   \n",
       "13  MULTIPOLYGON (((-35.75791 -9.69285, -35.75801 ...     AL    14612565923   \n",
       "14  MULTIPOLYGON (((-36.91665 -10.84277, -36.91681...     SE     1857635447   \n",
       "15  MULTIPOLYGON (((-38.69616 -17.97901, -38.69618...     BA   168339530035   \n",
       "16  MULTIPOLYGON (((-50.74037 -19.21316, -50.74013...     MG   520915402408   \n",
       "17  MULTIPOLYGON (((-40.75189 -20.92722, -40.75193...     ES   175620500395   \n",
       "18  MULTIPOLYGON (((-41.82923 -22.78453, -41.82939...     RJ   379561493658   \n",
       "19  MULTIPOLYGON (((-48.03716 -25.35794, -48.03750...     SP  1049804691069   \n",
       "20  MULTIPOLYGON (((-48.40736 -25.84270, -48.40750...     PR   314925136150   \n",
       "21  MULTIPOLYGON (((-48.60084 -28.35222, -48.60096...     SC   168334101921   \n",
       "22  MULTIPOLYGON (((-49.70392 -29.34774, -49.70402...     RS   345742825925   \n",
       "23  MULTIPOLYGON (((-57.83371 -20.93628, -57.83553...     MS    73177239367   \n",
       "24  MULTIPOLYGON (((-61.54023 -10.00021, -61.54014...     MT   237293730561   \n",
       "25  MULTIPOLYGON (((-52.36102 -16.08160, -52.36040...     GO   109458665197   \n",
       "26  MULTIPOLYGON (((-47.41734 -15.54655, -47.41720...     DF     3507699826   \n",
       "\n",
       "      MKT  \n",
       "0    0.41  \n",
       "1    0.01  \n",
       "2    0.58  \n",
       "3    0.03  \n",
       "4    6.57  \n",
       "5    0.13  \n",
       "6    0.35  \n",
       "7    1.39  \n",
       "8    0.15  \n",
       "9    0.78  \n",
       "10   0.19  \n",
       "11   0.10  \n",
       "12   0.63  \n",
       "13   0.36  \n",
       "14   0.05  \n",
       "15   4.19  \n",
       "16  12.96  \n",
       "17   4.37  \n",
       "18   9.45  \n",
       "19  26.13  \n",
       "20   7.84  \n",
       "21   4.19  \n",
       "22   8.60  \n",
       "23   1.82  \n",
       "24   5.91  \n",
       "25   2.72  \n",
       "26   0.09  "
      ]
     },
     "execution_count": 14,
     "metadata": {},
     "output_type": "execute_result"
    }
   ],
   "source": [
    "br"
   ]
  },
  {
   "cell_type": "code",
   "execution_count": 16,
   "metadata": {},
   "outputs": [
    {
     "data": {
      "text/plain": [
       "Text(0.5, 1.0, 'maiores market share de todos anos')"
      ]
     },
     "execution_count": 16,
     "metadata": {},
     "output_type": "execute_result"
    },
    {
     "data": {
      "image/png": "[encoded data removed]",
      "text/plain": [
       "<Figure size 576x576 with 2 Axes>"
      ]
     },
     "metadata": {
      "needs_background": "light"
     },
     "output_type": "display_data"
    }
   ],
   "source": [
    "f,a = plt.subplots(figsize=(8,8))\n",
    "plt.suptitle('grafico')\n",
    "br.plot(ax=a, column='MKT', legend=True, legend_kwds={'label':'Market share (%)'})\n",
    "a.axis('off')\n",
    "a.set_title('maiores market share de todos anos')"
   ]
  },
  {
   "cell_type": "code",
   "execution_count": 89,
   "metadata": {},
   "outputs": [
    {
     "data": {
      "text/plain": [
       "Descricao\n",
       "Veículos automóveis, tratores, ciclos e outros veículos terrestres, suas partes e acessórios                                                                                                                    128082583494\n",
       "Reatores nucleares, caldeiras, máquinas, aparelhos e instrumentos mecânicos, e suas partes                                                                                                                      127567916572\n",
       "Açúcares e produtos de confeitaria                                                                                                                                                                              111338964011\n",
       "Aeronaves e aparelhos espaciais, e suas partes                                                                                                                                                                   82187144983\n",
       "Máquinas, aparelhos e materiais elétricos, e suas partes; aparelhos de gravação ou de reprodução de som, aparelhos de gravação ou de reprodução de imagens e de som em televisão, e suas partes e acessórios     54901689447\n",
       "Combustíveis minerais, óleos minerais e produtos da sua destilação; matérias betuminosas; ceras minerais                                                                                                         54456617387\n",
       "Preparações de produtos hortícolas, de frutas ou de outras partes de plantas                                                                                                                                     40697202794\n",
       "Carnes e miudezas, comestíveis                                                                                                                                                                                   35936979639\n",
       "Transações especiais                                                                                                                                                                                             26940143831\n",
       "Plásticos e suas obras                                                                                                                                                                                           25030542718\n",
       "Name: FOB, dtype: int64"
      ]
     },
     "execution_count": 89,
     "metadata": {},
     "output_type": "execute_result"
    }
   ],
   "source": [
    "df.query('Cod_UF == \"SP\"').groupby('Descricao')['FOB'].sum().sort_values(ascending=False)[:10]"
   ]
  },
  {
   "cell_type": "code",
   "execution_count": 94,
   "metadata": {},
   "outputs": [
    {
     "data": {
      "text/html": [
       "<div>\n",
       "<style scoped>\n",
       "    .dataframe tbody tr th:only-of-type {\n",
       "        vertical-align: middle;\n",
       "    }\n",
       "\n",
       "    .dataframe tbody tr th {\n",
       "        vertical-align: top;\n",
       "    }\n",
       "\n",
       "    .dataframe thead th {\n",
       "        text-align: right;\n",
       "    }\n",
       "</style>\n",
       "<table border=\"1\" class=\"dataframe\">\n",
       "  <thead>\n",
       "    <tr style=\"text-align: right;\">\n",
       "      <th></th>\n",
       "      <th>Cod_UF</th>\n",
       "      <th>FOB</th>\n",
       "      <th>MKT</th>\n",
       "    </tr>\n",
       "  </thead>\n",
       "  <tbody>\n",
       "    <tr>\n",
       "      <th>0</th>\n",
       "      <td>AC</td>\n",
       "      <td>420233626</td>\n",
       "      <td>0.01</td>\n",
       "    </tr>\n",
       "    <tr>\n",
       "      <th>1</th>\n",
       "      <td>RR</td>\n",
       "      <td>1115212928</td>\n",
       "      <td>0.03</td>\n",
       "    </tr>\n",
       "    <tr>\n",
       "      <th>2</th>\n",
       "      <td>SE</td>\n",
       "      <td>1857635447</td>\n",
       "      <td>0.05</td>\n",
       "    </tr>\n",
       "    <tr>\n",
       "      <th>3</th>\n",
       "      <td>DF</td>\n",
       "      <td>3507699826</td>\n",
       "      <td>0.09</td>\n",
       "    </tr>\n",
       "    <tr>\n",
       "      <th>4</th>\n",
       "      <td>PB</td>\n",
       "      <td>3978335650</td>\n",
       "      <td>0.10</td>\n",
       "    </tr>\n",
       "    <tr>\n",
       "      <th>5</th>\n",
       "      <td>AP</td>\n",
       "      <td>5351723561</td>\n",
       "      <td>0.13</td>\n",
       "    </tr>\n",
       "    <tr>\n",
       "      <th>6</th>\n",
       "      <td>PI</td>\n",
       "      <td>6226960276</td>\n",
       "      <td>0.15</td>\n",
       "    </tr>\n",
       "    <tr>\n",
       "      <th>7</th>\n",
       "      <td>RN</td>\n",
       "      <td>7689883342</td>\n",
       "      <td>0.19</td>\n",
       "    </tr>\n",
       "    <tr>\n",
       "      <th>8</th>\n",
       "      <td>TO</td>\n",
       "      <td>13939690229</td>\n",
       "      <td>0.35</td>\n",
       "    </tr>\n",
       "    <tr>\n",
       "      <th>9</th>\n",
       "      <td>AL</td>\n",
       "      <td>14612565923</td>\n",
       "      <td>0.36</td>\n",
       "    </tr>\n",
       "    <tr>\n",
       "      <th>10</th>\n",
       "      <td>RO</td>\n",
       "      <td>16289914131</td>\n",
       "      <td>0.41</td>\n",
       "    </tr>\n",
       "    <tr>\n",
       "      <th>11</th>\n",
       "      <td>AM</td>\n",
       "      <td>23326955069</td>\n",
       "      <td>0.58</td>\n",
       "    </tr>\n",
       "    <tr>\n",
       "      <th>12</th>\n",
       "      <td>PE</td>\n",
       "      <td>25361797119</td>\n",
       "      <td>0.63</td>\n",
       "    </tr>\n",
       "    <tr>\n",
       "      <th>13</th>\n",
       "      <td>CE</td>\n",
       "      <td>31438706817</td>\n",
       "      <td>0.78</td>\n",
       "    </tr>\n",
       "    <tr>\n",
       "      <th>14</th>\n",
       "      <td>MA</td>\n",
       "      <td>55758419373</td>\n",
       "      <td>1.39</td>\n",
       "    </tr>\n",
       "    <tr>\n",
       "      <th>15</th>\n",
       "      <td>MS</td>\n",
       "      <td>73177239367</td>\n",
       "      <td>1.82</td>\n",
       "    </tr>\n",
       "    <tr>\n",
       "      <th>16</th>\n",
       "      <td>GO</td>\n",
       "      <td>109458665197</td>\n",
       "      <td>2.72</td>\n",
       "    </tr>\n",
       "    <tr>\n",
       "      <th>17</th>\n",
       "      <td>SC</td>\n",
       "      <td>168334101921</td>\n",
       "      <td>4.19</td>\n",
       "    </tr>\n",
       "    <tr>\n",
       "      <th>18</th>\n",
       "      <td>BA</td>\n",
       "      <td>168339530035</td>\n",
       "      <td>4.19</td>\n",
       "    </tr>\n",
       "    <tr>\n",
       "      <th>19</th>\n",
       "      <td>ES</td>\n",
       "      <td>175620500395</td>\n",
       "      <td>4.37</td>\n",
       "    </tr>\n",
       "    <tr>\n",
       "      <th>20</th>\n",
       "      <td>MT</td>\n",
       "      <td>237293730561</td>\n",
       "      <td>5.91</td>\n",
       "    </tr>\n",
       "    <tr>\n",
       "      <th>21</th>\n",
       "      <td>PA</td>\n",
       "      <td>263970069154</td>\n",
       "      <td>6.57</td>\n",
       "    </tr>\n",
       "    <tr>\n",
       "      <th>22</th>\n",
       "      <td>PR</td>\n",
       "      <td>314925136150</td>\n",
       "      <td>7.84</td>\n",
       "    </tr>\n",
       "    <tr>\n",
       "      <th>23</th>\n",
       "      <td>RS</td>\n",
       "      <td>345742825925</td>\n",
       "      <td>8.60</td>\n",
       "    </tr>\n",
       "    <tr>\n",
       "      <th>24</th>\n",
       "      <td>RJ</td>\n",
       "      <td>379561493658</td>\n",
       "      <td>9.45</td>\n",
       "    </tr>\n",
       "    <tr>\n",
       "      <th>25</th>\n",
       "      <td>MG</td>\n",
       "      <td>520915402408</td>\n",
       "      <td>12.96</td>\n",
       "    </tr>\n",
       "    <tr>\n",
       "      <th>26</th>\n",
       "      <td>SP</td>\n",
       "      <td>1049804691069</td>\n",
       "      <td>26.13</td>\n",
       "    </tr>\n",
       "  </tbody>\n",
       "</table>\n",
       "</div>"
      ],
      "text/plain": [
       "   Cod_UF            FOB    MKT\n",
       "0      AC      420233626   0.01\n",
       "1      RR     1115212928   0.03\n",
       "2      SE     1857635447   0.05\n",
       "3      DF     3507699826   0.09\n",
       "4      PB     3978335650   0.10\n",
       "5      AP     5351723561   0.13\n",
       "6      PI     6226960276   0.15\n",
       "7      RN     7689883342   0.19\n",
       "8      TO    13939690229   0.35\n",
       "9      AL    14612565923   0.36\n",
       "10     RO    16289914131   0.41\n",
       "11     AM    23326955069   0.58\n",
       "12     PE    25361797119   0.63\n",
       "13     CE    31438706817   0.78\n",
       "14     MA    55758419373   1.39\n",
       "15     MS    73177239367   1.82\n",
       "16     GO   109458665197   2.72\n",
       "17     SC   168334101921   4.19\n",
       "18     BA   168339530035   4.19\n",
       "19     ES   175620500395   4.37\n",
       "20     MT   237293730561   5.91\n",
       "21     PA   263970069154   6.57\n",
       "22     PR   314925136150   7.84\n",
       "23     RS   345742825925   8.60\n",
       "24     RJ   379561493658   9.45\n",
       "25     MG   520915402408  12.96\n",
       "26     SP  1049804691069  26.13"
      ]
     },
     "execution_count": 94,
     "metadata": {},
     "output_type": "execute_result"
    }
   ],
   "source": [
    "mktdf"
   ]
  },
  {
   "cell_type": "code",
   "execution_count": 111,
   "metadata": {},
   "outputs": [
    {
     "data": {
      "application/vnd.plotly.v1+json": {
       "config": {
        "plotlyServerURL": "https://plot.ly"
       },
       "data": [
        {
         "alignmentgroup": "True",
         "hovertemplate": "<b>%{hovertext}</b><br><br><extra></extra>",
         "hovertext": [
          0.01,
          0.03,
          0.05,
          0.09,
          0.1,
          0.13,
          0.15,
          0.19,
          0.35,
          0.36,
          0.41,
          0.58,
          0.63,
          0.78,
          1.39,
          1.82,
          2.72,
          4.19,
          4.19,
          4.37,
          5.91,
          6.57,
          7.84,
          8.6,
          9.45,
          12.96,
          26.13
         ],
         "legendgroup": "",
         "marker": {
          "color": "#636efa",
          "pattern": {
           "shape": ""
          }
         },
         "name": "",
         "offsetgroup": "",
         "orientation": "v",
         "showlegend": false,
         "textposition": "auto",
         "type": "bar",
         "x": [
          "AC",
          "RR",
          "SE",
          "DF",
          "PB",
          "AP",
          "PI",
          "RN",
          "TO",
          "AL",
          "RO",
          "AM",
          "PE",
          "CE",
          "MA",
          "MS",
          "GO",
          "SC",
          "BA",
          "ES",
          "MT",
          "PA",
          "PR",
          "RS",
          "RJ",
          "MG",
          "SP"
         ],
         "xaxis": "x",
         "y": [
          0.01,
          0.03,
          0.05,
          0.09,
          0.1,
          0.13,
          0.15,
          0.19,
          0.35,
          0.36,
          0.41,
          0.58,
          0.63,
          0.78,
          1.39,
          1.82,
          2.72,
          4.19,
          4.19,
          4.37,
          5.91,
          6.57,
          7.84,
          8.6,
          9.45,
          12.96,
          26.13
         ],
         "yaxis": "y"
        }
       ],
       "layout": {
        "barmode": "relative",
        "legend": {
         "tracegroupgap": 0
        },
        "margin": {
         "t": 60
        },
        "template": {
         "data": {
          "bar": [
           {
            "error_x": {
             "color": "#2a3f5f"
            },
            "error_y": {
             "color": "#2a3f5f"
            },
            "marker": {
             "line": {
              "color": "#E5ECF6",
              "width": 0.5
             },
             "pattern": {
              "fillmode": "overlay",
              "size": 10,
              "solidity": 0.2
             }
            },
            "type": "bar"
           }
          ],
          "barpolar": [
           {
            "marker": {
             "line": {
              "color": "#E5ECF6",
              "width": 0.5
             },
             "pattern": {
              "fillmode": "overlay",
              "size": 10,
              "solidity": 0.2
             }
            },
            "type": "barpolar"
           }
          ],
          "carpet": [
           {
            "aaxis": {
             "endlinecolor": "#2a3f5f",
             "gridcolor": "white",
             "linecolor": "white",
             "minorgridcolor": "white",
             "startlinecolor": "#2a3f5f"
            },
            "baxis": {
             "endlinecolor": "#2a3f5f",
             "gridcolor": "white",
             "linecolor": "white",
             "minorgridcolor": "white",
             "startlinecolor": "#2a3f5f"
            },
            "type": "carpet"
           }
          ],
          "choropleth": [
           {
            "colorbar": {
             "outlinewidth": 0,
             "ticks": ""
            },
            "type": "choropleth"
           }
          ],
          "contour": [
           {
            "colorbar": {
             "outlinewidth": 0,
             "ticks": ""
            },
            "colorscale": [
             [
              0,
              "#0d0887"
             ],
             [
              0.1111111111111111,
              "#46039f"
             ],
             [
              0.2222222222222222,
              "#7201a8"
             ],
             [
              0.3333333333333333,
              "#9c179e"
             ],
             [
              0.4444444444444444,
              "#bd3786"
             ],
             [
              0.5555555555555556,
              "#d8576b"
             ],
             [
              0.6666666666666666,
              "#ed7953"
             ],
             [
              0.7777777777777778,
              "#fb9f3a"
             ],
             [
              0.8888888888888888,
              "#fdca26"
             ],
             [
              1,
              "#f0f921"
             ]
            ],
            "type": "contour"
           }
          ],
          "contourcarpet": [
           {
            "colorbar": {
             "outlinewidth": 0,
             "ticks": ""
            },
            "type": "contourcarpet"
           }
          ],
          "heatmap": [
           {
            "colorbar": {
             "outlinewidth": 0,
             "ticks": ""
            },
            "colorscale": [
             [
              0,
              "#0d0887"
             ],
             [
              0.1111111111111111,
              "#46039f"
             ],
             [
              0.2222222222222222,
              "#7201a8"
             ],
             [
              0.3333333333333333,
              "#9c179e"
             ],
             [
              0.4444444444444444,
              "#bd3786"
             ],
             [
              0.5555555555555556,
              "#d8576b"
             ],
             [
              0.6666666666666666,
              "#ed7953"
             ],
             [
              0.7777777777777778,
              "#fb9f3a"
             ],
             [
              0.8888888888888888,
              "#fdca26"
             ],
             [
              1,
              "#f0f921"
             ]
            ],
            "type": "heatmap"
           }
          ],
          "heatmapgl": [
           {
            "colorbar": {
             "outlinewidth": 0,
             "ticks": ""
            },
            "colorscale": [
             [
              0,
              "#0d0887"
             ],
             [
              0.1111111111111111,
              "#46039f"
             ],
             [
              0.2222222222222222,
              "#7201a8"
             ],
             [
              0.3333333333333333,
              "#9c179e"
             ],
             [
              0.4444444444444444,
              "#bd3786"
             ],
             [
              0.5555555555555556,
              "#d8576b"
             ],
             [
              0.6666666666666666,
              "#ed7953"
             ],
             [
              0.7777777777777778,
              "#fb9f3a"
             ],
             [
              0.8888888888888888,
              "#fdca26"
             ],
             [
              1,
              "#f0f921"
             ]
            ],
            "type": "heatmapgl"
           }
          ],
          "histogram": [
           {
            "marker": {
             "pattern": {
              "fillmode": "overlay",
              "size": 10,
              "solidity": 0.2
             }
            },
            "type": "histogram"
           }
          ],
          "histogram2d": [
           {
            "colorbar": {
             "outlinewidth": 0,
             "ticks": ""
            },
            "colorscale": [
             [
              0,
              "#0d0887"
             ],
             [
              0.1111111111111111,
              "#46039f"
             ],
             [
              0.2222222222222222,
              "#7201a8"
             ],
             [
              0.3333333333333333,
              "#9c179e"
             ],
             [
              0.4444444444444444,
              "#bd3786"
             ],
             [
              0.5555555555555556,
              "#d8576b"
             ],
             [
              0.6666666666666666,
              "#ed7953"
             ],
             [
              0.7777777777777778,
              "#fb9f3a"
             ],
             [
              0.8888888888888888,
              "#fdca26"
             ],
             [
              1,
              "#f0f921"
             ]
            ],
            "type": "histogram2d"
           }
          ],
          "histogram2dcontour": [
           {
            "colorbar": {
             "outlinewidth": 0,
             "ticks": ""
            },
            "colorscale": [
             [
              0,
              "#0d0887"
             ],
             [
              0.1111111111111111,
              "#46039f"
             ],
             [
              0.2222222222222222,
              "#7201a8"
             ],
             [
              0.3333333333333333,
              "#9c179e"
             ],
             [
              0.4444444444444444,
              "#bd3786"
             ],
             [
              0.5555555555555556,
              "#d8576b"
             ],
             [
              0.6666666666666666,
              "#ed7953"
             ],
             [
              0.7777777777777778,
              "#fb9f3a"
             ],
             [
              0.8888888888888888,
              "#fdca26"
             ],
             [
              1,
              "#f0f921"
             ]
            ],
            "type": "histogram2dcontour"
           }
          ],
          "mesh3d": [
           {
            "colorbar": {
             "outlinewidth": 0,
             "ticks": ""
            },
            "type": "mesh3d"
           }
          ],
          "parcoords": [
           {
            "line": {
             "colorbar": {
              "outlinewidth": 0,
              "ticks": ""
             }
            },
            "type": "parcoords"
           }
          ],
          "pie": [
           {
            "automargin": true,
            "type": "pie"
           }
          ],
          "scatter": [
           {
            "fillpattern": {
             "fillmode": "overlay",
             "size": 10,
             "solidity": 0.2
            },
            "type": "scatter"
           }
          ],
          "scatter3d": [
           {
            "line": {
             "colorbar": {
              "outlinewidth": 0,
              "ticks": ""
             }
            },
            "marker": {
             "colorbar": {
              "outlinewidth": 0,
              "ticks": ""
             }
            },
            "type": "scatter3d"
           }
          ],
          "scattercarpet": [
           {
            "marker": {
             "colorbar": {
              "outlinewidth": 0,
              "ticks": ""
             }
            },
            "type": "scattercarpet"
           }
          ],
          "scattergeo": [
           {
            "marker": {
             "colorbar": {
              "outlinewidth": 0,
              "ticks": ""
             }
            },
            "type": "scattergeo"
           }
          ],
          "scattergl": [
           {
            "marker": {
             "colorbar": {
              "outlinewidth": 0,
              "ticks": ""
             }
            },
            "type": "scattergl"
           }
          ],
          "scattermapbox": [
           {
            "marker": {
             "colorbar": {
              "outlinewidth": 0,
              "ticks": ""
             }
            },
            "type": "scattermapbox"
           }
          ],
          "scatterpolar": [
           {
            "marker": {
             "colorbar": {
              "outlinewidth": 0,
              "ticks": ""
             }
            },
            "type": "scatterpolar"
           }
          ],
          "scatterpolargl": [
           {
            "marker": {
             "colorbar": {
              "outlinewidth": 0,
              "ticks": ""
             }
            },
            "type": "scatterpolargl"
           }
          ],
          "scatterternary": [
           {
            "marker": {
             "colorbar": {
              "outlinewidth": 0,
              "ticks": ""
             }
            },
            "type": "scatterternary"
           }
          ],
          "surface": [
           {
            "colorbar": {
             "outlinewidth": 0,
             "ticks": ""
            },
            "colorscale": [
             [
              0,
              "#0d0887"
             ],
             [
              0.1111111111111111,
              "#46039f"
             ],
             [
              0.2222222222222222,
              "#7201a8"
             ],
             [
              0.3333333333333333,
              "#9c179e"
             ],
             [
              0.4444444444444444,
              "#bd3786"
             ],
             [
              0.5555555555555556,
              "#d8576b"
             ],
             [
              0.6666666666666666,
              "#ed7953"
             ],
             [
              0.7777777777777778,
              "#fb9f3a"
             ],
             [
              0.8888888888888888,
              "#fdca26"
             ],
             [
              1,
              "#f0f921"
             ]
            ],
            "type": "surface"
           }
          ],
          "table": [
           {
            "cells": {
             "fill": {
              "color": "#EBF0F8"
             },
             "line": {
              "color": "white"
             }
            },
            "header": {
             "fill": {
              "color": "#C8D4E3"
             },
             "line": {
              "color": "white"
             }
            },
            "type": "table"
           }
          ]
         },
         "layout": {
          "annotationdefaults": {
           "arrowcolor": "#2a3f5f",
           "arrowhead": 0,
           "arrowwidth": 1
          },
          "autotypenumbers": "strict",
          "coloraxis": {
           "colorbar": {
            "outlinewidth": 0,
            "ticks": ""
           }
          },
          "colorscale": {
           "diverging": [
            [
             0,
             "#8e0152"
            ],
            [
             0.1,
             "#c51b7d"
            ],
            [
             0.2,
             "#de77ae"
            ],
            [
             0.3,
             "#f1b6da"
            ],
            [
             0.4,
             "#fde0ef"
            ],
            [
             0.5,
             "#f7f7f7"
            ],
            [
             0.6,
             "#e6f5d0"
            ],
            [
             0.7,
             "#b8e186"
            ],
            [
             0.8,
             "#7fbc41"
            ],
            [
             0.9,
             "#4d9221"
            ],
            [
             1,
             "#276419"
            ]
           ],
           "sequential": [
            [
             0,
             "#0d0887"
            ],
            [
             0.1111111111111111,
             "#46039f"
            ],
            [
             0.2222222222222222,
             "#7201a8"
            ],
            [
             0.3333333333333333,
             "#9c179e"
            ],
            [
             0.4444444444444444,
             "#bd3786"
            ],
            [
             0.5555555555555556,
             "#d8576b"
            ],
            [
             0.6666666666666666,
             "#ed7953"
            ],
            [
             0.7777777777777778,
             "#fb9f3a"
            ],
            [
             0.8888888888888888,
             "#fdca26"
            ],
            [
             1,
             "#f0f921"
            ]
           ],
           "sequentialminus": [
            [
             0,
             "#0d0887"
            ],
            [
             0.1111111111111111,
             "#46039f"
            ],
            [
             0.2222222222222222,
             "#7201a8"
            ],
            [
             0.3333333333333333,
             "#9c179e"
            ],
            [
             0.4444444444444444,
             "#bd3786"
            ],
            [
             0.5555555555555556,
             "#d8576b"
            ],
            [
             0.6666666666666666,
             "#ed7953"
            ],
            [
             0.7777777777777778,
             "#fb9f3a"
            ],
            [
             0.8888888888888888,
             "#fdca26"
            ],
            [
             1,
             "#f0f921"
            ]
           ]
          },
          "colorway": [
           "#636efa",
           "#EF553B",
           "#00cc96",
           "#ab63fa",
           "#FFA15A",
           "#19d3f3",
           "#FF6692",
           "#B6E880",
           "#FF97FF",
           "#FECB52"
          ],
          "font": {
           "color": "#2a3f5f"
          },
          "geo": {
           "bgcolor": "white",
           "lakecolor": "white",
           "landcolor": "#E5ECF6",
           "showlakes": true,
           "showland": true,
           "subunitcolor": "white"
          },
          "hoverlabel": {
           "align": "left"
          },
          "hovermode": "closest",
          "mapbox": {
           "style": "light"
          },
          "paper_bgcolor": "white",
          "plot_bgcolor": "#E5ECF6",
          "polar": {
           "angularaxis": {
            "gridcolor": "white",
            "linecolor": "white",
            "ticks": ""
           },
           "bgcolor": "#E5ECF6",
           "radialaxis": {
            "gridcolor": "white",
            "linecolor": "white",
            "ticks": ""
           }
          },
          "scene": {
           "xaxis": {
            "backgroundcolor": "#E5ECF6",
            "gridcolor": "white",
            "gridwidth": 2,
            "linecolor": "white",
            "showbackground": true,
            "ticks": "",
            "zerolinecolor": "white"
           },
           "yaxis": {
            "backgroundcolor": "#E5ECF6",
            "gridcolor": "white",
            "gridwidth": 2,
            "linecolor": "white",
            "showbackground": true,
            "ticks": "",
            "zerolinecolor": "white"
           },
           "zaxis": {
            "backgroundcolor": "#E5ECF6",
            "gridcolor": "white",
            "gridwidth": 2,
            "linecolor": "white",
            "showbackground": true,
            "ticks": "",
            "zerolinecolor": "white"
           }
          },
          "shapedefaults": {
           "line": {
            "color": "#2a3f5f"
           }
          },
          "ternary": {
           "aaxis": {
            "gridcolor": "white",
            "linecolor": "white",
            "ticks": ""
           },
           "baxis": {
            "gridcolor": "white",
            "linecolor": "white",
            "ticks": ""
           },
           "bgcolor": "#E5ECF6",
           "caxis": {
            "gridcolor": "white",
            "linecolor": "white",
            "ticks": ""
           }
          },
          "title": {
           "x": 0.05
          },
          "xaxis": {
           "automargin": true,
           "gridcolor": "white",
           "linecolor": "white",
           "ticks": "",
           "title": {
            "standoff": 15
           },
           "zerolinecolor": "white",
           "zerolinewidth": 2
          },
          "yaxis": {
           "automargin": true,
           "gridcolor": "white",
           "linecolor": "white",
           "ticks": "",
           "title": {
            "standoff": 15
           },
           "zerolinecolor": "white",
           "zerolinewidth": 2
          }
         }
        },
        "xaxis": {
         "anchor": "y",
         "domain": [
          0,
          1
         ],
         "title": {
          "text": "Cod_UF"
         }
        },
        "yaxis": {
         "anchor": "x",
         "domain": [
          0,
          1
         ],
         "title": {
          "text": "MKT"
         }
        }
       }
      }
     },
     "metadata": {},
     "output_type": "display_data"
    }
   ],
   "source": [
    "px.bar(mktdf, y='MKT', x='Cod_UF', hover_name='MKT', hover_data={'MKT':False, 'Cod_UF':False})"
   ]
  },
  {
   "cell_type": "code",
   "execution_count": 115,
   "metadata": {},
   "outputs": [
    {
     "data": {
      "text/plain": [
       "{'Cod_UF': False, 'FOB': False, 'MKT': False}"
      ]
     },
     "execution_count": 115,
     "metadata": {},
     "output_type": "execute_result"
    }
   ],
   "source": [
    "c={}\n",
    "for i in mktdf.columns:\n",
    "    c[i] = False\n",
    "c"
   ]
  },
  {
   "cell_type": "code",
   "execution_count": 116,
   "metadata": {},
   "outputs": [
    {
     "data": {
      "application/vnd.plotly.v1+json": {
       "config": {
        "plotlyServerURL": "https://plot.ly"
       },
       "data": [
        {
         "alignmentgroup": "True",
         "customdata": [
          [
           420233626
          ],
          [
           1115212928
          ],
          [
           1857635447
          ],
          [
           3507699826
          ],
          [
           3978335650
          ],
          [
           5351723561
          ],
          [
           6226960276
          ],
          [
           7689883342
          ],
          [
           13939690229
          ],
          [
           14612565923
          ],
          [
           16289914131
          ],
          [
           23326955069
          ],
          [
           25361797119
          ],
          [
           31438706817
          ],
          [
           55758419373
          ],
          [
           73177239367
          ],
          [
           109458665197
          ],
          [
           168334101921
          ],
          [
           168339530035
          ],
          [
           175620500395
          ],
          [
           237293730561
          ],
          [
           263970069154
          ],
          [
           314925136150
          ],
          [
           345742825925
          ],
          [
           379561493658
          ],
          [
           520915402408
          ],
          [
           1049804691069
          ]
         ],
         "hovertemplate": "<b>%{hovertext}</b><br><br><extra></extra>",
         "hovertext": [
          0.01,
          0.03,
          0.05,
          0.09,
          0.1,
          0.13,
          0.15,
          0.19,
          0.35,
          0.36,
          0.41,
          0.58,
          0.63,
          0.78,
          1.39,
          1.82,
          2.72,
          4.19,
          4.19,
          4.37,
          5.91,
          6.57,
          7.84,
          8.6,
          9.45,
          12.96,
          26.13
         ],
         "legendgroup": "",
         "marker": {
          "color": "#636efa",
          "pattern": {
           "shape": ""
          }
         },
         "name": "",
         "offsetgroup": "",
         "orientation": "v",
         "showlegend": false,
         "textposition": "auto",
         "type": "bar",
         "x": [
          "AC",
          "RR",
          "SE",
          "DF",
          "PB",
          "AP",
          "PI",
          "RN",
          "TO",
          "AL",
          "RO",
          "AM",
          "PE",
          "CE",
          "MA",
          "MS",
          "GO",
          "SC",
          "BA",
          "ES",
          "MT",
          "PA",
          "PR",
          "RS",
          "RJ",
          "MG",
          "SP"
         ],
         "xaxis": "x",
         "y": [
          0.01,
          0.03,
          0.05,
          0.09,
          0.1,
          0.13,
          0.15,
          0.19,
          0.35,
          0.36,
          0.41,
          0.58,
          0.63,
          0.78,
          1.39,
          1.82,
          2.72,
          4.19,
          4.19,
          4.37,
          5.91,
          6.57,
          7.84,
          8.6,
          9.45,
          12.96,
          26.13
         ],
         "yaxis": "y"
        }
       ],
       "layout": {
        "barmode": "relative",
        "legend": {
         "tracegroupgap": 0
        },
        "margin": {
         "t": 60
        },
        "template": {
         "data": {
          "bar": [
           {
            "error_x": {
             "color": "#2a3f5f"
            },
            "error_y": {
             "color": "#2a3f5f"
            },
            "marker": {
             "line": {
              "color": "#E5ECF6",
              "width": 0.5
             },
             "pattern": {
              "fillmode": "overlay",
              "size": 10,
              "solidity": 0.2
             }
            },
            "type": "bar"
           }
          ],
          "barpolar": [
           {
            "marker": {
             "line": {
              "color": "#E5ECF6",
              "width": 0.5
             },
             "pattern": {
              "fillmode": "overlay",
              "size": 10,
              "solidity": 0.2
             }
            },
            "type": "barpolar"
           }
          ],
          "carpet": [
           {
            "aaxis": {
             "endlinecolor": "#2a3f5f",
             "gridcolor": "white",
             "linecolor": "white",
             "minorgridcolor": "white",
             "startlinecolor": "#2a3f5f"
            },
            "baxis": {
             "endlinecolor": "#2a3f5f",
             "gridcolor": "white",
             "linecolor": "white",
             "minorgridcolor": "white",
             "startlinecolor": "#2a3f5f"
            },
            "type": "carpet"
           }
          ],
          "choropleth": [
           {
            "colorbar": {
             "outlinewidth": 0,
             "ticks": ""
            },
            "type": "choropleth"
           }
          ],
          "contour": [
           {
            "colorbar": {
             "outlinewidth": 0,
             "ticks": ""
            },
            "colorscale": [
             [
              0,
              "#0d0887"
             ],
             [
              0.1111111111111111,
              "#46039f"
             ],
             [
              0.2222222222222222,
              "#7201a8"
             ],
             [
              0.3333333333333333,
              "#9c179e"
             ],
             [
              0.4444444444444444,
              "#bd3786"
             ],
             [
              0.5555555555555556,
              "#d8576b"
             ],
             [
              0.6666666666666666,
              "#ed7953"
             ],
             [
              0.7777777777777778,
              "#fb9f3a"
             ],
             [
              0.8888888888888888,
              "#fdca26"
             ],
             [
              1,
              "#f0f921"
             ]
            ],
            "type": "contour"
           }
          ],
          "contourcarpet": [
           {
            "colorbar": {
             "outlinewidth": 0,
             "ticks": ""
            },
            "type": "contourcarpet"
           }
          ],
          "heatmap": [
           {
            "colorbar": {
             "outlinewidth": 0,
             "ticks": ""
            },
            "colorscale": [
             [
              0,
              "#0d0887"
             ],
             [
              0.1111111111111111,
              "#46039f"
             ],
             [
              0.2222222222222222,
              "#7201a8"
             ],
             [
              0.3333333333333333,
              "#9c179e"
             ],
             [
              0.4444444444444444,
              "#bd3786"
             ],
             [
              0.5555555555555556,
              "#d8576b"
             ],
             [
              0.6666666666666666,
              "#ed7953"
             ],
             [
              0.7777777777777778,
              "#fb9f3a"
             ],
             [
              0.8888888888888888,
              "#fdca26"
             ],
             [
              1,
              "#f0f921"
             ]
            ],
            "type": "heatmap"
           }
          ],
          "heatmapgl": [
           {
            "colorbar": {
             "outlinewidth": 0,
             "ticks": ""
            },
            "colorscale": [
             [
              0,
              "#0d0887"
             ],
             [
              0.1111111111111111,
              "#46039f"
             ],
             [
              0.2222222222222222,
              "#7201a8"
             ],
             [
              0.3333333333333333,
              "#9c179e"
             ],
             [
              0.4444444444444444,
              "#bd3786"
             ],
             [
              0.5555555555555556,
              "#d8576b"
             ],
             [
              0.6666666666666666,
              "#ed7953"
             ],
             [
              0.7777777777777778,
              "#fb9f3a"
             ],
             [
              0.8888888888888888,
              "#fdca26"
             ],
             [
              1,
              "#f0f921"
             ]
            ],
            "type": "heatmapgl"
           }
          ],
          "histogram": [
           {
            "marker": {
             "pattern": {
              "fillmode": "overlay",
              "size": 10,
              "solidity": 0.2
             }
            },
            "type": "histogram"
           }
          ],
          "histogram2d": [
           {
            "colorbar": {
             "outlinewidth": 0,
             "ticks": ""
            },
            "colorscale": [
             [
              0,
              "#0d0887"
             ],
             [
              0.1111111111111111,
              "#46039f"
             ],
             [
              0.2222222222222222,
              "#7201a8"
             ],
             [
              0.3333333333333333,
              "#9c179e"
             ],
             [
              0.4444444444444444,
              "#bd3786"
             ],
             [
              0.5555555555555556,
              "#d8576b"
             ],
             [
              0.6666666666666666,
              "#ed7953"
             ],
             [
              0.7777777777777778,
              "#fb9f3a"
             ],
             [
              0.8888888888888888,
              "#fdca26"
             ],
             [
              1,
              "#f0f921"
             ]
            ],
            "type": "histogram2d"
           }
          ],
          "histogram2dcontour": [
           {
            "colorbar": {
             "outlinewidth": 0,
             "ticks": ""
            },
            "colorscale": [
             [
              0,
              "#0d0887"
             ],
             [
              0.1111111111111111,
              "#46039f"
             ],
             [
              0.2222222222222222,
              "#7201a8"
             ],
             [
              0.3333333333333333,
              "#9c179e"
             ],
             [
              0.4444444444444444,
              "#bd3786"
             ],
             [
              0.5555555555555556,
              "#d8576b"
             ],
             [
              0.6666666666666666,
              "#ed7953"
             ],
             [
              0.7777777777777778,
              "#fb9f3a"
             ],
             [
              0.8888888888888888,
              "#fdca26"
             ],
             [
              1,
              "#f0f921"
             ]
            ],
            "type": "histogram2dcontour"
           }
          ],
          "mesh3d": [
           {
            "colorbar": {
             "outlinewidth": 0,
             "ticks": ""
            },
            "type": "mesh3d"
           }
          ],
          "parcoords": [
           {
            "line": {
             "colorbar": {
              "outlinewidth": 0,
              "ticks": ""
             }
            },
            "type": "parcoords"
           }
          ],
          "pie": [
           {
            "automargin": true,
            "type": "pie"
           }
          ],
          "scatter": [
           {
            "fillpattern": {
             "fillmode": "overlay",
             "size": 10,
             "solidity": 0.2
            },
            "type": "scatter"
           }
          ],
          "scatter3d": [
           {
            "line": {
             "colorbar": {
              "outlinewidth": 0,
              "ticks": ""
             }
            },
            "marker": {
             "colorbar": {
              "outlinewidth": 0,
              "ticks": ""
             }
            },
            "type": "scatter3d"
           }
          ],
          "scattercarpet": [
           {
            "marker": {
             "colorbar": {
              "outlinewidth": 0,
              "ticks": ""
             }
            },
            "type": "scattercarpet"
           }
          ],
          "scattergeo": [
           {
            "marker": {
             "colorbar": {
              "outlinewidth": 0,
              "ticks": ""
             }
            },
            "type": "scattergeo"
           }
          ],
          "scattergl": [
           {
            "marker": {
             "colorbar": {
              "outlinewidth": 0,
              "ticks": ""
             }
            },
            "type": "scattergl"
           }
          ],
          "scattermapbox": [
           {
            "marker": {
             "colorbar": {
              "outlinewidth": 0,
              "ticks": ""
             }
            },
            "type": "scattermapbox"
           }
          ],
          "scatterpolar": [
           {
            "marker": {
             "colorbar": {
              "outlinewidth": 0,
              "ticks": ""
             }
            },
            "type": "scatterpolar"
           }
          ],
          "scatterpolargl": [
           {
            "marker": {
             "colorbar": {
              "outlinewidth": 0,
              "ticks": ""
             }
            },
            "type": "scatterpolargl"
           }
          ],
          "scatterternary": [
           {
            "marker": {
             "colorbar": {
              "outlinewidth": 0,
              "ticks": ""
             }
            },
            "type": "scatterternary"
           }
          ],
          "surface": [
           {
            "colorbar": {
             "outlinewidth": 0,
             "ticks": ""
            },
            "colorscale": [
             [
              0,
              "#0d0887"
             ],
             [
              0.1111111111111111,
              "#46039f"
             ],
             [
              0.2222222222222222,
              "#7201a8"
             ],
             [
              0.3333333333333333,
              "#9c179e"
             ],
             [
              0.4444444444444444,
              "#bd3786"
             ],
             [
              0.5555555555555556,
              "#d8576b"
             ],
             [
              0.6666666666666666,
              "#ed7953"
             ],
             [
              0.7777777777777778,
              "#fb9f3a"
             ],
             [
              0.8888888888888888,
              "#fdca26"
             ],
             [
              1,
              "#f0f921"
             ]
            ],
            "type": "surface"
           }
          ],
          "table": [
           {
            "cells": {
             "fill": {
              "color": "#EBF0F8"
             },
             "line": {
              "color": "white"
             }
            },
            "header": {
             "fill": {
              "color": "#C8D4E3"
             },
             "line": {
              "color": "white"
             }
            },
            "type": "table"
           }
          ]
         },
         "layout": {
          "annotationdefaults": {
           "arrowcolor": "#2a3f5f",
           "arrowhead": 0,
           "arrowwidth": 1
          },
          "autotypenumbers": "strict",
          "coloraxis": {
           "colorbar": {
            "outlinewidth": 0,
            "ticks": ""
           }
          },
          "colorscale": {
           "diverging": [
            [
             0,
             "#8e0152"
            ],
            [
             0.1,
             "#c51b7d"
            ],
            [
             0.2,
             "#de77ae"
            ],
            [
             0.3,
             "#f1b6da"
            ],
            [
             0.4,
             "#fde0ef"
            ],
            [
             0.5,
             "#f7f7f7"
            ],
            [
             0.6,
             "#e6f5d0"
            ],
            [
             0.7,
             "#b8e186"
            ],
            [
             0.8,
             "#7fbc41"
            ],
            [
             0.9,
             "#4d9221"
            ],
            [
             1,
             "#276419"
            ]
           ],
           "sequential": [
            [
             0,
             "#0d0887"
            ],
            [
             0.1111111111111111,
             "#46039f"
            ],
            [
             0.2222222222222222,
             "#7201a8"
            ],
            [
             0.3333333333333333,
             "#9c179e"
            ],
            [
             0.4444444444444444,
             "#bd3786"
            ],
            [
             0.5555555555555556,
             "#d8576b"
            ],
            [
             0.6666666666666666,
             "#ed7953"
            ],
            [
             0.7777777777777778,
             "#fb9f3a"
            ],
            [
             0.8888888888888888,
             "#fdca26"
            ],
            [
             1,
             "#f0f921"
            ]
           ],
           "sequentialminus": [
            [
             0,
             "#0d0887"
            ],
            [
             0.1111111111111111,
             "#46039f"
            ],
            [
             0.2222222222222222,
             "#7201a8"
            ],
            [
             0.3333333333333333,
             "#9c179e"
            ],
            [
             0.4444444444444444,
             "#bd3786"
            ],
            [
             0.5555555555555556,
             "#d8576b"
            ],
            [
             0.6666666666666666,
             "#ed7953"
            ],
            [
             0.7777777777777778,
             "#fb9f3a"
            ],
            [
             0.8888888888888888,
             "#fdca26"
            ],
            [
             1,
             "#f0f921"
            ]
           ]
          },
          "colorway": [
           "#636efa",
           "#EF553B",
           "#00cc96",
           "#ab63fa",
           "#FFA15A",
           "#19d3f3",
           "#FF6692",
           "#B6E880",
           "#FF97FF",
           "#FECB52"
          ],
          "font": {
           "color": "#2a3f5f"
          },
          "geo": {
           "bgcolor": "white",
           "lakecolor": "white",
           "landcolor": "#E5ECF6",
           "showlakes": true,
           "showland": true,
           "subunitcolor": "white"
          },
          "hoverlabel": {
           "align": "left"
          },
          "hovermode": "closest",
          "mapbox": {
           "style": "light"
          },
          "paper_bgcolor": "white",
          "plot_bgcolor": "#E5ECF6",
          "polar": {
           "angularaxis": {
            "gridcolor": "white",
            "linecolor": "white",
            "ticks": ""
           },
           "bgcolor": "#E5ECF6",
           "radialaxis": {
            "gridcolor": "white",
            "linecolor": "white",
            "ticks": ""
           }
          },
          "scene": {
           "xaxis": {
            "backgroundcolor": "#E5ECF6",
            "gridcolor": "white",
            "gridwidth": 2,
            "linecolor": "white",
            "showbackground": true,
            "ticks": "",
            "zerolinecolor": "white"
           },
           "yaxis": {
            "backgroundcolor": "#E5ECF6",
            "gridcolor": "white",
            "gridwidth": 2,
            "linecolor": "white",
            "showbackground": true,
            "ticks": "",
            "zerolinecolor": "white"
           },
           "zaxis": {
            "backgroundcolor": "#E5ECF6",
            "gridcolor": "white",
            "gridwidth": 2,
            "linecolor": "white",
            "showbackground": true,
            "ticks": "",
            "zerolinecolor": "white"
           }
          },
          "shapedefaults": {
           "line": {
            "color": "#2a3f5f"
           }
          },
          "ternary": {
           "aaxis": {
            "gridcolor": "white",
            "linecolor": "white",
            "ticks": ""
           },
           "baxis": {
            "gridcolor": "white",
            "linecolor": "white",
            "ticks": ""
           },
           "bgcolor": "#E5ECF6",
           "caxis": {
            "gridcolor": "white",
            "linecolor": "white",
            "ticks": ""
           }
          },
          "title": {
           "x": 0.05
          },
          "xaxis": {
           "automargin": true,
           "gridcolor": "white",
           "linecolor": "white",
           "ticks": "",
           "title": {
            "standoff": 15
           },
           "zerolinecolor": "white",
           "zerolinewidth": 2
          },
          "yaxis": {
           "automargin": true,
           "gridcolor": "white",
           "linecolor": "white",
           "ticks": "",
           "title": {
            "standoff": 15
           },
           "zerolinecolor": "white",
           "zerolinewidth": 2
          }
         }
        },
        "xaxis": {
         "anchor": "y",
         "domain": [
          0,
          1
         ],
         "title": {
          "text": "Cod_UF"
         }
        },
        "yaxis": {
         "anchor": "x",
         "domain": [
          0,
          1
         ],
         "title": {
          "text": "MKT"
         }
        }
       }
      }
     },
     "metadata": {},
     "output_type": "display_data"
    }
   ],
   "source": [
    "px.bar(mktdf, y='MKT', x='Cod_UF', hover_name='MKT', hover_data=c)"
   ]
  }
 ],
 "metadata": {
  "kernelspec": {
   "display_name": "Python 3.8.10 64-bit",
   "language": "python",
   "name": "python3"
  },
  "language_info": {
   "codemirror_mode": {
    "name": "ipython",
    "version": 3
   },
   "file_extension": ".py",
   "mimetype": "text/x-python",
   "name": "python",
   "nbconvert_exporter": "python",
   "pygments_lexer": "ipython3",
   "version": "3.8.10"
  },
  "orig_nbformat": 4,
  "vscode": {
   "interpreter": {
    "hash": "916dbcbb3f70747c44a77c7bcd40155683ae19c65e1c03b4aa3499c5328201f1"
   }
  }
 },
 "nbformat": 4,
 "nbformat_minor": 2
}
